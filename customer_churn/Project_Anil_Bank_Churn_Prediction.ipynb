<!DOCTYPE html>
<html>
<head><meta charset="utf-8" />

<title>Project_Anil_Bank_Churn_Prediction</title>

<script src="https://cdnjs.cloudflare.com/ajax/libs/require.js/2.1.10/require.min.js"></script>
<script src="https://cdnjs.cloudflare.com/ajax/libs/jquery/2.0.3/jquery.min.js"></script>



<style type="text/css">
    /*!
*
* Twitter Bootstrap
*
*/
/*!
 * Bootstrap v3.3.7 (http://getbootstrap.com)
 * Copyright 2011-2016 Twitter, Inc.
 * Licensed under MIT (https://github.com/twbs/bootstrap/blob/master/LICENSE)
 */
/*! normalize.css v3.0.3 | MIT License | github.com/necolas/normalize.css */
html {
  font-family: sans-serif;
  -ms-text-size-adjust: 100%;
  -webkit-text-size-adjust: 100%;
}
body {
  margin: 0;
}
article,
aside,
details,
figcaption,
figure,
footer,
header,
hgroup,
main,
menu,
nav,
section,
summary {
  display: block;
}
audio,
canvas,
progress,
video {
  display: inline-block;
  vertical-align: baseline;
}
audio:not([controls]) {
  display: none;
  height: 0;
}
[hidden],
template {
  display: none;
}
a {
  background-color: transparent;
}
a:active,
a:hover {
  outline: 0;
}
abbr[title] {
  border-bottom: 1px dotted;
}
b,
strong {
  font-weight: bold;
}
dfn {
  font-style: italic;
}
h1 {
  font-size: 2em;
  margin: 0.67em 0;
}
mark {
  background: #ff0;
  color: #000;
}
small {
  font-size: 80%;
}
sub,
sup {
  font-size: 75%;
  line-height: 0;
  position: relative;
  vertical-align: baseline;
}
sup {
  top: -0.5em;
}
sub {
  bottom: -0.25em;
}
img {
  border: 0;
}
svg:not(:root) {
  overflow: hidden;
}
figure {
  margin: 1em 40px;
}
hr {
  box-sizing: content-box;
  height: 0;
}
pre {
  overflow: auto;
}
code,
kbd,
pre,
samp {
  font-family: monospace, monospace;
  font-size: 1em;
}
button,
input,
optgroup,
select,
textarea {
  color: inherit;
  font: inherit;
  margin: 0;
}
button {
  overflow: visible;
}
button,
select {
  text-transform: none;
}
button,
html input[type="button"],
input[type="reset"],
input[type="submit"] {
  -webkit-appearance: button;
  cursor: pointer;
}
button[disabled],
html input[disabled] {
  cursor: default;
}
button::-moz-focus-inner,
input::-moz-focus-inner {
  border: 0;
  padding: 0;
}
input {
  line-height: normal;
}
input[type="checkbox"],
input[type="radio"] {
  box-sizing: border-box;
  padding: 0;
}
input[type="number"]::-webkit-inner-spin-button,
input[type="number"]::-webkit-outer-spin-button {
  height: auto;
}
input[type="search"] {
  -webkit-appearance: textfield;
  box-sizing: content-box;
}
input[type="search"]::-webkit-search-cancel-button,
input[type="search"]::-webkit-search-decoration {
  -webkit-appearance: none;
}
fieldset {
  border: 1px solid #c0c0c0;
  margin: 0 2px;
  padding: 0.35em 0.625em 0.75em;
}
legend {
  border: 0;
  padding: 0;
}
textarea {
  overflow: auto;
}
optgroup {
  font-weight: bold;
}
table {
  border-collapse: collapse;
  border-spacing: 0;
}
td,
th {
  padding: 0;
}
/*! Source: https://github.com/h5bp/html5-boilerplate/blob/master/src/css/main.css */
@media print {
  *,
  *:before,
  *:after {
    background: transparent !important;
    box-shadow: none !important;
    text-shadow: none !important;
  }
  a,
  a:visited {
    text-decoration: underline;
  }
  a[href]:after {
    content: " (" attr(href) ")";
  }
  abbr[title]:after {
    content: " (" attr(title) ")";
  }
  a[href^="#"]:after,
  a[href^="javascript:"]:after {
    content: "";
  }
  pre,
  blockquote {
    border: 1px solid #999;
    page-break-inside: avoid;
  }
  thead {
    display: table-header-group;
  }
  tr,
  img {
    page-break-inside: avoid;
  }
  img {
    max-width: 100% !important;
  }
  p,
  h2,
  h3 {
    orphans: 3;
    widows: 3;
  }
  h2,
  h3 {
    page-break-after: avoid;
  }
  .navbar {
    display: none;
  }
  .btn > .caret,
  .dropup > .btn > .caret {
    border-top-color: #000 !important;
  }
  .label {
    border: 1px solid #000;
  }
  .table {
    border-collapse: collapse !important;
  }
  .table td,
  .table th {
    background-color: #fff !important;
  }
  .table-bordered th,
  .table-bordered td {
    border: 1px solid #ddd !important;
  }
}
@font-face {
  font-family: 'Glyphicons Halflings';
  src: url('../components/bootstrap/fonts/glyphicons-halflings-regular.eot');
  src: url('../components/bootstrap/fonts/glyphicons-halflings-regular.eot?#iefix') format('embedded-opentype'), url('../components/bootstrap/fonts/glyphicons-halflings-regular.woff2') format('woff2'), url('../components/bootstrap/fonts/glyphicons-halflings-regular.woff') format('woff'), url('../components/bootstrap/fonts/glyphicons-halflings-regular.ttf') format('truetype'), url('../components/bootstrap/fonts/glyphicons-halflings-regular.svg#glyphicons_halflingsregular') format('svg');
}
.glyphicon {
  position: relative;
  top: 1px;
  display: inline-block;
  font-family: 'Glyphicons Halflings';
  font-style: normal;
  font-weight: normal;
  line-height: 1;
  -webkit-font-smoothing: antialiased;
  -moz-osx-font-smoothing: grayscale;
}
.glyphicon-asterisk:before {
  content: "\002a";
}
.glyphicon-plus:before {
  content: "\002b";
}
.glyphicon-euro:before,
.glyphicon-eur:before {
  content: "\20ac";
}
.glyphicon-minus:before {
  content: "\2212";
}
.glyphicon-cloud:before {
  content: "\2601";
}
.glyphicon-envelope:before {
  content: "\2709";
}
.glyphicon-pencil:before {
  content: "\270f";
}
.glyphicon-glass:before {
  content: "\e001";
}
.glyphicon-music:before {
  content: "\e002";
}
.glyphicon-search:before {
  content: "\e003";
}
.glyphicon-heart:before {
  content: "\e005";
}
.glyphicon-star:before {
  content: "\e006";
}
.glyphicon-star-empty:before {
  content: "\e007";
}
.glyphicon-user:before {
  content: "\e008";
}
.glyphicon-film:before {
  content: "\e009";
}
.glyphicon-th-large:before {
  content: "\e010";
}
.glyphicon-th:before {
  content: "\e011";
}
.glyphicon-th-list:before {
  content: "\e012";
}
.glyphicon-ok:before {
  content: "\e013";
}
.glyphicon-remove:before {
  content: "\e014";
}
.glyphicon-zoom-in:before {
  content: "\e015";
}
.glyphicon-zoom-out:before {
  content: "\e016";
}
.glyphicon-off:before {
  content: "\e017";
}
.glyphicon-signal:before {
  content: "\e018";
}
.glyphicon-cog:before {
  content: "\e019";
}
.glyphicon-trash:before {
  content: "\e020";
}
.glyphicon-home:before {
  content: "\e021";
}
.glyphicon-file:before {
  content: "\e022";
}
.glyphicon-time:before {
  content: "\e023";
}
.glyphicon-road:before {
  content: "\e024";
}
.glyphicon-download-alt:before {
  content: "\e025";
}
.glyphicon-download:before {
  content: "\e026";
}
.glyphicon-upload:before {
  content: "\e027";
}
.glyphicon-inbox:before {
  content: "\e028";
}
.glyphicon-play-circle:before {
  content: "\e029";
}
.glyphicon-repeat:before {
  content: "\e030";
}
.glyphicon-refresh:before {
  content: "\e031";
}
.glyphicon-list-alt:before {
  content: "\e032";
}
.glyphicon-lock:before {
  content: "\e033";
}
.glyphicon-flag:before {
  content: "\e034";
}
.glyphicon-headphones:before {
  content: "\e035";
}
.glyphicon-volume-off:before {
  content: "\e036";
}
.glyphicon-volume-down:before {
  content: "\e037";
}
.glyphicon-volume-up:before {
  content: "\e038";
}
.glyphicon-qrcode:before {
  content: "\e039";
}
.glyphicon-barcode:before {
  content: "\e040";
}
.glyphicon-tag:before {
  content: "\e041";
}
.glyphicon-tags:before {
  content: "\e042";
}
.glyphicon-book:before {
  content: "\e043";
}
.glyphicon-bookmark:before {
  content: "\e044";
}
.glyphicon-print:before {
  content: "\e045";
}
.glyphicon-camera:before {
  content: "\e046";
}
.glyphicon-font:before {
  content: "\e047";
}
.glyphicon-bold:before {
  content: "\e048";
}
.glyphicon-italic:before {
  content: "\e049";
}
.glyphicon-text-height:before {
  content: "\e050";
}
.glyphicon-text-width:before {
  content: "\e051";
}
.glyphicon-align-left:before {
  content: "\e052";
}
.glyphicon-align-center:before {
  content: "\e053";
}
.glyphicon-align-right:before {
  content: "\e054";
}
.glyphicon-align-justify:before {
  content: "\e055";
}
.glyphicon-list:before {
  content: "\e056";
}
.glyphicon-indent-left:before {
  content: "\e057";
}
.glyphicon-indent-right:before {
  content: "\e058";
}
.glyphicon-facetime-video:before {
  content: "\e059";
}
.glyphicon-picture:before {
  content: "\e060";
}
.glyphicon-map-marker:before {
  content: "\e062";
}
.glyphicon-adjust:before {
  content: "\e063";
}
.glyphicon-tint:before {
  content: "\e064";
}
.glyphicon-edit:before {
  content: "\e065";
}
.glyphicon-share:before {
  content: "\e066";
}
.glyphicon-check:before {
  content: "\e067";
}
.glyphicon-move:before {
  content: "\e068";
}
.glyphicon-step-backward:before {
  content: "\e069";
}
.glyphicon-fast-backward:before {
  content: "\e070";
}
.glyphicon-backward:before {
  content: "\e071";
}
.glyphicon-play:before {
  content: "\e072";
}
.glyphicon-pause:before {
  content: "\e073";
}
.glyphicon-stop:before {
  content: "\e074";
}
.glyphicon-forward:before {
  content: "\e075";
}
.glyphicon-fast-forward:before {
  content: "\e076";
}
.glyphicon-step-forward:before {
  content: "\e077";
}
.glyphicon-eject:before {
  content: "\e078";
}
.glyphicon-chevron-left:before {
  content: "\e079";
}
.glyphicon-chevron-right:before {
  content: "\e080";
}
.glyphicon-plus-sign:before {
  content: "\e081";
}
.glyphicon-minus-sign:before {
  content: "\e082";
}
.glyphicon-remove-sign:before {
  content: "\e083";
}
.glyphicon-ok-sign:before {
  content: "\e084";
}
.glyphicon-question-sign:before {
  content: "\e085";
}
.glyphicon-info-sign:before {
  content: "\e086";
}
.glyphicon-screenshot:before {
  content: "\e087";
}
.glyphicon-remove-circle:before {
  content: "\e088";
}
.glyphicon-ok-circle:before {
  content: "\e089";
}
.glyphicon-ban-circle:before {
  content: "\e090";
}
.glyphicon-arrow-left:before {
  content: "\e091";
}
.glyphicon-arrow-right:before {
  content: "\e092";
}
.glyphicon-arrow-up:before {
  content: "\e093";
}
.glyphicon-arrow-down:before {
  content: "\e094";
}
.glyphicon-share-alt:before {
  content: "\e095";
}
.glyphicon-resize-full:before {
  content: "\e096";
}
.glyphicon-resize-small:before {
  content: "\e097";
}
.glyphicon-exclamation-sign:before {
  content: "\e101";
}
.glyphicon-gift:before {
  content: "\e102";
}
.glyphicon-leaf:before {
  content: "\e103";
}
.glyphicon-fire:before {
  content: "\e104";
}
.glyphicon-eye-open:before {
  content: "\e105";
}
.glyphicon-eye-close:before {
  content: "\e106";
}
.glyphicon-warning-sign:before {
  content: "\e107";
}
.glyphicon-plane:before {
  content: "\e108";
}
.glyphicon-calendar:before {
  content: "\e109";
}
.glyphicon-random:before {
  content: "\e110";
}
.glyphicon-comment:before {
  content: "\e111";
}
.glyphicon-magnet:before {
  content: "\e112";
}
.glyphicon-chevron-up:before {
  content: "\e113";
}
.glyphicon-chevron-down:before {
  content: "\e114";
}
.glyphicon-retweet:before {
  content: "\e115";
}
.glyphicon-shopping-cart:before {
  content: "\e116";
}
.glyphicon-folder-close:before {
  content: "\e117";
}
.glyphicon-folder-open:before {
  content: "\e118";
}
.glyphicon-resize-vertical:before {
  content: "\e119";
}
.glyphicon-resize-horizontal:before {
  content: "\e120";
}
.glyphicon-hdd:before {
  content: "\e121";
}
.glyphicon-bullhorn:before {
  content: "\e122";
}
.glyphicon-bell:before {
  content: "\e123";
}
.glyphicon-certificate:before {
  content: "\e124";
}
.glyphicon-thumbs-up:before {
  content: "\e125";
}
.glyphicon-thumbs-down:before {
  content: "\e126";
}
.glyphicon-hand-right:before {
  content: "\e127";
}
.glyphicon-hand-left:before {
  content: "\e128";
}
.glyphicon-hand-up:before {
  content: "\e129";
}
.glyphicon-hand-down:before {
  content: "\e130";
}
.glyphicon-circle-arrow-right:before {
  content: "\e131";
}
.glyphicon-circle-arrow-left:before {
  content: "\e132";
}
.glyphicon-circle-arrow-up:before {
  content: "\e133";
}
.glyphicon-circle-arrow-down:before {
  content: "\e134";
}
.glyphicon-globe:before {
  content: "\e135";
}
.glyphicon-wrench:before {
  content: "\e136";
}
.glyphicon-tasks:before {
  content: "\e137";
}
.glyphicon-filter:before {
  content: "\e138";
}
.glyphicon-briefcase:before {
  content: "\e139";
}
.glyphicon-fullscreen:before {
  content: "\e140";
}
.glyphicon-dashboard:before {
  content: "\e141";
}
.glyphicon-paperclip:before {
  content: "\e142";
}
.glyphicon-heart-empty:before {
  content: "\e143";
}
.glyphicon-link:before {
  content: "\e144";
}
.glyphicon-phone:before {
  content: "\e145";
}
.glyphicon-pushpin:before {
  content: "\e146";
}
.glyphicon-usd:before {
  content: "\e148";
}
.glyphicon-gbp:before {
  content: "\e149";
}
.glyphicon-sort:before {
  content: "\e150";
}
.glyphicon-sort-by-alphabet:before {
  content: "\e151";
}
.glyphicon-sort-by-alphabet-alt:before {
  content: "\e152";
}
.glyphicon-sort-by-order:before {
  content: "\e153";
}
.glyphicon-sort-by-order-alt:before {
  content: "\e154";
}
.glyphicon-sort-by-attributes:before {
  content: "\e155";
}
.glyphicon-sort-by-attributes-alt:before {
  content: "\e156";
}
.glyphicon-unchecked:before {
  content: "\e157";
}
.glyphicon-expand:before {
  content: "\e158";
}
.glyphicon-collapse-down:before {
  content: "\e159";
}
.glyphicon-collapse-up:before {
  content: "\e160";
}
.glyphicon-log-in:before {
  content: "\e161";
}
.glyphicon-flash:before {
  content: "\e162";
}
.glyphicon-log-out:before {
  content: "\e163";
}
.glyphicon-new-window:before {
  content: "\e164";
}
.glyphicon-record:before {
  content: "\e165";
}
.glyphicon-save:before {
  content: "\e166";
}
.glyphicon-open:before {
  content: "\e167";
}
.glyphicon-saved:before {
  content: "\e168";
}
.glyphicon-import:before {
  content: "\e169";
}
.glyphicon-export:before {
  content: "\e170";
}
.glyphicon-send:before {
  content: "\e171";
}
.glyphicon-floppy-disk:before {
  content: "\e172";
}
.glyphicon-floppy-saved:before {
  content: "\e173";
}
.glyphicon-floppy-remove:before {
  content: "\e174";
}
.glyphicon-floppy-save:before {
  content: "\e175";
}
.glyphicon-floppy-open:before {
  content: "\e176";
}
.glyphicon-credit-card:before {
  content: "\e177";
}
.glyphicon-transfer:before {
  content: "\e178";
}
.glyphicon-cutlery:before {
  content: "\e179";
}
.glyphicon-header:before {
  content: "\e180";
}
.glyphicon-compressed:before {
  content: "\e181";
}
.glyphicon-earphone:before {
  content: "\e182";
}
.glyphicon-phone-alt:before {
  content: "\e183";
}
.glyphicon-tower:before {
  content: "\e184";
}
.glyphicon-stats:before {
  content: "\e185";
}
.glyphicon-sd-video:before {
  content: "\e186";
}
.glyphicon-hd-video:before {
  content: "\e187";
}
.glyphicon-subtitles:before {
  content: "\e188";
}
.glyphicon-sound-stereo:before {
  content: "\e189";
}
.glyphicon-sound-dolby:before {
  content: "\e190";
}
.glyphicon-sound-5-1:before {
  content: "\e191";
}
.glyphicon-sound-6-1:before {
  content: "\e192";
}
.glyphicon-sound-7-1:before {
  content: "\e193";
}
.glyphicon-copyright-mark:before {
  content: "\e194";
}
.glyphicon-registration-mark:before {
  content: "\e195";
}
.glyphicon-cloud-download:before {
  content: "\e197";
}
.glyphicon-cloud-upload:before {
  content: "\e198";
}
.glyphicon-tree-conifer:before {
  content: "\e199";
}
.glyphicon-tree-deciduous:before {
  content: "\e200";
}
.glyphicon-cd:before {
  content: "\e201";
}
.glyphicon-save-file:before {
  content: "\e202";
}
.glyphicon-open-file:before {
  content: "\e203";
}
.glyphicon-level-up:before {
  content: "\e204";
}
.glyphicon-copy:before {
  content: "\e205";
}
.glyphicon-paste:before {
  content: "\e206";
}
.glyphicon-alert:before {
  content: "\e209";
}
.glyphicon-equalizer:before {
  content: "\e210";
}
.glyphicon-king:before {
  content: "\e211";
}
.glyphicon-queen:before {
  content: "\e212";
}
.glyphicon-pawn:before {
  content: "\e213";
}
.glyphicon-bishop:before {
  content: "\e214";
}
.glyphicon-knight:before {
  content: "\e215";
}
.glyphicon-baby-formula:before {
  content: "\e216";
}
.glyphicon-tent:before {
  content: "\26fa";
}
.glyphicon-blackboard:before {
  content: "\e218";
}
.glyphicon-bed:before {
  content: "\e219";
}
.glyphicon-apple:before {
  content: "\f8ff";
}
.glyphicon-erase:before {
  content: "\e221";
}
.glyphicon-hourglass:before {
  content: "\231b";
}
.glyphicon-lamp:before {
  content: "\e223";
}
.glyphicon-duplicate:before {
  content: "\e224";
}
.glyphicon-piggy-bank:before {
  content: "\e225";
}
.glyphicon-scissors:before {
  content: "\e226";
}
.glyphicon-bitcoin:before {
  content: "\e227";
}
.glyphicon-btc:before {
  content: "\e227";
}
.glyphicon-xbt:before {
  content: "\e227";
}
.glyphicon-yen:before {
  content: "\00a5";
}
.glyphicon-jpy:before {
  content: "\00a5";
}
.glyphicon-ruble:before {
  content: "\20bd";
}
.glyphicon-rub:before {
  content: "\20bd";
}
.glyphicon-scale:before {
  content: "\e230";
}
.glyphicon-ice-lolly:before {
  content: "\e231";
}
.glyphicon-ice-lolly-tasted:before {
  content: "\e232";
}
.glyphicon-education:before {
  content: "\e233";
}
.glyphicon-option-horizontal:before {
  content: "\e234";
}
.glyphicon-option-vertical:before {
  content: "\e235";
}
.glyphicon-menu-hamburger:before {
  content: "\e236";
}
.glyphicon-modal-window:before {
  content: "\e237";
}
.glyphicon-oil:before {
  content: "\e238";
}
.glyphicon-grain:before {
  content: "\e239";
}
.glyphicon-sunglasses:before {
  content: "\e240";
}
.glyphicon-text-size:before {
  content: "\e241";
}
.glyphicon-text-color:before {
  content: "\e242";
}
.glyphicon-text-background:before {
  content: "\e243";
}
.glyphicon-object-align-top:before {
  content: "\e244";
}
.glyphicon-object-align-bottom:before {
  content: "\e245";
}
.glyphicon-object-align-horizontal:before {
  content: "\e246";
}
.glyphicon-object-align-left:before {
  content: "\e247";
}
.glyphicon-object-align-vertical:before {
  content: "\e248";
}
.glyphicon-object-align-right:before {
  content: "\e249";
}
.glyphicon-triangle-right:before {
  content: "\e250";
}
.glyphicon-triangle-left:before {
  content: "\e251";
}
.glyphicon-triangle-bottom:before {
  content: "\e252";
}
.glyphicon-triangle-top:before {
  content: "\e253";
}
.glyphicon-console:before {
  content: "\e254";
}
.glyphicon-superscript:before {
  content: "\e255";
}
.glyphicon-subscript:before {
  content: "\e256";
}
.glyphicon-menu-left:before {
  content: "\e257";
}
.glyphicon-menu-right:before {
  content: "\e258";
}
.glyphicon-menu-down:before {
  content: "\e259";
}
.glyphicon-menu-up:before {
  content: "\e260";
}
* {
  -webkit-box-sizing: border-box;
  -moz-box-sizing: border-box;
  box-sizing: border-box;
}
*:before,
*:after {
  -webkit-box-sizing: border-box;
  -moz-box-sizing: border-box;
  box-sizing: border-box;
}
html {
  font-size: 10px;
  -webkit-tap-highlight-color: rgba(0, 0, 0, 0);
}
body {
  font-family: "Helvetica Neue", Helvetica, Arial, sans-serif;
  font-size: 13px;
  line-height: 1.42857143;
  color: #000;
  background-color: #fff;
}
input,
button,
select,
textarea {
  font-family: inherit;
  font-size: inherit;
  line-height: inherit;
}
a {
  color: #337ab7;
  text-decoration: none;
}
a:hover,
a:focus {
  color: #23527c;
  text-decoration: underline;
}
a:focus {
  outline: 5px auto -webkit-focus-ring-color;
  outline-offset: -2px;
}
figure {
  margin: 0;
}
img {
  vertical-align: middle;
}
.img-responsive,
.thumbnail > img,
.thumbnail a > img,
.carousel-inner > .item > img,
.carousel-inner > .item > a > img {
  display: block;
  max-width: 100%;
  height: auto;
}
.img-rounded {
  border-radius: 3px;
}
.img-thumbnail {
  padding: 4px;
  line-height: 1.42857143;
  background-color: #fff;
  border: 1px solid #ddd;
  border-radius: 2px;
  -webkit-transition: all 0.2s ease-in-out;
  -o-transition: all 0.2s ease-in-out;
  transition: all 0.2s ease-in-out;
  display: inline-block;
  max-width: 100%;
  height: auto;
}
.img-circle {
  border-radius: 50%;
}
hr {
  margin-top: 18px;
  margin-bottom: 18px;
  border: 0;
  border-top: 1px solid #eeeeee;
}
.sr-only {
  position: absolute;
  width: 1px;
  height: 1px;
  margin: -1px;
  padding: 0;
  overflow: hidden;
  clip: rect(0, 0, 0, 0);
  border: 0;
}
.sr-only-focusable:active,
.sr-only-focusable:focus {
  position: static;
  width: auto;
  height: auto;
  margin: 0;
  overflow: visible;
  clip: auto;
}
[role="button"] {
  cursor: pointer;
}
h1,
h2,
h3,
h4,
h5,
h6,
.h1,
.h2,
.h3,
.h4,
.h5,
.h6 {
  font-family: inherit;
  font-weight: 500;
  line-height: 1.1;
  color: inherit;
}
h1 small,
h2 small,
h3 small,
h4 small,
h5 small,
h6 small,
.h1 small,
.h2 small,
.h3 small,
.h4 small,
.h5 small,
.h6 small,
h1 .small,
h2 .small,
h3 .small,
h4 .small,
h5 .small,
h6 .small,
.h1 .small,
.h2 .small,
.h3 .small,
.h4 .small,
.h5 .small,
.h6 .small {
  font-weight: normal;
  line-height: 1;
  color: #777777;
}
h1,
.h1,
h2,
.h2,
h3,
.h3 {
  margin-top: 18px;
  margin-bottom: 9px;
}
h1 small,
.h1 small,
h2 small,
.h2 small,
h3 small,
.h3 small,
h1 .small,
.h1 .small,
h2 .small,
.h2 .small,
h3 .small,
.h3 .small {
  font-size: 65%;
}
h4,
.h4,
h5,
.h5,
h6,
.h6 {
  margin-top: 9px;
  margin-bottom: 9px;
}
h4 small,
.h4 small,
h5 small,
.h5 small,
h6 small,
.h6 small,
h4 .small,
.h4 .small,
h5 .small,
.h5 .small,
h6 .small,
.h6 .small {
  font-size: 75%;
}
h1,
.h1 {
  font-size: 33px;
}
h2,
.h2 {
  font-size: 27px;
}
h3,
.h3 {
  font-size: 23px;
}
h4,
.h4 {
  font-size: 17px;
}
h5,
.h5 {
  font-size: 13px;
}
h6,
.h6 {
  font-size: 12px;
}
p {
  margin: 0 0 9px;
}
.lead {
  margin-bottom: 18px;
  font-size: 14px;
  font-weight: 300;
  line-height: 1.4;
}
@media (min-width: 768px) {
  .lead {
    font-size: 19.5px;
  }
}
small,
.small {
  font-size: 92%;
}
mark,
.mark {
  background-color: #fcf8e3;
  padding: .2em;
}
.text-left {
  text-align: left;
}
.text-right {
  text-align: right;
}
.text-center {
  text-align: center;
}
.text-justify {
  text-align: justify;
}
.text-nowrap {
  white-space: nowrap;
}
.text-lowercase {
  text-transform: lowercase;
}
.text-uppercase {
  text-transform: uppercase;
}
.text-capitalize {
  text-transform: capitalize;
}
.text-muted {
  color: #777777;
}
.text-primary {
  color: #337ab7;
}
a.text-primary:hover,
a.text-primary:focus {
  color: #286090;
}
.text-success {
  color: #3c763d;
}
a.text-success:hover,
a.text-success:focus {
  color: #2b542c;
}
.text-info {
  color: #31708f;
}
a.text-info:hover,
a.text-info:focus {
  color: #245269;
}
.text-warning {
  color: #8a6d3b;
}
a.text-warning:hover,
a.text-warning:focus {
  color: #66512c;
}
.text-danger {
  color: #a94442;
}
a.text-danger:hover,
a.text-danger:focus {
  color: #843534;
}
.bg-primary {
  color: #fff;
  background-color: #337ab7;
}
a.bg-primary:hover,
a.bg-primary:focus {
  background-color: #286090;
}
.bg-success {
  background-color: #dff0d8;
}
a.bg-success:hover,
a.bg-success:focus {
  background-color: #c1e2b3;
}
.bg-info {
  background-color: #d9edf7;
}
a.bg-info:hover,
a.bg-info:focus {
  background-color: #afd9ee;
}
.bg-warning {
  background-color: #fcf8e3;
}
a.bg-warning:hover,
a.bg-warning:focus {
  background-color: #f7ecb5;
}
.bg-danger {
  background-color: #f2dede;
}
a.bg-danger:hover,
a.bg-danger:focus {
  background-color: #e4b9b9;
}
.page-header {
  padding-bottom: 8px;
  margin: 36px 0 18px;
  border-bottom: 1px solid #eeeeee;
}
ul,
ol {
  margin-top: 0;
  margin-bottom: 9px;
}
ul ul,
ol ul,
ul ol,
ol ol {
  margin-bottom: 0;
}
.list-unstyled {
  padding-left: 0;
  list-style: none;
}
.list-inline {
  padding-left: 0;
  list-style: none;
  margin-left: -5px;
}
.list-inline > li {
  display: inline-block;
  padding-left: 5px;
  padding-right: 5px;
}
dl {
  margin-top: 0;
  margin-bottom: 18px;
}
dt,
dd {
  line-height: 1.42857143;
}
dt {
  font-weight: bold;
}
dd {
  margin-left: 0;
}
@media (min-width: 541px) {
  .dl-horizontal dt {
    float: left;
    width: 160px;
    clear: left;
    text-align: right;
    overflow: hidden;
    text-overflow: ellipsis;
    white-space: nowrap;
  }
  .dl-horizontal dd {
    margin-left: 180px;
  }
}
abbr[title],
abbr[data-original-title] {
  cursor: help;
  border-bottom: 1px dotted #777777;
}
.initialism {
  font-size: 90%;
  text-transform: uppercase;
}
blockquote {
  padding: 9px 18px;
  margin: 0 0 18px;
  font-size: inherit;
  border-left: 5px solid #eeeeee;
}
blockquote p:last-child,
blockquote ul:last-child,
blockquote ol:last-child {
  margin-bottom: 0;
}
blockquote footer,
blockquote small,
blockquote .small {
  display: block;
  font-size: 80%;
  line-height: 1.42857143;
  color: #777777;
}
blockquote footer:before,
blockquote small:before,
blockquote .small:before {
  content: '\2014 \00A0';
}
.blockquote-reverse,
blockquote.pull-right {
  padding-right: 15px;
  padding-left: 0;
  border-right: 5px solid #eeeeee;
  border-left: 0;
  text-align: right;
}
.blockquote-reverse footer:before,
blockquote.pull-right footer:before,
.blockquote-reverse small:before,
blockquote.pull-right small:before,
.blockquote-reverse .small:before,
blockquote.pull-right .small:before {
  content: '';
}
.blockquote-reverse footer:after,
blockquote.pull-right footer:after,
.blockquote-reverse small:after,
blockquote.pull-right small:after,
.blockquote-reverse .small:after,
blockquote.pull-right .small:after {
  content: '\00A0 \2014';
}
address {
  margin-bottom: 18px;
  font-style: normal;
  line-height: 1.42857143;
}
code,
kbd,
pre,
samp {
  font-family: monospace;
}
code {
  padding: 2px 4px;
  font-size: 90%;
  color: #c7254e;
  background-color: #f9f2f4;
  border-radius: 2px;
}
kbd {
  padding: 2px 4px;
  font-size: 90%;
  color: #888;
  background-color: transparent;
  border-radius: 1px;
  box-shadow: inset 0 -1px 0 rgba(0, 0, 0, 0.25);
}
kbd kbd {
  padding: 0;
  font-size: 100%;
  font-weight: bold;
  box-shadow: none;
}
pre {
  display: block;
  padding: 8.5px;
  margin: 0 0 9px;
  font-size: 12px;
  line-height: 1.42857143;
  word-break: break-all;
  word-wrap: break-word;
  color: #333333;
  background-color: #f5f5f5;
  border: 1px solid #ccc;
  border-radius: 2px;
}
pre code {
  padding: 0;
  font-size: inherit;
  color: inherit;
  white-space: pre-wrap;
  background-color: transparent;
  border-radius: 0;
}
.pre-scrollable {
  max-height: 340px;
  overflow-y: scroll;
}
.container {
  margin-right: auto;
  margin-left: auto;
  padding-left: 0px;
  padding-right: 0px;
}
@media (min-width: 768px) {
  .container {
    width: 768px;
  }
}
@media (min-width: 992px) {
  .container {
    width: 940px;
  }
}
@media (min-width: 1200px) {
  .container {
    width: 1140px;
  }
}
.container-fluid {
  margin-right: auto;
  margin-left: auto;
  padding-left: 0px;
  padding-right: 0px;
}
.row {
  margin-left: 0px;
  margin-right: 0px;
}
.col-xs-1, .col-sm-1, .col-md-1, .col-lg-1, .col-xs-2, .col-sm-2, .col-md-2, .col-lg-2, .col-xs-3, .col-sm-3, .col-md-3, .col-lg-3, .col-xs-4, .col-sm-4, .col-md-4, .col-lg-4, .col-xs-5, .col-sm-5, .col-md-5, .col-lg-5, .col-xs-6, .col-sm-6, .col-md-6, .col-lg-6, .col-xs-7, .col-sm-7, .col-md-7, .col-lg-7, .col-xs-8, .col-sm-8, .col-md-8, .col-lg-8, .col-xs-9, .col-sm-9, .col-md-9, .col-lg-9, .col-xs-10, .col-sm-10, .col-md-10, .col-lg-10, .col-xs-11, .col-sm-11, .col-md-11, .col-lg-11, .col-xs-12, .col-sm-12, .col-md-12, .col-lg-12 {
  position: relative;
  min-height: 1px;
  padding-left: 0px;
  padding-right: 0px;
}
.col-xs-1, .col-xs-2, .col-xs-3, .col-xs-4, .col-xs-5, .col-xs-6, .col-xs-7, .col-xs-8, .col-xs-9, .col-xs-10, .col-xs-11, .col-xs-12 {
  float: left;
}
.col-xs-12 {
  width: 100%;
}
.col-xs-11 {
  width: 91.66666667%;
}
.col-xs-10 {
  width: 83.33333333%;
}
.col-xs-9 {
  width: 75%;
}
.col-xs-8 {
  width: 66.66666667%;
}
.col-xs-7 {
  width: 58.33333333%;
}
.col-xs-6 {
  width: 50%;
}
.col-xs-5 {
  width: 41.66666667%;
}
.col-xs-4 {
  width: 33.33333333%;
}
.col-xs-3 {
  width: 25%;
}
.col-xs-2 {
  width: 16.66666667%;
}
.col-xs-1 {
  width: 8.33333333%;
}
.col-xs-pull-12 {
  right: 100%;
}
.col-xs-pull-11 {
  right: 91.66666667%;
}
.col-xs-pull-10 {
  right: 83.33333333%;
}
.col-xs-pull-9 {
  right: 75%;
}
.col-xs-pull-8 {
  right: 66.66666667%;
}
.col-xs-pull-7 {
  right: 58.33333333%;
}
.col-xs-pull-6 {
  right: 50%;
}
.col-xs-pull-5 {
  right: 41.66666667%;
}
.col-xs-pull-4 {
  right: 33.33333333%;
}
.col-xs-pull-3 {
  right: 25%;
}
.col-xs-pull-2 {
  right: 16.66666667%;
}
.col-xs-pull-1 {
  right: 8.33333333%;
}
.col-xs-pull-0 {
  right: auto;
}
.col-xs-push-12 {
  left: 100%;
}
.col-xs-push-11 {
  left: 91.66666667%;
}
.col-xs-push-10 {
  left: 83.33333333%;
}
.col-xs-push-9 {
  left: 75%;
}
.col-xs-push-8 {
  left: 66.66666667%;
}
.col-xs-push-7 {
  left: 58.33333333%;
}
.col-xs-push-6 {
  left: 50%;
}
.col-xs-push-5 {
  left: 41.66666667%;
}
.col-xs-push-4 {
  left: 33.33333333%;
}
.col-xs-push-3 {
  left: 25%;
}
.col-xs-push-2 {
  left: 16.66666667%;
}
.col-xs-push-1 {
  left: 8.33333333%;
}
.col-xs-push-0 {
  left: auto;
}
.col-xs-offset-12 {
  margin-left: 100%;
}
.col-xs-offset-11 {
  margin-left: 91.66666667%;
}
.col-xs-offset-10 {
  margin-left: 83.33333333%;
}
.col-xs-offset-9 {
  margin-left: 75%;
}
.col-xs-offset-8 {
  margin-left: 66.66666667%;
}
.col-xs-offset-7 {
  margin-left: 58.33333333%;
}
.col-xs-offset-6 {
  margin-left: 50%;
}
.col-xs-offset-5 {
  margin-left: 41.66666667%;
}
.col-xs-offset-4 {
  margin-left: 33.33333333%;
}
.col-xs-offset-3 {
  margin-left: 25%;
}
.col-xs-offset-2 {
  margin-left: 16.66666667%;
}
.col-xs-offset-1 {
  margin-left: 8.33333333%;
}
.col-xs-offset-0 {
  margin-left: 0%;
}
@media (min-width: 768px) {
  .col-sm-1, .col-sm-2, .col-sm-3, .col-sm-4, .col-sm-5, .col-sm-6, .col-sm-7, .col-sm-8, .col-sm-9, .col-sm-10, .col-sm-11, .col-sm-12 {
    float: left;
  }
  .col-sm-12 {
    width: 100%;
  }
  .col-sm-11 {
    width: 91.66666667%;
  }
  .col-sm-10 {
    width: 83.33333333%;
  }
  .col-sm-9 {
    width: 75%;
  }
  .col-sm-8 {
    width: 66.66666667%;
  }
  .col-sm-7 {
    width: 58.33333333%;
  }
  .col-sm-6 {
    width: 50%;
  }
  .col-sm-5 {
    width: 41.66666667%;
  }
  .col-sm-4 {
    width: 33.33333333%;
  }
  .col-sm-3 {
    width: 25%;
  }
  .col-sm-2 {
    width: 16.66666667%;
  }
  .col-sm-1 {
    width: 8.33333333%;
  }
  .col-sm-pull-12 {
    right: 100%;
  }
  .col-sm-pull-11 {
    right: 91.66666667%;
  }
  .col-sm-pull-10 {
    right: 83.33333333%;
  }
  .col-sm-pull-9 {
    right: 75%;
  }
  .col-sm-pull-8 {
    right: 66.66666667%;
  }
  .col-sm-pull-7 {
    right: 58.33333333%;
  }
  .col-sm-pull-6 {
    right: 50%;
  }
  .col-sm-pull-5 {
    right: 41.66666667%;
  }
  .col-sm-pull-4 {
    right: 33.33333333%;
  }
  .col-sm-pull-3 {
    right: 25%;
  }
  .col-sm-pull-2 {
    right: 16.66666667%;
  }
  .col-sm-pull-1 {
    right: 8.33333333%;
  }
  .col-sm-pull-0 {
    right: auto;
  }
  .col-sm-push-12 {
    left: 100%;
  }
  .col-sm-push-11 {
    left: 91.66666667%;
  }
  .col-sm-push-10 {
    left: 83.33333333%;
  }
  .col-sm-push-9 {
    left: 75%;
  }
  .col-sm-push-8 {
    left: 66.66666667%;
  }
  .col-sm-push-7 {
    left: 58.33333333%;
  }
  .col-sm-push-6 {
    left: 50%;
  }
  .col-sm-push-5 {
    left: 41.66666667%;
  }
  .col-sm-push-4 {
    left: 33.33333333%;
  }
  .col-sm-push-3 {
    left: 25%;
  }
  .col-sm-push-2 {
    left: 16.66666667%;
  }
  .col-sm-push-1 {
    left: 8.33333333%;
  }
  .col-sm-push-0 {
    left: auto;
  }
  .col-sm-offset-12 {
    margin-left: 100%;
  }
  .col-sm-offset-11 {
    margin-left: 91.66666667%;
  }
  .col-sm-offset-10 {
    margin-left: 83.33333333%;
  }
  .col-sm-offset-9 {
    margin-left: 75%;
  }
  .col-sm-offset-8 {
    margin-left: 66.66666667%;
  }
  .col-sm-offset-7 {
    margin-left: 58.33333333%;
  }
  .col-sm-offset-6 {
    margin-left: 50%;
  }
  .col-sm-offset-5 {
    margin-left: 41.66666667%;
  }
  .col-sm-offset-4 {
    margin-left: 33.33333333%;
  }
  .col-sm-offset-3 {
    margin-left: 25%;
  }
  .col-sm-offset-2 {
    margin-left: 16.66666667%;
  }
  .col-sm-offset-1 {
    margin-left: 8.33333333%;
  }
  .col-sm-offset-0 {
    margin-left: 0%;
  }
}
@media (min-width: 992px) {
  .col-md-1, .col-md-2, .col-md-3, .col-md-4, .col-md-5, .col-md-6, .col-md-7, .col-md-8, .col-md-9, .col-md-10, .col-md-11, .col-md-12 {
    float: left;
  }
  .col-md-12 {
    width: 100%;
  }
  .col-md-11 {
    width: 91.66666667%;
  }
  .col-md-10 {
    width: 83.33333333%;
  }
  .col-md-9 {
    width: 75%;
  }
  .col-md-8 {
    width: 66.66666667%;
  }
  .col-md-7 {
    width: 58.33333333%;
  }
  .col-md-6 {
    width: 50%;
  }
  .col-md-5 {
    width: 41.66666667%;
  }
  .col-md-4 {
    width: 33.33333333%;
  }
  .col-md-3 {
    width: 25%;
  }
  .col-md-2 {
    width: 16.66666667%;
  }
  .col-md-1 {
    width: 8.33333333%;
  }
  .col-md-pull-12 {
    right: 100%;
  }
  .col-md-pull-11 {
    right: 91.66666667%;
  }
  .col-md-pull-10 {
    right: 83.33333333%;
  }
  .col-md-pull-9 {
    right: 75%;
  }
  .col-md-pull-8 {
    right: 66.66666667%;
  }
  .col-md-pull-7 {
    right: 58.33333333%;
  }
  .col-md-pull-6 {
    right: 50%;
  }
  .col-md-pull-5 {
    right: 41.66666667%;
  }
  .col-md-pull-4 {
    right: 33.33333333%;
  }
  .col-md-pull-3 {
    right: 25%;
  }
  .col-md-pull-2 {
    right: 16.66666667%;
  }
  .col-md-pull-1 {
    right: 8.33333333%;
  }
  .col-md-pull-0 {
    right: auto;
  }
  .col-md-push-12 {
    left: 100%;
  }
  .col-md-push-11 {
    left: 91.66666667%;
  }
  .col-md-push-10 {
    left: 83.33333333%;
  }
  .col-md-push-9 {
    left: 75%;
  }
  .col-md-push-8 {
    left: 66.66666667%;
  }
  .col-md-push-7 {
    left: 58.33333333%;
  }
  .col-md-push-6 {
    left: 50%;
  }
  .col-md-push-5 {
    left: 41.66666667%;
  }
  .col-md-push-4 {
    left: 33.33333333%;
  }
  .col-md-push-3 {
    left: 25%;
  }
  .col-md-push-2 {
    left: 16.66666667%;
  }
  .col-md-push-1 {
    left: 8.33333333%;
  }
  .col-md-push-0 {
    left: auto;
  }
  .col-md-offset-12 {
    margin-left: 100%;
  }
  .col-md-offset-11 {
    margin-left: 91.66666667%;
  }
  .col-md-offset-10 {
    margin-left: 83.33333333%;
  }
  .col-md-offset-9 {
    margin-left: 75%;
  }
  .col-md-offset-8 {
    margin-left: 66.66666667%;
  }
  .col-md-offset-7 {
    margin-left: 58.33333333%;
  }
  .col-md-offset-6 {
    margin-left: 50%;
  }
  .col-md-offset-5 {
    margin-left: 41.66666667%;
  }
  .col-md-offset-4 {
    margin-left: 33.33333333%;
  }
  .col-md-offset-3 {
    margin-left: 25%;
  }
  .col-md-offset-2 {
    margin-left: 16.66666667%;
  }
  .col-md-offset-1 {
    margin-left: 8.33333333%;
  }
  .col-md-offset-0 {
    margin-left: 0%;
  }
}
@media (min-width: 1200px) {
  .col-lg-1, .col-lg-2, .col-lg-3, .col-lg-4, .col-lg-5, .col-lg-6, .col-lg-7, .col-lg-8, .col-lg-9, .col-lg-10, .col-lg-11, .col-lg-12 {
    float: left;
  }
  .col-lg-12 {
    width: 100%;
  }
  .col-lg-11 {
    width: 91.66666667%;
  }
  .col-lg-10 {
    width: 83.33333333%;
  }
  .col-lg-9 {
    width: 75%;
  }
  .col-lg-8 {
    width: 66.66666667%;
  }
  .col-lg-7 {
    width: 58.33333333%;
  }
  .col-lg-6 {
    width: 50%;
  }
  .col-lg-5 {
    width: 41.66666667%;
  }
  .col-lg-4 {
    width: 33.33333333%;
  }
  .col-lg-3 {
    width: 25%;
  }
  .col-lg-2 {
    width: 16.66666667%;
  }
  .col-lg-1 {
    width: 8.33333333%;
  }
  .col-lg-pull-12 {
    right: 100%;
  }
  .col-lg-pull-11 {
    right: 91.66666667%;
  }
  .col-lg-pull-10 {
    right: 83.33333333%;
  }
  .col-lg-pull-9 {
    right: 75%;
  }
  .col-lg-pull-8 {
    right: 66.66666667%;
  }
  .col-lg-pull-7 {
    right: 58.33333333%;
  }
  .col-lg-pull-6 {
    right: 50%;
  }
  .col-lg-pull-5 {
    right: 41.66666667%;
  }
  .col-lg-pull-4 {
    right: 33.33333333%;
  }
  .col-lg-pull-3 {
    right: 25%;
  }
  .col-lg-pull-2 {
    right: 16.66666667%;
  }
  .col-lg-pull-1 {
    right: 8.33333333%;
  }
  .col-lg-pull-0 {
    right: auto;
  }
  .col-lg-push-12 {
    left: 100%;
  }
  .col-lg-push-11 {
    left: 91.66666667%;
  }
  .col-lg-push-10 {
    left: 83.33333333%;
  }
  .col-lg-push-9 {
    left: 75%;
  }
  .col-lg-push-8 {
    left: 66.66666667%;
  }
  .col-lg-push-7 {
    left: 58.33333333%;
  }
  .col-lg-push-6 {
    left: 50%;
  }
  .col-lg-push-5 {
    left: 41.66666667%;
  }
  .col-lg-push-4 {
    left: 33.33333333%;
  }
  .col-lg-push-3 {
    left: 25%;
  }
  .col-lg-push-2 {
    left: 16.66666667%;
  }
  .col-lg-push-1 {
    left: 8.33333333%;
  }
  .col-lg-push-0 {
    left: auto;
  }
  .col-lg-offset-12 {
    margin-left: 100%;
  }
  .col-lg-offset-11 {
    margin-left: 91.66666667%;
  }
  .col-lg-offset-10 {
    margin-left: 83.33333333%;
  }
  .col-lg-offset-9 {
    margin-left: 75%;
  }
  .col-lg-offset-8 {
    margin-left: 66.66666667%;
  }
  .col-lg-offset-7 {
    margin-left: 58.33333333%;
  }
  .col-lg-offset-6 {
    margin-left: 50%;
  }
  .col-lg-offset-5 {
    margin-left: 41.66666667%;
  }
  .col-lg-offset-4 {
    margin-left: 33.33333333%;
  }
  .col-lg-offset-3 {
    margin-left: 25%;
  }
  .col-lg-offset-2 {
    margin-left: 16.66666667%;
  }
  .col-lg-offset-1 {
    margin-left: 8.33333333%;
  }
  .col-lg-offset-0 {
    margin-left: 0%;
  }
}
table {
  background-color: transparent;
}
caption {
  padding-top: 8px;
  padding-bottom: 8px;
  color: #777777;
  text-align: left;
}
th {
  text-align: left;
}
.table {
  width: 100%;
  max-width: 100%;
  margin-bottom: 18px;
}
.table > thead > tr > th,
.table > tbody > tr > th,
.table > tfoot > tr > th,
.table > thead > tr > td,
.table > tbody > tr > td,
.table > tfoot > tr > td {
  padding: 8px;
  line-height: 1.42857143;
  vertical-align: top;
  border-top: 1px solid #ddd;
}
.table > thead > tr > th {
  vertical-align: bottom;
  border-bottom: 2px solid #ddd;
}
.table > caption + thead > tr:first-child > th,
.table > colgroup + thead > tr:first-child > th,
.table > thead:first-child > tr:first-child > th,
.table > caption + thead > tr:first-child > td,
.table > colgroup + thead > tr:first-child > td,
.table > thead:first-child > tr:first-child > td {
  border-top: 0;
}
.table > tbody + tbody {
  border-top: 2px solid #ddd;
}
.table .table {
  background-color: #fff;
}
.table-condensed > thead > tr > th,
.table-condensed > tbody > tr > th,
.table-condensed > tfoot > tr > th,
.table-condensed > thead > tr > td,
.table-condensed > tbody > tr > td,
.table-condensed > tfoot > tr > td {
  padding: 5px;
}
.table-bordered {
  border: 1px solid #ddd;
}
.table-bordered > thead > tr > th,
.table-bordered > tbody > tr > th,
.table-bordered > tfoot > tr > th,
.table-bordered > thead > tr > td,
.table-bordered > tbody > tr > td,
.table-bordered > tfoot > tr > td {
  border: 1px solid #ddd;
}
.table-bordered > thead > tr > th,
.table-bordered > thead > tr > td {
  border-bottom-width: 2px;
}
.table-striped > tbody > tr:nth-of-type(odd) {
  background-color: #f9f9f9;
}
.table-hover > tbody > tr:hover {
  background-color: #f5f5f5;
}
table col[class*="col-"] {
  position: static;
  float: none;
  display: table-column;
}
table td[class*="col-"],
table th[class*="col-"] {
  position: static;
  float: none;
  display: table-cell;
}
.table > thead > tr > td.active,
.table > tbody > tr > td.active,
.table > tfoot > tr > td.active,
.table > thead > tr > th.active,
.table > tbody > tr > th.active,
.table > tfoot > tr > th.active,
.table > thead > tr.active > td,
.table > tbody > tr.active > td,
.table > tfoot > tr.active > td,
.table > thead > tr.active > th,
.table > tbody > tr.active > th,
.table > tfoot > tr.active > th {
  background-color: #f5f5f5;
}
.table-hover > tbody > tr > td.active:hover,
.table-hover > tbody > tr > th.active:hover,
.table-hover > tbody > tr.active:hover > td,
.table-hover > tbody > tr:hover > .active,
.table-hover > tbody > tr.active:hover > th {
  background-color: #e8e8e8;
}
.table > thead > tr > td.success,
.table > tbody > tr > td.success,
.table > tfoot > tr > td.success,
.table > thead > tr > th.success,
.table > tbody > tr > th.success,
.table > tfoot > tr > th.success,
.table > thead > tr.success > td,
.table > tbody > tr.success > td,
.table > tfoot > tr.success > td,
.table > thead > tr.success > th,
.table > tbody > tr.success > th,
.table > tfoot > tr.success > th {
  background-color: #dff0d8;
}
.table-hover > tbody > tr > td.success:hover,
.table-hover > tbody > tr > th.success:hover,
.table-hover > tbody > tr.success:hover > td,
.table-hover > tbody > tr:hover > .success,
.table-hover > tbody > tr.success:hover > th {
  background-color: #d0e9c6;
}
.table > thead > tr > td.info,
.table > tbody > tr > td.info,
.table > tfoot > tr > td.info,
.table > thead > tr > th.info,
.table > tbody > tr > th.info,
.table > tfoot > tr > th.info,
.table > thead > tr.info > td,
.table > tbody > tr.info > td,
.table > tfoot > tr.info > td,
.table > thead > tr.info > th,
.table > tbody > tr.info > th,
.table > tfoot > tr.info > th {
  background-color: #d9edf7;
}
.table-hover > tbody > tr > td.info:hover,
.table-hover > tbody > tr > th.info:hover,
.table-hover > tbody > tr.info:hover > td,
.table-hover > tbody > tr:hover > .info,
.table-hover > tbody > tr.info:hover > th {
  background-color: #c4e3f3;
}
.table > thead > tr > td.warning,
.table > tbody > tr > td.warning,
.table > tfoot > tr > td.warning,
.table > thead > tr > th.warning,
.table > tbody > tr > th.warning,
.table > tfoot > tr > th.warning,
.table > thead > tr.warning > td,
.table > tbody > tr.warning > td,
.table > tfoot > tr.warning > td,
.table > thead > tr.warning > th,
.table > tbody > tr.warning > th,
.table > tfoot > tr.warning > th {
  background-color: #fcf8e3;
}
.table-hover > tbody > tr > td.warning:hover,
.table-hover > tbody > tr > th.warning:hover,
.table-hover > tbody > tr.warning:hover > td,
.table-hover > tbody > tr:hover > .warning,
.table-hover > tbody > tr.warning:hover > th {
  background-color: #faf2cc;
}
.table > thead > tr > td.danger,
.table > tbody > tr > td.danger,
.table > tfoot > tr > td.danger,
.table > thead > tr > th.danger,
.table > tbody > tr > th.danger,
.table > tfoot > tr > th.danger,
.table > thead > tr.danger > td,
.table > tbody > tr.danger > td,
.table > tfoot > tr.danger > td,
.table > thead > tr.danger > th,
.table > tbody > tr.danger > th,
.table > tfoot > tr.danger > th {
  background-color: #f2dede;
}
.table-hover > tbody > tr > td.danger:hover,
.table-hover > tbody > tr > th.danger:hover,
.table-hover > tbody > tr.danger:hover > td,
.table-hover > tbody > tr:hover > .danger,
.table-hover > tbody > tr.danger:hover > th {
  background-color: #ebcccc;
}
.table-responsive {
  overflow-x: auto;
  min-height: 0.01%;
}
@media screen and (max-width: 767px) {
  .table-responsive {
    width: 100%;
    margin-bottom: 13.5px;
    overflow-y: hidden;
    -ms-overflow-style: -ms-autohiding-scrollbar;
    border: 1px solid #ddd;
  }
  .table-responsive > .table {
    margin-bottom: 0;
  }
  .table-responsive > .table > thead > tr > th,
  .table-responsive > .table > tbody > tr > th,
  .table-responsive > .table > tfoot > tr > th,
  .table-responsive > .table > thead > tr > td,
  .table-responsive > .table > tbody > tr > td,
  .table-responsive > .table > tfoot > tr > td {
    white-space: nowrap;
  }
  .table-responsive > .table-bordered {
    border: 0;
  }
  .table-responsive > .table-bordered > thead > tr > th:first-child,
  .table-responsive > .table-bordered > tbody > tr > th:first-child,
  .table-responsive > .table-bordered > tfoot > tr > th:first-child,
  .table-responsive > .table-bordered > thead > tr > td:first-child,
  .table-responsive > .table-bordered > tbody > tr > td:first-child,
  .table-responsive > .table-bordered > tfoot > tr > td:first-child {
    border-left: 0;
  }
  .table-responsive > .table-bordered > thead > tr > th:last-child,
  .table-responsive > .table-bordered > tbody > tr > th:last-child,
  .table-responsive > .table-bordered > tfoot > tr > th:last-child,
  .table-responsive > .table-bordered > thead > tr > td:last-child,
  .table-responsive > .table-bordered > tbody > tr > td:last-child,
  .table-responsive > .table-bordered > tfoot > tr > td:last-child {
    border-right: 0;
  }
  .table-responsive > .table-bordered > tbody > tr:last-child > th,
  .table-responsive > .table-bordered > tfoot > tr:last-child > th,
  .table-responsive > .table-bordered > tbody > tr:last-child > td,
  .table-responsive > .table-bordered > tfoot > tr:last-child > td {
    border-bottom: 0;
  }
}
fieldset {
  padding: 0;
  margin: 0;
  border: 0;
  min-width: 0;
}
legend {
  display: block;
  width: 100%;
  padding: 0;
  margin-bottom: 18px;
  font-size: 19.5px;
  line-height: inherit;
  color: #333333;
  border: 0;
  border-bottom: 1px solid #e5e5e5;
}
label {
  display: inline-block;
  max-width: 100%;
  margin-bottom: 5px;
  font-weight: bold;
}
input[type="search"] {
  -webkit-box-sizing: border-box;
  -moz-box-sizing: border-box;
  box-sizing: border-box;
}
input[type="radio"],
input[type="checkbox"] {
  margin: 4px 0 0;
  margin-top: 1px \9;
  line-height: normal;
}
input[type="file"] {
  display: block;
}
input[type="range"] {
  display: block;
  width: 100%;
}
select[multiple],
select[size] {
  height: auto;
}
input[type="file"]:focus,
input[type="radio"]:focus,
input[type="checkbox"]:focus {
  outline: 5px auto -webkit-focus-ring-color;
  outline-offset: -2px;
}
output {
  display: block;
  padding-top: 7px;
  font-size: 13px;
  line-height: 1.42857143;
  color: #555555;
}
.form-control {
  display: block;
  width: 100%;
  height: 32px;
  padding: 6px 12px;
  font-size: 13px;
  line-height: 1.42857143;
  color: #555555;
  background-color: #fff;
  background-image: none;
  border: 1px solid #ccc;
  border-radius: 2px;
  -webkit-box-shadow: inset 0 1px 1px rgba(0, 0, 0, 0.075);
  box-shadow: inset 0 1px 1px rgba(0, 0, 0, 0.075);
  -webkit-transition: border-color ease-in-out .15s, box-shadow ease-in-out .15s;
  -o-transition: border-color ease-in-out .15s, box-shadow ease-in-out .15s;
  transition: border-color ease-in-out .15s, box-shadow ease-in-out .15s;
}
.form-control:focus {
  border-color: #66afe9;
  outline: 0;
  -webkit-box-shadow: inset 0 1px 1px rgba(0,0,0,.075), 0 0 8px rgba(102, 175, 233, 0.6);
  box-shadow: inset 0 1px 1px rgba(0,0,0,.075), 0 0 8px rgba(102, 175, 233, 0.6);
}
.form-control::-moz-placeholder {
  color: #999;
  opacity: 1;
}
.form-control:-ms-input-placeholder {
  color: #999;
}
.form-control::-webkit-input-placeholder {
  color: #999;
}
.form-control::-ms-expand {
  border: 0;
  background-color: transparent;
}
.form-control[disabled],
.form-control[readonly],
fieldset[disabled] .form-control {
  background-color: #eeeeee;
  opacity: 1;
}
.form-control[disabled],
fieldset[disabled] .form-control {
  cursor: not-allowed;
}
textarea.form-control {
  height: auto;
}
input[type="search"] {
  -webkit-appearance: none;
}
@media screen and (-webkit-min-device-pixel-ratio: 0) {
  input[type="date"].form-control,
  input[type="time"].form-control,
  input[type="datetime-local"].form-control,
  input[type="month"].form-control {
    line-height: 32px;
  }
  input[type="date"].input-sm,
  input[type="time"].input-sm,
  input[type="datetime-local"].input-sm,
  input[type="month"].input-sm,
  .input-group-sm input[type="date"],
  .input-group-sm input[type="time"],
  .input-group-sm input[type="datetime-local"],
  .input-group-sm input[type="month"] {
    line-height: 30px;
  }
  input[type="date"].input-lg,
  input[type="time"].input-lg,
  input[type="datetime-local"].input-lg,
  input[type="month"].input-lg,
  .input-group-lg input[type="date"],
  .input-group-lg input[type="time"],
  .input-group-lg input[type="datetime-local"],
  .input-group-lg input[type="month"] {
    line-height: 45px;
  }
}
.form-group {
  margin-bottom: 15px;
}
.radio,
.checkbox {
  position: relative;
  display: block;
  margin-top: 10px;
  margin-bottom: 10px;
}
.radio label,
.checkbox label {
  min-height: 18px;
  padding-left: 20px;
  margin-bottom: 0;
  font-weight: normal;
  cursor: pointer;
}
.radio input[type="radio"],
.radio-inline input[type="radio"],
.checkbox input[type="checkbox"],
.checkbox-inline input[type="checkbox"] {
  position: absolute;
  margin-left: -20px;
  margin-top: 4px \9;
}
.radio + .radio,
.checkbox + .checkbox {
  margin-top: -5px;
}
.radio-inline,
.checkbox-inline {
  position: relative;
  display: inline-block;
  padding-left: 20px;
  margin-bottom: 0;
  vertical-align: middle;
  font-weight: normal;
  cursor: pointer;
}
.radio-inline + .radio-inline,
.checkbox-inline + .checkbox-inline {
  margin-top: 0;
  margin-left: 10px;
}
input[type="radio"][disabled],
input[type="checkbox"][disabled],
input[type="radio"].disabled,
input[type="checkbox"].disabled,
fieldset[disabled] input[type="radio"],
fieldset[disabled] input[type="checkbox"] {
  cursor: not-allowed;
}
.radio-inline.disabled,
.checkbox-inline.disabled,
fieldset[disabled] .radio-inline,
fieldset[disabled] .checkbox-inline {
  cursor: not-allowed;
}
.radio.disabled label,
.checkbox.disabled label,
fieldset[disabled] .radio label,
fieldset[disabled] .checkbox label {
  cursor: not-allowed;
}
.form-control-static {
  padding-top: 7px;
  padding-bottom: 7px;
  margin-bottom: 0;
  min-height: 31px;
}
.form-control-static.input-lg,
.form-control-static.input-sm {
  padding-left: 0;
  padding-right: 0;
}
.input-sm {
  height: 30px;
  padding: 5px 10px;
  font-size: 12px;
  line-height: 1.5;
  border-radius: 1px;
}
select.input-sm {
  height: 30px;
  line-height: 30px;
}
textarea.input-sm,
select[multiple].input-sm {
  height: auto;
}
.form-group-sm .form-control {
  height: 30px;
  padding: 5px 10px;
  font-size: 12px;
  line-height: 1.5;
  border-radius: 1px;
}
.form-group-sm select.form-control {
  height: 30px;
  line-height: 30px;
}
.form-group-sm textarea.form-control,
.form-group-sm select[multiple].form-control {
  height: auto;
}
.form-group-sm .form-control-static {
  height: 30px;
  min-height: 30px;
  padding: 6px 10px;
  font-size: 12px;
  line-height: 1.5;
}
.input-lg {
  height: 45px;
  padding: 10px 16px;
  font-size: 17px;
  line-height: 1.3333333;
  border-radius: 3px;
}
select.input-lg {
  height: 45px;
  line-height: 45px;
}
textarea.input-lg,
select[multiple].input-lg {
  height: auto;
}
.form-group-lg .form-control {
  height: 45px;
  padding: 10px 16px;
  font-size: 17px;
  line-height: 1.3333333;
  border-radius: 3px;
}
.form-group-lg select.form-control {
  height: 45px;
  line-height: 45px;
}
.form-group-lg textarea.form-control,
.form-group-lg select[multiple].form-control {
  height: auto;
}
.form-group-lg .form-control-static {
  height: 45px;
  min-height: 35px;
  padding: 11px 16px;
  font-size: 17px;
  line-height: 1.3333333;
}
.has-feedback {
  position: relative;
}
.has-feedback .form-control {
  padding-right: 40px;
}
.form-control-feedback {
  position: absolute;
  top: 0;
  right: 0;
  z-index: 2;
  display: block;
  width: 32px;
  height: 32px;
  line-height: 32px;
  text-align: center;
  pointer-events: none;
}
.input-lg + .form-control-feedback,
.input-group-lg + .form-control-feedback,
.form-group-lg .form-control + .form-control-feedback {
  width: 45px;
  height: 45px;
  line-height: 45px;
}
.input-sm + .form-control-feedback,
.input-group-sm + .form-control-feedback,
.form-group-sm .form-control + .form-control-feedback {
  width: 30px;
  height: 30px;
  line-height: 30px;
}
.has-success .help-block,
.has-success .control-label,
.has-success .radio,
.has-success .checkbox,
.has-success .radio-inline,
.has-success .checkbox-inline,
.has-success.radio label,
.has-success.checkbox label,
.has-success.radio-inline label,
.has-success.checkbox-inline label {
  color: #3c763d;
}
.has-success .form-control {
  border-color: #3c763d;
  -webkit-box-shadow: inset 0 1px 1px rgba(0, 0, 0, 0.075);
  box-shadow: inset 0 1px 1px rgba(0, 0, 0, 0.075);
}
.has-success .form-control:focus {
  border-color: #2b542c;
  -webkit-box-shadow: inset 0 1px 1px rgba(0, 0, 0, 0.075), 0 0 6px #67b168;
  box-shadow: inset 0 1px 1px rgba(0, 0, 0, 0.075), 0 0 6px #67b168;
}
.has-success .input-group-addon {
  color: #3c763d;
  border-color: #3c763d;
  background-color: #dff0d8;
}
.has-success .form-control-feedback {
  color: #3c763d;
}
.has-warning .help-block,
.has-warning .control-label,
.has-warning .radio,
.has-warning .checkbox,
.has-warning .radio-inline,
.has-warning .checkbox-inline,
.has-warning.radio label,
.has-warning.checkbox label,
.has-warning.radio-inline label,
.has-warning.checkbox-inline label {
  color: #8a6d3b;
}
.has-warning .form-control {
  border-color: #8a6d3b;
  -webkit-box-shadow: inset 0 1px 1px rgba(0, 0, 0, 0.075);
  box-shadow: inset 0 1px 1px rgba(0, 0, 0, 0.075);
}
.has-warning .form-control:focus {
  border-color: #66512c;
  -webkit-box-shadow: inset 0 1px 1px rgba(0, 0, 0, 0.075), 0 0 6px #c0a16b;
  box-shadow: inset 0 1px 1px rgba(0, 0, 0, 0.075), 0 0 6px #c0a16b;
}
.has-warning .input-group-addon {
  color: #8a6d3b;
  border-color: #8a6d3b;
  background-color: #fcf8e3;
}
.has-warning .form-control-feedback {
  color: #8a6d3b;
}
.has-error .help-block,
.has-error .control-label,
.has-error .radio,
.has-error .checkbox,
.has-error .radio-inline,
.has-error .checkbox-inline,
.has-error.radio label,
.has-error.checkbox label,
.has-error.radio-inline label,
.has-error.checkbox-inline label {
  color: #a94442;
}
.has-error .form-control {
  border-color: #a94442;
  -webkit-box-shadow: inset 0 1px 1px rgba(0, 0, 0, 0.075);
  box-shadow: inset 0 1px 1px rgba(0, 0, 0, 0.075);
}
.has-error .form-control:focus {
  border-color: #843534;
  -webkit-box-shadow: inset 0 1px 1px rgba(0, 0, 0, 0.075), 0 0 6px #ce8483;
  box-shadow: inset 0 1px 1px rgba(0, 0, 0, 0.075), 0 0 6px #ce8483;
}
.has-error .input-group-addon {
  color: #a94442;
  border-color: #a94442;
  background-color: #f2dede;
}
.has-error .form-control-feedback {
  color: #a94442;
}
.has-feedback label ~ .form-control-feedback {
  top: 23px;
}
.has-feedback label.sr-only ~ .form-control-feedback {
  top: 0;
}
.help-block {
  display: block;
  margin-top: 5px;
  margin-bottom: 10px;
  color: #404040;
}
@media (min-width: 768px) {
  .form-inline .form-group {
    display: inline-block;
    margin-bottom: 0;
    vertical-align: middle;
  }
  .form-inline .form-control {
    display: inline-block;
    width: auto;
    vertical-align: middle;
  }
  .form-inline .form-control-static {
    display: inline-block;
  }
  .form-inline .input-group {
    display: inline-table;
    vertical-align: middle;
  }
  .form-inline .input-group .input-group-addon,
  .form-inline .input-group .input-group-btn,
  .form-inline .input-group .form-control {
    width: auto;
  }
  .form-inline .input-group > .form-control {
    width: 100%;
  }
  .form-inline .control-label {
    margin-bottom: 0;
    vertical-align: middle;
  }
  .form-inline .radio,
  .form-inline .checkbox {
    display: inline-block;
    margin-top: 0;
    margin-bottom: 0;
    vertical-align: middle;
  }
  .form-inline .radio label,
  .form-inline .checkbox label {
    padding-left: 0;
  }
  .form-inline .radio input[type="radio"],
  .form-inline .checkbox input[type="checkbox"] {
    position: relative;
    margin-left: 0;
  }
  .form-inline .has-feedback .form-control-feedback {
    top: 0;
  }
}
.form-horizontal .radio,
.form-horizontal .checkbox,
.form-horizontal .radio-inline,
.form-horizontal .checkbox-inline {
  margin-top: 0;
  margin-bottom: 0;
  padding-top: 7px;
}
.form-horizontal .radio,
.form-horizontal .checkbox {
  min-height: 25px;
}
.form-horizontal .form-group {
  margin-left: 0px;
  margin-right: 0px;
}
@media (min-width: 768px) {
  .form-horizontal .control-label {
    text-align: right;
    margin-bottom: 0;
    padding-top: 7px;
  }
}
.form-horizontal .has-feedback .form-control-feedback {
  right: 0px;
}
@media (min-width: 768px) {
  .form-horizontal .form-group-lg .control-label {
    padding-top: 11px;
    font-size: 17px;
  }
}
@media (min-width: 768px) {
  .form-horizontal .form-group-sm .control-label {
    padding-top: 6px;
    font-size: 12px;
  }
}
.btn {
  display: inline-block;
  margin-bottom: 0;
  font-weight: normal;
  text-align: center;
  vertical-align: middle;
  touch-action: manipulation;
  cursor: pointer;
  background-image: none;
  border: 1px solid transparent;
  white-space: nowrap;
  padding: 6px 12px;
  font-size: 13px;
  line-height: 1.42857143;
  border-radius: 2px;
  -webkit-user-select: none;
  -moz-user-select: none;
  -ms-user-select: none;
  user-select: none;
}
.btn:focus,
.btn:active:focus,
.btn.active:focus,
.btn.focus,
.btn:active.focus,
.btn.active.focus {
  outline: 5px auto -webkit-focus-ring-color;
  outline-offset: -2px;
}
.btn:hover,
.btn:focus,
.btn.focus {
  color: #333;
  text-decoration: none;
}
.btn:active,
.btn.active {
  outline: 0;
  background-image: none;
  -webkit-box-shadow: inset 0 3px 5px rgba(0, 0, 0, 0.125);
  box-shadow: inset 0 3px 5px rgba(0, 0, 0, 0.125);
}
.btn.disabled,
.btn[disabled],
fieldset[disabled] .btn {
  cursor: not-allowed;
  opacity: 0.65;
  filter: alpha(opacity=65);
  -webkit-box-shadow: none;
  box-shadow: none;
}
a.btn.disabled,
fieldset[disabled] a.btn {
  pointer-events: none;
}
.btn-default {
  color: #333;
  background-color: #fff;
  border-color: #ccc;
}
.btn-default:focus,
.btn-default.focus {
  color: #333;
  background-color: #e6e6e6;
  border-color: #8c8c8c;
}
.btn-default:hover {
  color: #333;
  background-color: #e6e6e6;
  border-color: #adadad;
}
.btn-default:active,
.btn-default.active,
.open > .dropdown-toggle.btn-default {
  color: #333;
  background-color: #e6e6e6;
  border-color: #adadad;
}
.btn-default:active:hover,
.btn-default.active:hover,
.open > .dropdown-toggle.btn-default:hover,
.btn-default:active:focus,
.btn-default.active:focus,
.open > .dropdown-toggle.btn-default:focus,
.btn-default:active.focus,
.btn-default.active.focus,
.open > .dropdown-toggle.btn-default.focus {
  color: #333;
  background-color: #d4d4d4;
  border-color: #8c8c8c;
}
.btn-default:active,
.btn-default.active,
.open > .dropdown-toggle.btn-default {
  background-image: none;
}
.btn-default.disabled:hover,
.btn-default[disabled]:hover,
fieldset[disabled] .btn-default:hover,
.btn-default.disabled:focus,
.btn-default[disabled]:focus,
fieldset[disabled] .btn-default:focus,
.btn-default.disabled.focus,
.btn-default[disabled].focus,
fieldset[disabled] .btn-default.focus {
  background-color: #fff;
  border-color: #ccc;
}
.btn-default .badge {
  color: #fff;
  background-color: #333;
}
.btn-primary {
  color: #fff;
  background-color: #337ab7;
  border-color: #2e6da4;
}
.btn-primary:focus,
.btn-primary.focus {
  color: #fff;
  background-color: #286090;
  border-color: #122b40;
}
.btn-primary:hover {
  color: #fff;
  background-color: #286090;
  border-color: #204d74;
}
.btn-primary:active,
.btn-primary.active,
.open > .dropdown-toggle.btn-primary {
  color: #fff;
  background-color: #286090;
  border-color: #204d74;
}
.btn-primary:active:hover,
.btn-primary.active:hover,
.open > .dropdown-toggle.btn-primary:hover,
.btn-primary:active:focus,
.btn-primary.active:focus,
.open > .dropdown-toggle.btn-primary:focus,
.btn-primary:active.focus,
.btn-primary.active.focus,
.open > .dropdown-toggle.btn-primary.focus {
  color: #fff;
  background-color: #204d74;
  border-color: #122b40;
}
.btn-primary:active,
.btn-primary.active,
.open > .dropdown-toggle.btn-primary {
  background-image: none;
}
.btn-primary.disabled:hover,
.btn-primary[disabled]:hover,
fieldset[disabled] .btn-primary:hover,
.btn-primary.disabled:focus,
.btn-primary[disabled]:focus,
fieldset[disabled] .btn-primary:focus,
.btn-primary.disabled.focus,
.btn-primary[disabled].focus,
fieldset[disabled] .btn-primary.focus {
  background-color: #337ab7;
  border-color: #2e6da4;
}
.btn-primary .badge {
  color: #337ab7;
  background-color: #fff;
}
.btn-success {
  color: #fff;
  background-color: #5cb85c;
  border-color: #4cae4c;
}
.btn-success:focus,
.btn-success.focus {
  color: #fff;
  background-color: #449d44;
  border-color: #255625;
}
.btn-success:hover {
  color: #fff;
  background-color: #449d44;
  border-color: #398439;
}
.btn-success:active,
.btn-success.active,
.open > .dropdown-toggle.btn-success {
  color: #fff;
  background-color: #449d44;
  border-color: #398439;
}
.btn-success:active:hover,
.btn-success.active:hover,
.open > .dropdown-toggle.btn-success:hover,
.btn-success:active:focus,
.btn-success.active:focus,
.open > .dropdown-toggle.btn-success:focus,
.btn-success:active.focus,
.btn-success.active.focus,
.open > .dropdown-toggle.btn-success.focus {
  color: #fff;
  background-color: #398439;
  border-color: #255625;
}
.btn-success:active,
.btn-success.active,
.open > .dropdown-toggle.btn-success {
  background-image: none;
}
.btn-success.disabled:hover,
.btn-success[disabled]:hover,
fieldset[disabled] .btn-success:hover,
.btn-success.disabled:focus,
.btn-success[disabled]:focus,
fieldset[disabled] .btn-success:focus,
.btn-success.disabled.focus,
.btn-success[disabled].focus,
fieldset[disabled] .btn-success.focus {
  background-color: #5cb85c;
  border-color: #4cae4c;
}
.btn-success .badge {
  color: #5cb85c;
  background-color: #fff;
}
.btn-info {
  color: #fff;
  background-color: #5bc0de;
  border-color: #46b8da;
}
.btn-info:focus,
.btn-info.focus {
  color: #fff;
  background-color: #31b0d5;
  border-color: #1b6d85;
}
.btn-info:hover {
  color: #fff;
  background-color: #31b0d5;
  border-color: #269abc;
}
.btn-info:active,
.btn-info.active,
.open > .dropdown-toggle.btn-info {
  color: #fff;
  background-color: #31b0d5;
  border-color: #269abc;
}
.btn-info:active:hover,
.btn-info.active:hover,
.open > .dropdown-toggle.btn-info:hover,
.btn-info:active:focus,
.btn-info.active:focus,
.open > .dropdown-toggle.btn-info:focus,
.btn-info:active.focus,
.btn-info.active.focus,
.open > .dropdown-toggle.btn-info.focus {
  color: #fff;
  background-color: #269abc;
  border-color: #1b6d85;
}
.btn-info:active,
.btn-info.active,
.open > .dropdown-toggle.btn-info {
  background-image: none;
}
.btn-info.disabled:hover,
.btn-info[disabled]:hover,
fieldset[disabled] .btn-info:hover,
.btn-info.disabled:focus,
.btn-info[disabled]:focus,
fieldset[disabled] .btn-info:focus,
.btn-info.disabled.focus,
.btn-info[disabled].focus,
fieldset[disabled] .btn-info.focus {
  background-color: #5bc0de;
  border-color: #46b8da;
}
.btn-info .badge {
  color: #5bc0de;
  background-color: #fff;
}
.btn-warning {
  color: #fff;
  background-color: #f0ad4e;
  border-color: #eea236;
}
.btn-warning:focus,
.btn-warning.focus {
  color: #fff;
  background-color: #ec971f;
  border-color: #985f0d;
}
.btn-warning:hover {
  color: #fff;
  background-color: #ec971f;
  border-color: #d58512;
}
.btn-warning:active,
.btn-warning.active,
.open > .dropdown-toggle.btn-warning {
  color: #fff;
  background-color: #ec971f;
  border-color: #d58512;
}
.btn-warning:active:hover,
.btn-warning.active:hover,
.open > .dropdown-toggle.btn-warning:hover,
.btn-warning:active:focus,
.btn-warning.active:focus,
.open > .dropdown-toggle.btn-warning:focus,
.btn-warning:active.focus,
.btn-warning.active.focus,
.open > .dropdown-toggle.btn-warning.focus {
  color: #fff;
  background-color: #d58512;
  border-color: #985f0d;
}
.btn-warning:active,
.btn-warning.active,
.open > .dropdown-toggle.btn-warning {
  background-image: none;
}
.btn-warning.disabled:hover,
.btn-warning[disabled]:hover,
fieldset[disabled] .btn-warning:hover,
.btn-warning.disabled:focus,
.btn-warning[disabled]:focus,
fieldset[disabled] .btn-warning:focus,
.btn-warning.disabled.focus,
.btn-warning[disabled].focus,
fieldset[disabled] .btn-warning.focus {
  background-color: #f0ad4e;
  border-color: #eea236;
}
.btn-warning .badge {
  color: #f0ad4e;
  background-color: #fff;
}
.btn-danger {
  color: #fff;
  background-color: #d9534f;
  border-color: #d43f3a;
}
.btn-danger:focus,
.btn-danger.focus {
  color: #fff;
  background-color: #c9302c;
  border-color: #761c19;
}
.btn-danger:hover {
  color: #fff;
  background-color: #c9302c;
  border-color: #ac2925;
}
.btn-danger:active,
.btn-danger.active,
.open > .dropdown-toggle.btn-danger {
  color: #fff;
  background-color: #c9302c;
  border-color: #ac2925;
}
.btn-danger:active:hover,
.btn-danger.active:hover,
.open > .dropdown-toggle.btn-danger:hover,
.btn-danger:active:focus,
.btn-danger.active:focus,
.open > .dropdown-toggle.btn-danger:focus,
.btn-danger:active.focus,
.btn-danger.active.focus,
.open > .dropdown-toggle.btn-danger.focus {
  color: #fff;
  background-color: #ac2925;
  border-color: #761c19;
}
.btn-danger:active,
.btn-danger.active,
.open > .dropdown-toggle.btn-danger {
  background-image: none;
}
.btn-danger.disabled:hover,
.btn-danger[disabled]:hover,
fieldset[disabled] .btn-danger:hover,
.btn-danger.disabled:focus,
.btn-danger[disabled]:focus,
fieldset[disabled] .btn-danger:focus,
.btn-danger.disabled.focus,
.btn-danger[disabled].focus,
fieldset[disabled] .btn-danger.focus {
  background-color: #d9534f;
  border-color: #d43f3a;
}
.btn-danger .badge {
  color: #d9534f;
  background-color: #fff;
}
.btn-link {
  color: #337ab7;
  font-weight: normal;
  border-radius: 0;
}
.btn-link,
.btn-link:active,
.btn-link.active,
.btn-link[disabled],
fieldset[disabled] .btn-link {
  background-color: transparent;
  -webkit-box-shadow: none;
  box-shadow: none;
}
.btn-link,
.btn-link:hover,
.btn-link:focus,
.btn-link:active {
  border-color: transparent;
}
.btn-link:hover,
.btn-link:focus {
  color: #23527c;
  text-decoration: underline;
  background-color: transparent;
}
.btn-link[disabled]:hover,
fieldset[disabled] .btn-link:hover,
.btn-link[disabled]:focus,
fieldset[disabled] .btn-link:focus {
  color: #777777;
  text-decoration: none;
}
.btn-lg,
.btn-group-lg > .btn {
  padding: 10px 16px;
  font-size: 17px;
  line-height: 1.3333333;
  border-radius: 3px;
}
.btn-sm,
.btn-group-sm > .btn {
  padding: 5px 10px;
  font-size: 12px;
  line-height: 1.5;
  border-radius: 1px;
}
.btn-xs,
.btn-group-xs > .btn {
  padding: 1px 5px;
  font-size: 12px;
  line-height: 1.5;
  border-radius: 1px;
}
.btn-block {
  display: block;
  width: 100%;
}
.btn-block + .btn-block {
  margin-top: 5px;
}
input[type="submit"].btn-block,
input[type="reset"].btn-block,
input[type="button"].btn-block {
  width: 100%;
}
.fade {
  opacity: 0;
  -webkit-transition: opacity 0.15s linear;
  -o-transition: opacity 0.15s linear;
  transition: opacity 0.15s linear;
}
.fade.in {
  opacity: 1;
}
.collapse {
  display: none;
}
.collapse.in {
  display: block;
}
tr.collapse.in {
  display: table-row;
}
tbody.collapse.in {
  display: table-row-group;
}
.collapsing {
  position: relative;
  height: 0;
  overflow: hidden;
  -webkit-transition-property: height, visibility;
  transition-property: height, visibility;
  -webkit-transition-duration: 0.35s;
  transition-duration: 0.35s;
  -webkit-transition-timing-function: ease;
  transition-timing-function: ease;
}
.caret {
  display: inline-block;
  width: 0;
  height: 0;
  margin-left: 2px;
  vertical-align: middle;
  border-top: 4px dashed;
  border-top: 4px solid \9;
  border-right: 4px solid transparent;
  border-left: 4px solid transparent;
}
.dropup,
.dropdown {
  position: relative;
}
.dropdown-toggle:focus {
  outline: 0;
}
.dropdown-menu {
  position: absolute;
  top: 100%;
  left: 0;
  z-index: 1000;
  display: none;
  float: left;
  min-width: 160px;
  padding: 5px 0;
  margin: 2px 0 0;
  list-style: none;
  font-size: 13px;
  text-align: left;
  background-color: #fff;
  border: 1px solid #ccc;
  border: 1px solid rgba(0, 0, 0, 0.15);
  border-radius: 2px;
  -webkit-box-shadow: 0 6px 12px rgba(0, 0, 0, 0.175);
  box-shadow: 0 6px 12px rgba(0, 0, 0, 0.175);
  background-clip: padding-box;
}
.dropdown-menu.pull-right {
  right: 0;
  left: auto;
}
.dropdown-menu .divider {
  height: 1px;
  margin: 8px 0;
  overflow: hidden;
  background-color: #e5e5e5;
}
.dropdown-menu > li > a {
  display: block;
  padding: 3px 20px;
  clear: both;
  font-weight: normal;
  line-height: 1.42857143;
  color: #333333;
  white-space: nowrap;
}
.dropdown-menu > li > a:hover,
.dropdown-menu > li > a:focus {
  text-decoration: none;
  color: #262626;
  background-color: #f5f5f5;
}
.dropdown-menu > .active > a,
.dropdown-menu > .active > a:hover,
.dropdown-menu > .active > a:focus {
  color: #fff;
  text-decoration: none;
  outline: 0;
  background-color: #337ab7;
}
.dropdown-menu > .disabled > a,
.dropdown-menu > .disabled > a:hover,
.dropdown-menu > .disabled > a:focus {
  color: #777777;
}
.dropdown-menu > .disabled > a:hover,
.dropdown-menu > .disabled > a:focus {
  text-decoration: none;
  background-color: transparent;
  background-image: none;
  filter: progid:DXImageTransform.Microsoft.gradient(enabled = false);
  cursor: not-allowed;
}
.open > .dropdown-menu {
  display: block;
}
.open > a {
  outline: 0;
}
.dropdown-menu-right {
  left: auto;
  right: 0;
}
.dropdown-menu-left {
  left: 0;
  right: auto;
}
.dropdown-header {
  display: block;
  padding: 3px 20px;
  font-size: 12px;
  line-height: 1.42857143;
  color: #777777;
  white-space: nowrap;
}
.dropdown-backdrop {
  position: fixed;
  left: 0;
  right: 0;
  bottom: 0;
  top: 0;
  z-index: 990;
}
.pull-right > .dropdown-menu {
  right: 0;
  left: auto;
}
.dropup .caret,
.navbar-fixed-bottom .dropdown .caret {
  border-top: 0;
  border-bottom: 4px dashed;
  border-bottom: 4px solid \9;
  content: "";
}
.dropup .dropdown-menu,
.navbar-fixed-bottom .dropdown .dropdown-menu {
  top: auto;
  bottom: 100%;
  margin-bottom: 2px;
}
@media (min-width: 541px) {
  .navbar-right .dropdown-menu {
    left: auto;
    right: 0;
  }
  .navbar-right .dropdown-menu-left {
    left: 0;
    right: auto;
  }
}
.btn-group,
.btn-group-vertical {
  position: relative;
  display: inline-block;
  vertical-align: middle;
}
.btn-group > .btn,
.btn-group-vertical > .btn {
  position: relative;
  float: left;
}
.btn-group > .btn:hover,
.btn-group-vertical > .btn:hover,
.btn-group > .btn:focus,
.btn-group-vertical > .btn:focus,
.btn-group > .btn:active,
.btn-group-vertical > .btn:active,
.btn-group > .btn.active,
.btn-group-vertical > .btn.active {
  z-index: 2;
}
.btn-group .btn + .btn,
.btn-group .btn + .btn-group,
.btn-group .btn-group + .btn,
.btn-group .btn-group + .btn-group {
  margin-left: -1px;
}
.btn-toolbar {
  margin-left: -5px;
}
.btn-toolbar .btn,
.btn-toolbar .btn-group,
.btn-toolbar .input-group {
  float: left;
}
.btn-toolbar > .btn,
.btn-toolbar > .btn-group,
.btn-toolbar > .input-group {
  margin-left: 5px;
}
.btn-group > .btn:not(:first-child):not(:last-child):not(.dropdown-toggle) {
  border-radius: 0;
}
.btn-group > .btn:first-child {
  margin-left: 0;
}
.btn-group > .btn:first-child:not(:last-child):not(.dropdown-toggle) {
  border-bottom-right-radius: 0;
  border-top-right-radius: 0;
}
.btn-group > .btn:last-child:not(:first-child),
.btn-group > .dropdown-toggle:not(:first-child) {
  border-bottom-left-radius: 0;
  border-top-left-radius: 0;
}
.btn-group > .btn-group {
  float: left;
}
.btn-group > .btn-group:not(:first-child):not(:last-child) > .btn {
  border-radius: 0;
}
.btn-group > .btn-group:first-child:not(:last-child) > .btn:last-child,
.btn-group > .btn-group:first-child:not(:last-child) > .dropdown-toggle {
  border-bottom-right-radius: 0;
  border-top-right-radius: 0;
}
.btn-group > .btn-group:last-child:not(:first-child) > .btn:first-child {
  border-bottom-left-radius: 0;
  border-top-left-radius: 0;
}
.btn-group .dropdown-toggle:active,
.btn-group.open .dropdown-toggle {
  outline: 0;
}
.btn-group > .btn + .dropdown-toggle {
  padding-left: 8px;
  padding-right: 8px;
}
.btn-group > .btn-lg + .dropdown-toggle {
  padding-left: 12px;
  padding-right: 12px;
}
.btn-group.open .dropdown-toggle {
  -webkit-box-shadow: inset 0 3px 5px rgba(0, 0, 0, 0.125);
  box-shadow: inset 0 3px 5px rgba(0, 0, 0, 0.125);
}
.btn-group.open .dropdown-toggle.btn-link {
  -webkit-box-shadow: none;
  box-shadow: none;
}
.btn .caret {
  margin-left: 0;
}
.btn-lg .caret {
  border-width: 5px 5px 0;
  border-bottom-width: 0;
}
.dropup .btn-lg .caret {
  border-width: 0 5px 5px;
}
.btn-group-vertical > .btn,
.btn-group-vertical > .btn-group,
.btn-group-vertical > .btn-group > .btn {
  display: block;
  float: none;
  width: 100%;
  max-width: 100%;
}
.btn-group-vertical > .btn-group > .btn {
  float: none;
}
.btn-group-vertical > .btn + .btn,
.btn-group-vertical > .btn + .btn-group,
.btn-group-vertical > .btn-group + .btn,
.btn-group-vertical > .btn-group + .btn-group {
  margin-top: -1px;
  margin-left: 0;
}
.btn-group-vertical > .btn:not(:first-child):not(:last-child) {
  border-radius: 0;
}
.btn-group-vertical > .btn:first-child:not(:last-child) {
  border-top-right-radius: 2px;
  border-top-left-radius: 2px;
  border-bottom-right-radius: 0;
  border-bottom-left-radius: 0;
}
.btn-group-vertical > .btn:last-child:not(:first-child) {
  border-top-right-radius: 0;
  border-top-left-radius: 0;
  border-bottom-right-radius: 2px;
  border-bottom-left-radius: 2px;
}
.btn-group-vertical > .btn-group:not(:first-child):not(:last-child) > .btn {
  border-radius: 0;
}
.btn-group-vertical > .btn-group:first-child:not(:last-child) > .btn:last-child,
.btn-group-vertical > .btn-group:first-child:not(:last-child) > .dropdown-toggle {
  border-bottom-right-radius: 0;
  border-bottom-left-radius: 0;
}
.btn-group-vertical > .btn-group:last-child:not(:first-child) > .btn:first-child {
  border-top-right-radius: 0;
  border-top-left-radius: 0;
}
.btn-group-justified {
  display: table;
  width: 100%;
  table-layout: fixed;
  border-collapse: separate;
}
.btn-group-justified > .btn,
.btn-group-justified > .btn-group {
  float: none;
  display: table-cell;
  width: 1%;
}
.btn-group-justified > .btn-group .btn {
  width: 100%;
}
.btn-group-justified > .btn-group .dropdown-menu {
  left: auto;
}
[data-toggle="buttons"] > .btn input[type="radio"],
[data-toggle="buttons"] > .btn-group > .btn input[type="radio"],
[data-toggle="buttons"] > .btn input[type="checkbox"],
[data-toggle="buttons"] > .btn-group > .btn input[type="checkbox"] {
  position: absolute;
  clip: rect(0, 0, 0, 0);
  pointer-events: none;
}
.input-group {
  position: relative;
  display: table;
  border-collapse: separate;
}
.input-group[class*="col-"] {
  float: none;
  padding-left: 0;
  padding-right: 0;
}
.input-group .form-control {
  position: relative;
  z-index: 2;
  float: left;
  width: 100%;
  margin-bottom: 0;
}
.input-group .form-control:focus {
  z-index: 3;
}
.input-group-lg > .form-control,
.input-group-lg > .input-group-addon,
.input-group-lg > .input-group-btn > .btn {
  height: 45px;
  padding: 10px 16px;
  font-size: 17px;
  line-height: 1.3333333;
  border-radius: 3px;
}
select.input-group-lg > .form-control,
select.input-group-lg > .input-group-addon,
select.input-group-lg > .input-group-btn > .btn {
  height: 45px;
  line-height: 45px;
}
textarea.input-group-lg > .form-control,
textarea.input-group-lg > .input-group-addon,
textarea.input-group-lg > .input-group-btn > .btn,
select[multiple].input-group-lg > .form-control,
select[multiple].input-group-lg > .input-group-addon,
select[multiple].input-group-lg > .input-group-btn > .btn {
  height: auto;
}
.input-group-sm > .form-control,
.input-group-sm > .input-group-addon,
.input-group-sm > .input-group-btn > .btn {
  height: 30px;
  padding: 5px 10px;
  font-size: 12px;
  line-height: 1.5;
  border-radius: 1px;
}
select.input-group-sm > .form-control,
select.input-group-sm > .input-group-addon,
select.input-group-sm > .input-group-btn > .btn {
  height: 30px;
  line-height: 30px;
}
textarea.input-group-sm > .form-control,
textarea.input-group-sm > .input-group-addon,
textarea.input-group-sm > .input-group-btn > .btn,
select[multiple].input-group-sm > .form-control,
select[multiple].input-group-sm > .input-group-addon,
select[multiple].input-group-sm > .input-group-btn > .btn {
  height: auto;
}
.input-group-addon,
.input-group-btn,
.input-group .form-control {
  display: table-cell;
}
.input-group-addon:not(:first-child):not(:last-child),
.input-group-btn:not(:first-child):not(:last-child),
.input-group .form-control:not(:first-child):not(:last-child) {
  border-radius: 0;
}
.input-group-addon,
.input-group-btn {
  width: 1%;
  white-space: nowrap;
  vertical-align: middle;
}
.input-group-addon {
  padding: 6px 12px;
  font-size: 13px;
  font-weight: normal;
  line-height: 1;
  color: #555555;
  text-align: center;
  background-color: #eeeeee;
  border: 1px solid #ccc;
  border-radius: 2px;
}
.input-group-addon.input-sm {
  padding: 5px 10px;
  font-size: 12px;
  border-radius: 1px;
}
.input-group-addon.input-lg {
  padding: 10px 16px;
  font-size: 17px;
  border-radius: 3px;
}
.input-group-addon input[type="radio"],
.input-group-addon input[type="checkbox"] {
  margin-top: 0;
}
.input-group .form-control:first-child,
.input-group-addon:first-child,
.input-group-btn:first-child > .btn,
.input-group-btn:first-child > .btn-group > .btn,
.input-group-btn:first-child > .dropdown-toggle,
.input-group-btn:last-child > .btn:not(:last-child):not(.dropdown-toggle),
.input-group-btn:last-child > .btn-group:not(:last-child) > .btn {
  border-bottom-right-radius: 0;
  border-top-right-radius: 0;
}
.input-group-addon:first-child {
  border-right: 0;
}
.input-group .form-control:last-child,
.input-group-addon:last-child,
.input-group-btn:last-child > .btn,
.input-group-btn:last-child > .btn-group > .btn,
.input-group-btn:last-child > .dropdown-toggle,
.input-group-btn:first-child > .btn:not(:first-child),
.input-group-btn:first-child > .btn-group:not(:first-child) > .btn {
  border-bottom-left-radius: 0;
  border-top-left-radius: 0;
}
.input-group-addon:last-child {
  border-left: 0;
}
.input-group-btn {
  position: relative;
  font-size: 0;
  white-space: nowrap;
}
.input-group-btn > .btn {
  position: relative;
}
.input-group-btn > .btn + .btn {
  margin-left: -1px;
}
.input-group-btn > .btn:hover,
.input-group-btn > .btn:focus,
.input-group-btn > .btn:active {
  z-index: 2;
}
.input-group-btn:first-child > .btn,
.input-group-btn:first-child > .btn-group {
  margin-right: -1px;
}
.input-group-btn:last-child > .btn,
.input-group-btn:last-child > .btn-group {
  z-index: 2;
  margin-left: -1px;
}
.nav {
  margin-bottom: 0;
  padding-left: 0;
  list-style: none;
}
.nav > li {
  position: relative;
  display: block;
}
.nav > li > a {
  position: relative;
  display: block;
  padding: 10px 15px;
}
.nav > li > a:hover,
.nav > li > a:focus {
  text-decoration: none;
  background-color: #eeeeee;
}
.nav > li.disabled > a {
  color: #777777;
}
.nav > li.disabled > a:hover,
.nav > li.disabled > a:focus {
  color: #777777;
  text-decoration: none;
  background-color: transparent;
  cursor: not-allowed;
}
.nav .open > a,
.nav .open > a:hover,
.nav .open > a:focus {
  background-color: #eeeeee;
  border-color: #337ab7;
}
.nav .nav-divider {
  height: 1px;
  margin: 8px 0;
  overflow: hidden;
  background-color: #e5e5e5;
}
.nav > li > a > img {
  max-width: none;
}
.nav-tabs {
  border-bottom: 1px solid #ddd;
}
.nav-tabs > li {
  float: left;
  margin-bottom: -1px;
}
.nav-tabs > li > a {
  margin-right: 2px;
  line-height: 1.42857143;
  border: 1px solid transparent;
  border-radius: 2px 2px 0 0;
}
.nav-tabs > li > a:hover {
  border-color: #eeeeee #eeeeee #ddd;
}
.nav-tabs > li.active > a,
.nav-tabs > li.active > a:hover,
.nav-tabs > li.active > a:focus {
  color: #555555;
  background-color: #fff;
  border: 1px solid #ddd;
  border-bottom-color: transparent;
  cursor: default;
}
.nav-tabs.nav-justified {
  width: 100%;
  border-bottom: 0;
}
.nav-tabs.nav-justified > li {
  float: none;
}
.nav-tabs.nav-justified > li > a {
  text-align: center;
  margin-bottom: 5px;
}
.nav-tabs.nav-justified > .dropdown .dropdown-menu {
  top: auto;
  left: auto;
}
@media (min-width: 768px) {
  .nav-tabs.nav-justified > li {
    display: table-cell;
    width: 1%;
  }
  .nav-tabs.nav-justified > li > a {
    margin-bottom: 0;
  }
}
.nav-tabs.nav-justified > li > a {
  margin-right: 0;
  border-radius: 2px;
}
.nav-tabs.nav-justified > .active > a,
.nav-tabs.nav-justified > .active > a:hover,
.nav-tabs.nav-justified > .active > a:focus {
  border: 1px solid #ddd;
}
@media (min-width: 768px) {
  .nav-tabs.nav-justified > li > a {
    border-bottom: 1px solid #ddd;
    border-radius: 2px 2px 0 0;
  }
  .nav-tabs.nav-justified > .active > a,
  .nav-tabs.nav-justified > .active > a:hover,
  .nav-tabs.nav-justified > .active > a:focus {
    border-bottom-color: #fff;
  }
}
.nav-pills > li {
  float: left;
}
.nav-pills > li > a {
  border-radius: 2px;
}
.nav-pills > li + li {
  margin-left: 2px;
}
.nav-pills > li.active > a,
.nav-pills > li.active > a:hover,
.nav-pills > li.active > a:focus {
  color: #fff;
  background-color: #337ab7;
}
.nav-stacked > li {
  float: none;
}
.nav-stacked > li + li {
  margin-top: 2px;
  margin-left: 0;
}
.nav-justified {
  width: 100%;
}
.nav-justified > li {
  float: none;
}
.nav-justified > li > a {
  text-align: center;
  margin-bottom: 5px;
}
.nav-justified > .dropdown .dropdown-menu {
  top: auto;
  left: auto;
}
@media (min-width: 768px) {
  .nav-justified > li {
    display: table-cell;
    width: 1%;
  }
  .nav-justified > li > a {
    margin-bottom: 0;
  }
}
.nav-tabs-justified {
  border-bottom: 0;
}
.nav-tabs-justified > li > a {
  margin-right: 0;
  border-radius: 2px;
}
.nav-tabs-justified > .active > a,
.nav-tabs-justified > .active > a:hover,
.nav-tabs-justified > .active > a:focus {
  border: 1px solid #ddd;
}
@media (min-width: 768px) {
  .nav-tabs-justified > li > a {
    border-bottom: 1px solid #ddd;
    border-radius: 2px 2px 0 0;
  }
  .nav-tabs-justified > .active > a,
  .nav-tabs-justified > .active > a:hover,
  .nav-tabs-justified > .active > a:focus {
    border-bottom-color: #fff;
  }
}
.tab-content > .tab-pane {
  display: none;
}
.tab-content > .active {
  display: block;
}
.nav-tabs .dropdown-menu {
  margin-top: -1px;
  border-top-right-radius: 0;
  border-top-left-radius: 0;
}
.navbar {
  position: relative;
  min-height: 30px;
  margin-bottom: 18px;
  border: 1px solid transparent;
}
@media (min-width: 541px) {
  .navbar {
    border-radius: 2px;
  }
}
@media (min-width: 541px) {
  .navbar-header {
    float: left;
  }
}
.navbar-collapse {
  overflow-x: visible;
  padding-right: 0px;
  padding-left: 0px;
  border-top: 1px solid transparent;
  box-shadow: inset 0 1px 0 rgba(255, 255, 255, 0.1);
  -webkit-overflow-scrolling: touch;
}
.navbar-collapse.in {
  overflow-y: auto;
}
@media (min-width: 541px) {
  .navbar-collapse {
    width: auto;
    border-top: 0;
    box-shadow: none;
  }
  .navbar-collapse.collapse {
    display: block !important;
    height: auto !important;
    padding-bottom: 0;
    overflow: visible !important;
  }
  .navbar-collapse.in {
    overflow-y: visible;
  }
  .navbar-fixed-top .navbar-collapse,
  .navbar-static-top .navbar-collapse,
  .navbar-fixed-bottom .navbar-collapse {
    padding-left: 0;
    padding-right: 0;
  }
}
.navbar-fixed-top .navbar-collapse,
.navbar-fixed-bottom .navbar-collapse {
  max-height: 340px;
}
@media (max-device-width: 540px) and (orientation: landscape) {
  .navbar-fixed-top .navbar-collapse,
  .navbar-fixed-bottom .navbar-collapse {
    max-height: 200px;
  }
}
.container > .navbar-header,
.container-fluid > .navbar-header,
.container > .navbar-collapse,
.container-fluid > .navbar-collapse {
  margin-right: 0px;
  margin-left: 0px;
}
@media (min-width: 541px) {
  .container > .navbar-header,
  .container-fluid > .navbar-header,
  .container > .navbar-collapse,
  .container-fluid > .navbar-collapse {
    margin-right: 0;
    margin-left: 0;
  }
}
.navbar-static-top {
  z-index: 1000;
  border-width: 0 0 1px;
}
@media (min-width: 541px) {
  .navbar-static-top {
    border-radius: 0;
  }
}
.navbar-fixed-top,
.navbar-fixed-bottom {
  position: fixed;
  right: 0;
  left: 0;
  z-index: 1030;
}
@media (min-width: 541px) {
  .navbar-fixed-top,
  .navbar-fixed-bottom {
    border-radius: 0;
  }
}
.navbar-fixed-top {
  top: 0;
  border-width: 0 0 1px;
}
.navbar-fixed-bottom {
  bottom: 0;
  margin-bottom: 0;
  border-width: 1px 0 0;
}
.navbar-brand {
  float: left;
  padding: 6px 0px;
  font-size: 17px;
  line-height: 18px;
  height: 30px;
}
.navbar-brand:hover,
.navbar-brand:focus {
  text-decoration: none;
}
.navbar-brand > img {
  display: block;
}
@media (min-width: 541px) {
  .navbar > .container .navbar-brand,
  .navbar > .container-fluid .navbar-brand {
    margin-left: 0px;
  }
}
.navbar-toggle {
  position: relative;
  float: right;
  margin-right: 0px;
  padding: 9px 10px;
  margin-top: -2px;
  margin-bottom: -2px;
  background-color: transparent;
  background-image: none;
  border: 1px solid transparent;
  border-radius: 2px;
}
.navbar-toggle:focus {
  outline: 0;
}
.navbar-toggle .icon-bar {
  display: block;
  width: 22px;
  height: 2px;
  border-radius: 1px;
}
.navbar-toggle .icon-bar + .icon-bar {
  margin-top: 4px;
}
@media (min-width: 541px) {
  .navbar-toggle {
    display: none;
  }
}
.navbar-nav {
  margin: 3px 0px;
}
.navbar-nav > li > a {
  padding-top: 10px;
  padding-bottom: 10px;
  line-height: 18px;
}
@media (max-width: 540px) {
  .navbar-nav .open .dropdown-menu {
    position: static;
    float: none;
    width: auto;
    margin-top: 0;
    background-color: transparent;
    border: 0;
    box-shadow: none;
  }
  .navbar-nav .open .dropdown-menu > li > a,
  .navbar-nav .open .dropdown-menu .dropdown-header {
    padding: 5px 15px 5px 25px;
  }
  .navbar-nav .open .dropdown-menu > li > a {
    line-height: 18px;
  }
  .navbar-nav .open .dropdown-menu > li > a:hover,
  .navbar-nav .open .dropdown-menu > li > a:focus {
    background-image: none;
  }
}
@media (min-width: 541px) {
  .navbar-nav {
    float: left;
    margin: 0;
  }
  .navbar-nav > li {
    float: left;
  }
  .navbar-nav > li > a {
    padding-top: 6px;
    padding-bottom: 6px;
  }
}
.navbar-form {
  margin-left: 0px;
  margin-right: 0px;
  padding: 10px 0px;
  border-top: 1px solid transparent;
  border-bottom: 1px solid transparent;
  -webkit-box-shadow: inset 0 1px 0 rgba(255, 255, 255, 0.1), 0 1px 0 rgba(255, 255, 255, 0.1);
  box-shadow: inset 0 1px 0 rgba(255, 255, 255, 0.1), 0 1px 0 rgba(255, 255, 255, 0.1);
  margin-top: -1px;
  margin-bottom: -1px;
}
@media (min-width: 768px) {
  .navbar-form .form-group {
    display: inline-block;
    margin-bottom: 0;
    vertical-align: middle;
  }
  .navbar-form .form-control {
    display: inline-block;
    width: auto;
    vertical-align: middle;
  }
  .navbar-form .form-control-static {
    display: inline-block;
  }
  .navbar-form .input-group {
    display: inline-table;
    vertical-align: middle;
  }
  .navbar-form .input-group .input-group-addon,
  .navbar-form .input-group .input-group-btn,
  .navbar-form .input-group .form-control {
    width: auto;
  }
  .navbar-form .input-group > .form-control {
    width: 100%;
  }
  .navbar-form .control-label {
    margin-bottom: 0;
    vertical-align: middle;
  }
  .navbar-form .radio,
  .navbar-form .checkbox {
    display: inline-block;
    margin-top: 0;
    margin-bottom: 0;
    vertical-align: middle;
  }
  .navbar-form .radio label,
  .navbar-form .checkbox label {
    padding-left: 0;
  }
  .navbar-form .radio input[type="radio"],
  .navbar-form .checkbox input[type="checkbox"] {
    position: relative;
    margin-left: 0;
  }
  .navbar-form .has-feedback .form-control-feedback {
    top: 0;
  }
}
@media (max-width: 540px) {
  .navbar-form .form-group {
    margin-bottom: 5px;
  }
  .navbar-form .form-group:last-child {
    margin-bottom: 0;
  }
}
@media (min-width: 541px) {
  .navbar-form {
    width: auto;
    border: 0;
    margin-left: 0;
    margin-right: 0;
    padding-top: 0;
    padding-bottom: 0;
    -webkit-box-shadow: none;
    box-shadow: none;
  }
}
.navbar-nav > li > .dropdown-menu {
  margin-top: 0;
  border-top-right-radius: 0;
  border-top-left-radius: 0;
}
.navbar-fixed-bottom .navbar-nav > li > .dropdown-menu {
  margin-bottom: 0;
  border-top-right-radius: 2px;
  border-top-left-radius: 2px;
  border-bottom-right-radius: 0;
  border-bottom-left-radius: 0;
}
.navbar-btn {
  margin-top: -1px;
  margin-bottom: -1px;
}
.navbar-btn.btn-sm {
  margin-top: 0px;
  margin-bottom: 0px;
}
.navbar-btn.btn-xs {
  margin-top: 4px;
  margin-bottom: 4px;
}
.navbar-text {
  margin-top: 6px;
  margin-bottom: 6px;
}
@media (min-width: 541px) {
  .navbar-text {
    float: left;
    margin-left: 0px;
    margin-right: 0px;
  }
}
@media (min-width: 541px) {
  .navbar-left {
    float: left !important;
    float: left;
  }
  .navbar-right {
    float: right !important;
    float: right;
    margin-right: 0px;
  }
  .navbar-right ~ .navbar-right {
    margin-right: 0;
  }
}
.navbar-default {
  background-color: #f8f8f8;
  border-color: #e7e7e7;
}
.navbar-default .navbar-brand {
  color: #777;
}
.navbar-default .navbar-brand:hover,
.navbar-default .navbar-brand:focus {
  color: #5e5e5e;
  background-color: transparent;
}
.navbar-default .navbar-text {
  color: #777;
}
.navbar-default .navbar-nav > li > a {
  color: #777;
}
.navbar-default .navbar-nav > li > a:hover,
.navbar-default .navbar-nav > li > a:focus {
  color: #333;
  background-color: transparent;
}
.navbar-default .navbar-nav > .active > a,
.navbar-default .navbar-nav > .active > a:hover,
.navbar-default .navbar-nav > .active > a:focus {
  color: #555;
  background-color: #e7e7e7;
}
.navbar-default .navbar-nav > .disabled > a,
.navbar-default .navbar-nav > .disabled > a:hover,
.navbar-default .navbar-nav > .disabled > a:focus {
  color: #ccc;
  background-color: transparent;
}
.navbar-default .navbar-toggle {
  border-color: #ddd;
}
.navbar-default .navbar-toggle:hover,
.navbar-default .navbar-toggle:focus {
  background-color: #ddd;
}
.navbar-default .navbar-toggle .icon-bar {
  background-color: #888;
}
.navbar-default .navbar-collapse,
.navbar-default .navbar-form {
  border-color: #e7e7e7;
}
.navbar-default .navbar-nav > .open > a,
.navbar-default .navbar-nav > .open > a:hover,
.navbar-default .navbar-nav > .open > a:focus {
  background-color: #e7e7e7;
  color: #555;
}
@media (max-width: 540px) {
  .navbar-default .navbar-nav .open .dropdown-menu > li > a {
    color: #777;
  }
  .navbar-default .navbar-nav .open .dropdown-menu > li > a:hover,
  .navbar-default .navbar-nav .open .dropdown-menu > li > a:focus {
    color: #333;
    background-color: transparent;
  }
  .navbar-default .navbar-nav .open .dropdown-menu > .active > a,
  .navbar-default .navbar-nav .open .dropdown-menu > .active > a:hover,
  .navbar-default .navbar-nav .open .dropdown-menu > .active > a:focus {
    color: #555;
    background-color: #e7e7e7;
  }
  .navbar-default .navbar-nav .open .dropdown-menu > .disabled > a,
  .navbar-default .navbar-nav .open .dropdown-menu > .disabled > a:hover,
  .navbar-default .navbar-nav .open .dropdown-menu > .disabled > a:focus {
    color: #ccc;
    background-color: transparent;
  }
}
.navbar-default .navbar-link {
  color: #777;
}
.navbar-default .navbar-link:hover {
  color: #333;
}
.navbar-default .btn-link {
  color: #777;
}
.navbar-default .btn-link:hover,
.navbar-default .btn-link:focus {
  color: #333;
}
.navbar-default .btn-link[disabled]:hover,
fieldset[disabled] .navbar-default .btn-link:hover,
.navbar-default .btn-link[disabled]:focus,
fieldset[disabled] .navbar-default .btn-link:focus {
  color: #ccc;
}
.navbar-inverse {
  background-color: #222;
  border-color: #080808;
}
.navbar-inverse .navbar-brand {
  color: #9d9d9d;
}
.navbar-inverse .navbar-brand:hover,
.navbar-inverse .navbar-brand:focus {
  color: #fff;
  background-color: transparent;
}
.navbar-inverse .navbar-text {
  color: #9d9d9d;
}
.navbar-inverse .navbar-nav > li > a {
  color: #9d9d9d;
}
.navbar-inverse .navbar-nav > li > a:hover,
.navbar-inverse .navbar-nav > li > a:focus {
  color: #fff;
  background-color: transparent;
}
.navbar-inverse .navbar-nav > .active > a,
.navbar-inverse .navbar-nav > .active > a:hover,
.navbar-inverse .navbar-nav > .active > a:focus {
  color: #fff;
  background-color: #080808;
}
.navbar-inverse .navbar-nav > .disabled > a,
.navbar-inverse .navbar-nav > .disabled > a:hover,
.navbar-inverse .navbar-nav > .disabled > a:focus {
  color: #444;
  background-color: transparent;
}
.navbar-inverse .navbar-toggle {
  border-color: #333;
}
.navbar-inverse .navbar-toggle:hover,
.navbar-inverse .navbar-toggle:focus {
  background-color: #333;
}
.navbar-inverse .navbar-toggle .icon-bar {
  background-color: #fff;
}
.navbar-inverse .navbar-collapse,
.navbar-inverse .navbar-form {
  border-color: #101010;
}
.navbar-inverse .navbar-nav > .open > a,
.navbar-inverse .navbar-nav > .open > a:hover,
.navbar-inverse .navbar-nav > .open > a:focus {
  background-color: #080808;
  color: #fff;
}
@media (max-width: 540px) {
  .navbar-inverse .navbar-nav .open .dropdown-menu > .dropdown-header {
    border-color: #080808;
  }
  .navbar-inverse .navbar-nav .open .dropdown-menu .divider {
    background-color: #080808;
  }
  .navbar-inverse .navbar-nav .open .dropdown-menu > li > a {
    color: #9d9d9d;
  }
  .navbar-inverse .navbar-nav .open .dropdown-menu > li > a:hover,
  .navbar-inverse .navbar-nav .open .dropdown-menu > li > a:focus {
    color: #fff;
    background-color: transparent;
  }
  .navbar-inverse .navbar-nav .open .dropdown-menu > .active > a,
  .navbar-inverse .navbar-nav .open .dropdown-menu > .active > a:hover,
  .navbar-inverse .navbar-nav .open .dropdown-menu > .active > a:focus {
    color: #fff;
    background-color: #080808;
  }
  .navbar-inverse .navbar-nav .open .dropdown-menu > .disabled > a,
  .navbar-inverse .navbar-nav .open .dropdown-menu > .disabled > a:hover,
  .navbar-inverse .navbar-nav .open .dropdown-menu > .disabled > a:focus {
    color: #444;
    background-color: transparent;
  }
}
.navbar-inverse .navbar-link {
  color: #9d9d9d;
}
.navbar-inverse .navbar-link:hover {
  color: #fff;
}
.navbar-inverse .btn-link {
  color: #9d9d9d;
}
.navbar-inverse .btn-link:hover,
.navbar-inverse .btn-link:focus {
  color: #fff;
}
.navbar-inverse .btn-link[disabled]:hover,
fieldset[disabled] .navbar-inverse .btn-link:hover,
.navbar-inverse .btn-link[disabled]:focus,
fieldset[disabled] .navbar-inverse .btn-link:focus {
  color: #444;
}
.breadcrumb {
  padding: 8px 15px;
  margin-bottom: 18px;
  list-style: none;
  background-color: #f5f5f5;
  border-radius: 2px;
}
.breadcrumb > li {
  display: inline-block;
}
.breadcrumb > li + li:before {
  content: "/\00a0";
  padding: 0 5px;
  color: #5e5e5e;
}
.breadcrumb > .active {
  color: #777777;
}
.pagination {
  display: inline-block;
  padding-left: 0;
  margin: 18px 0;
  border-radius: 2px;
}
.pagination > li {
  display: inline;
}
.pagination > li > a,
.pagination > li > span {
  position: relative;
  float: left;
  padding: 6px 12px;
  line-height: 1.42857143;
  text-decoration: none;
  color: #337ab7;
  background-color: #fff;
  border: 1px solid #ddd;
  margin-left: -1px;
}
.pagination > li:first-child > a,
.pagination > li:first-child > span {
  margin-left: 0;
  border-bottom-left-radius: 2px;
  border-top-left-radius: 2px;
}
.pagination > li:last-child > a,
.pagination > li:last-child > span {
  border-bottom-right-radius: 2px;
  border-top-right-radius: 2px;
}
.pagination > li > a:hover,
.pagination > li > span:hover,
.pagination > li > a:focus,
.pagination > li > span:focus {
  z-index: 2;
  color: #23527c;
  background-color: #eeeeee;
  border-color: #ddd;
}
.pagination > .active > a,
.pagination > .active > span,
.pagination > .active > a:hover,
.pagination > .active > span:hover,
.pagination > .active > a:focus,
.pagination > .active > span:focus {
  z-index: 3;
  color: #fff;
  background-color: #337ab7;
  border-color: #337ab7;
  cursor: default;
}
.pagination > .disabled > span,
.pagination > .disabled > span:hover,
.pagination > .disabled > span:focus,
.pagination > .disabled > a,
.pagination > .disabled > a:hover,
.pagination > .disabled > a:focus {
  color: #777777;
  background-color: #fff;
  border-color: #ddd;
  cursor: not-allowed;
}
.pagination-lg > li > a,
.pagination-lg > li > span {
  padding: 10px 16px;
  font-size: 17px;
  line-height: 1.3333333;
}
.pagination-lg > li:first-child > a,
.pagination-lg > li:first-child > span {
  border-bottom-left-radius: 3px;
  border-top-left-radius: 3px;
}
.pagination-lg > li:last-child > a,
.pagination-lg > li:last-child > span {
  border-bottom-right-radius: 3px;
  border-top-right-radius: 3px;
}
.pagination-sm > li > a,
.pagination-sm > li > span {
  padding: 5px 10px;
  font-size: 12px;
  line-height: 1.5;
}
.pagination-sm > li:first-child > a,
.pagination-sm > li:first-child > span {
  border-bottom-left-radius: 1px;
  border-top-left-radius: 1px;
}
.pagination-sm > li:last-child > a,
.pagination-sm > li:last-child > span {
  border-bottom-right-radius: 1px;
  border-top-right-radius: 1px;
}
.pager {
  padding-left: 0;
  margin: 18px 0;
  list-style: none;
  text-align: center;
}
.pager li {
  display: inline;
}
.pager li > a,
.pager li > span {
  display: inline-block;
  padding: 5px 14px;
  background-color: #fff;
  border: 1px solid #ddd;
  border-radius: 15px;
}
.pager li > a:hover,
.pager li > a:focus {
  text-decoration: none;
  background-color: #eeeeee;
}
.pager .next > a,
.pager .next > span {
  float: right;
}
.pager .previous > a,
.pager .previous > span {
  float: left;
}
.pager .disabled > a,
.pager .disabled > a:hover,
.pager .disabled > a:focus,
.pager .disabled > span {
  color: #777777;
  background-color: #fff;
  cursor: not-allowed;
}
.label {
  display: inline;
  padding: .2em .6em .3em;
  font-size: 75%;
  font-weight: bold;
  line-height: 1;
  color: #fff;
  text-align: center;
  white-space: nowrap;
  vertical-align: baseline;
  border-radius: .25em;
}
a.label:hover,
a.label:focus {
  color: #fff;
  text-decoration: none;
  cursor: pointer;
}
.label:empty {
  display: none;
}
.btn .label {
  position: relative;
  top: -1px;
}
.label-default {
  background-color: #777777;
}
.label-default[href]:hover,
.label-default[href]:focus {
  background-color: #5e5e5e;
}
.label-primary {
  background-color: #337ab7;
}
.label-primary[href]:hover,
.label-primary[href]:focus {
  background-color: #286090;
}
.label-success {
  background-color: #5cb85c;
}
.label-success[href]:hover,
.label-success[href]:focus {
  background-color: #449d44;
}
.label-info {
  background-color: #5bc0de;
}
.label-info[href]:hover,
.label-info[href]:focus {
  background-color: #31b0d5;
}
.label-warning {
  background-color: #f0ad4e;
}
.label-warning[href]:hover,
.label-warning[href]:focus {
  background-color: #ec971f;
}
.label-danger {
  background-color: #d9534f;
}
.label-danger[href]:hover,
.label-danger[href]:focus {
  background-color: #c9302c;
}
.badge {
  display: inline-block;
  min-width: 10px;
  padding: 3px 7px;
  font-size: 12px;
  font-weight: bold;
  color: #fff;
  line-height: 1;
  vertical-align: middle;
  white-space: nowrap;
  text-align: center;
  background-color: #777777;
  border-radius: 10px;
}
.badge:empty {
  display: none;
}
.btn .badge {
  position: relative;
  top: -1px;
}
.btn-xs .badge,
.btn-group-xs > .btn .badge {
  top: 0;
  padding: 1px 5px;
}
a.badge:hover,
a.badge:focus {
  color: #fff;
  text-decoration: none;
  cursor: pointer;
}
.list-group-item.active > .badge,
.nav-pills > .active > a > .badge {
  color: #337ab7;
  background-color: #fff;
}
.list-group-item > .badge {
  float: right;
}
.list-group-item > .badge + .badge {
  margin-right: 5px;
}
.nav-pills > li > a > .badge {
  margin-left: 3px;
}
.jumbotron {
  padding-top: 30px;
  padding-bottom: 30px;
  margin-bottom: 30px;
  color: inherit;
  background-color: #eeeeee;
}
.jumbotron h1,
.jumbotron .h1 {
  color: inherit;
}
.jumbotron p {
  margin-bottom: 15px;
  font-size: 20px;
  font-weight: 200;
}
.jumbotron > hr {
  border-top-color: #d5d5d5;
}
.container .jumbotron,
.container-fluid .jumbotron {
  border-radius: 3px;
  padding-left: 0px;
  padding-right: 0px;
}
.jumbotron .container {
  max-width: 100%;
}
@media screen and (min-width: 768px) {
  .jumbotron {
    padding-top: 48px;
    padding-bottom: 48px;
  }
  .container .jumbotron,
  .container-fluid .jumbotron {
    padding-left: 60px;
    padding-right: 60px;
  }
  .jumbotron h1,
  .jumbotron .h1 {
    font-size: 59px;
  }
}
.thumbnail {
  display: block;
  padding: 4px;
  margin-bottom: 18px;
  line-height: 1.42857143;
  background-color: #fff;
  border: 1px solid #ddd;
  border-radius: 2px;
  -webkit-transition: border 0.2s ease-in-out;
  -o-transition: border 0.2s ease-in-out;
  transition: border 0.2s ease-in-out;
}
.thumbnail > img,
.thumbnail a > img {
  margin-left: auto;
  margin-right: auto;
}
a.thumbnail:hover,
a.thumbnail:focus,
a.thumbnail.active {
  border-color: #337ab7;
}
.thumbnail .caption {
  padding: 9px;
  color: #000;
}
.alert {
  padding: 15px;
  margin-bottom: 18px;
  border: 1px solid transparent;
  border-radius: 2px;
}
.alert h4 {
  margin-top: 0;
  color: inherit;
}
.alert .alert-link {
  font-weight: bold;
}
.alert > p,
.alert > ul {
  margin-bottom: 0;
}
.alert > p + p {
  margin-top: 5px;
}
.alert-dismissable,
.alert-dismissible {
  padding-right: 35px;
}
.alert-dismissable .close,
.alert-dismissible .close {
  position: relative;
  top: -2px;
  right: -21px;
  color: inherit;
}
.alert-success {
  background-color: #dff0d8;
  border-color: #d6e9c6;
  color: #3c763d;
}
.alert-success hr {
  border-top-color: #c9e2b3;
}
.alert-success .alert-link {
  color: #2b542c;
}
.alert-info {
  background-color: #d9edf7;
  border-color: #bce8f1;
  color: #31708f;
}
.alert-info hr {
  border-top-color: #a6e1ec;
}
.alert-info .alert-link {
  color: #245269;
}
.alert-warning {
  background-color: #fcf8e3;
  border-color: #faebcc;
  color: #8a6d3b;
}
.alert-warning hr {
  border-top-color: #f7e1b5;
}
.alert-warning .alert-link {
  color: #66512c;
}
.alert-danger {
  background-color: #f2dede;
  border-color: #ebccd1;
  color: #a94442;
}
.alert-danger hr {
  border-top-color: #e4b9c0;
}
.alert-danger .alert-link {
  color: #843534;
}
@-webkit-keyframes progress-bar-stripes {
  from {
    background-position: 40px 0;
  }
  to {
    background-position: 0 0;
  }
}
@keyframes progress-bar-stripes {
  from {
    background-position: 40px 0;
  }
  to {
    background-position: 0 0;
  }
}
.progress {
  overflow: hidden;
  height: 18px;
  margin-bottom: 18px;
  background-color: #f5f5f5;
  border-radius: 2px;
  -webkit-box-shadow: inset 0 1px 2px rgba(0, 0, 0, 0.1);
  box-shadow: inset 0 1px 2px rgba(0, 0, 0, 0.1);
}
.progress-bar {
  float: left;
  width: 0%;
  height: 100%;
  font-size: 12px;
  line-height: 18px;
  color: #fff;
  text-align: center;
  background-color: #337ab7;
  -webkit-box-shadow: inset 0 -1px 0 rgba(0, 0, 0, 0.15);
  box-shadow: inset 0 -1px 0 rgba(0, 0, 0, 0.15);
  -webkit-transition: width 0.6s ease;
  -o-transition: width 0.6s ease;
  transition: width 0.6s ease;
}
.progress-striped .progress-bar,
.progress-bar-striped {
  background-image: -webkit-linear-gradient(45deg, rgba(255, 255, 255, 0.15) 25%, transparent 25%, transparent 50%, rgba(255, 255, 255, 0.15) 50%, rgba(255, 255, 255, 0.15) 75%, transparent 75%, transparent);
  background-image: -o-linear-gradient(45deg, rgba(255, 255, 255, 0.15) 25%, transparent 25%, transparent 50%, rgba(255, 255, 255, 0.15) 50%, rgba(255, 255, 255, 0.15) 75%, transparent 75%, transparent);
  background-image: linear-gradient(45deg, rgba(255, 255, 255, 0.15) 25%, transparent 25%, transparent 50%, rgba(255, 255, 255, 0.15) 50%, rgba(255, 255, 255, 0.15) 75%, transparent 75%, transparent);
  background-size: 40px 40px;
}
.progress.active .progress-bar,
.progress-bar.active {
  -webkit-animation: progress-bar-stripes 2s linear infinite;
  -o-animation: progress-bar-stripes 2s linear infinite;
  animation: progress-bar-stripes 2s linear infinite;
}
.progress-bar-success {
  background-color: #5cb85c;
}
.progress-striped .progress-bar-success {
  background-image: -webkit-linear-gradient(45deg, rgba(255, 255, 255, 0.15) 25%, transparent 25%, transparent 50%, rgba(255, 255, 255, 0.15) 50%, rgba(255, 255, 255, 0.15) 75%, transparent 75%, transparent);
  background-image: -o-linear-gradient(45deg, rgba(255, 255, 255, 0.15) 25%, transparent 25%, transparent 50%, rgba(255, 255, 255, 0.15) 50%, rgba(255, 255, 255, 0.15) 75%, transparent 75%, transparent);
  background-image: linear-gradient(45deg, rgba(255, 255, 255, 0.15) 25%, transparent 25%, transparent 50%, rgba(255, 255, 255, 0.15) 50%, rgba(255, 255, 255, 0.15) 75%, transparent 75%, transparent);
}
.progress-bar-info {
  background-color: #5bc0de;
}
.progress-striped .progress-bar-info {
  background-image: -webkit-linear-gradient(45deg, rgba(255, 255, 255, 0.15) 25%, transparent 25%, transparent 50%, rgba(255, 255, 255, 0.15) 50%, rgba(255, 255, 255, 0.15) 75%, transparent 75%, transparent);
  background-image: -o-linear-gradient(45deg, rgba(255, 255, 255, 0.15) 25%, transparent 25%, transparent 50%, rgba(255, 255, 255, 0.15) 50%, rgba(255, 255, 255, 0.15) 75%, transparent 75%, transparent);
  background-image: linear-gradient(45deg, rgba(255, 255, 255, 0.15) 25%, transparent 25%, transparent 50%, rgba(255, 255, 255, 0.15) 50%, rgba(255, 255, 255, 0.15) 75%, transparent 75%, transparent);
}
.progress-bar-warning {
  background-color: #f0ad4e;
}
.progress-striped .progress-bar-warning {
  background-image: -webkit-linear-gradient(45deg, rgba(255, 255, 255, 0.15) 25%, transparent 25%, transparent 50%, rgba(255, 255, 255, 0.15) 50%, rgba(255, 255, 255, 0.15) 75%, transparent 75%, transparent);
  background-image: -o-linear-gradient(45deg, rgba(255, 255, 255, 0.15) 25%, transparent 25%, transparent 50%, rgba(255, 255, 255, 0.15) 50%, rgba(255, 255, 255, 0.15) 75%, transparent 75%, transparent);
  background-image: linear-gradient(45deg, rgba(255, 255, 255, 0.15) 25%, transparent 25%, transparent 50%, rgba(255, 255, 255, 0.15) 50%, rgba(255, 255, 255, 0.15) 75%, transparent 75%, transparent);
}
.progress-bar-danger {
  background-color: #d9534f;
}
.progress-striped .progress-bar-danger {
  background-image: -webkit-linear-gradient(45deg, rgba(255, 255, 255, 0.15) 25%, transparent 25%, transparent 50%, rgba(255, 255, 255, 0.15) 50%, rgba(255, 255, 255, 0.15) 75%, transparent 75%, transparent);
  background-image: -o-linear-gradient(45deg, rgba(255, 255, 255, 0.15) 25%, transparent 25%, transparent 50%, rgba(255, 255, 255, 0.15) 50%, rgba(255, 255, 255, 0.15) 75%, transparent 75%, transparent);
  background-image: linear-gradient(45deg, rgba(255, 255, 255, 0.15) 25%, transparent 25%, transparent 50%, rgba(255, 255, 255, 0.15) 50%, rgba(255, 255, 255, 0.15) 75%, transparent 75%, transparent);
}
.media {
  margin-top: 15px;
}
.media:first-child {
  margin-top: 0;
}
.media,
.media-body {
  zoom: 1;
  overflow: hidden;
}
.media-body {
  width: 10000px;
}
.media-object {
  display: block;
}
.media-object.img-thumbnail {
  max-width: none;
}
.media-right,
.media > .pull-right {
  padding-left: 10px;
}
.media-left,
.media > .pull-left {
  padding-right: 10px;
}
.media-left,
.media-right,
.media-body {
  display: table-cell;
  vertical-align: top;
}
.media-middle {
  vertical-align: middle;
}
.media-bottom {
  vertical-align: bottom;
}
.media-heading {
  margin-top: 0;
  margin-bottom: 5px;
}
.media-list {
  padding-left: 0;
  list-style: none;
}
.list-group {
  margin-bottom: 20px;
  padding-left: 0;
}
.list-group-item {
  position: relative;
  display: block;
  padding: 10px 15px;
  margin-bottom: -1px;
  background-color: #fff;
  border: 1px solid #ddd;
}
.list-group-item:first-child {
  border-top-right-radius: 2px;
  border-top-left-radius: 2px;
}
.list-group-item:last-child {
  margin-bottom: 0;
  border-bottom-right-radius: 2px;
  border-bottom-left-radius: 2px;
}
a.list-group-item,
button.list-group-item {
  color: #555;
}
a.list-group-item .list-group-item-heading,
button.list-group-item .list-group-item-heading {
  color: #333;
}
a.list-group-item:hover,
button.list-group-item:hover,
a.list-group-item:focus,
button.list-group-item:focus {
  text-decoration: none;
  color: #555;
  background-color: #f5f5f5;
}
button.list-group-item {
  width: 100%;
  text-align: left;
}
.list-group-item.disabled,
.list-group-item.disabled:hover,
.list-group-item.disabled:focus {
  background-color: #eeeeee;
  color: #777777;
  cursor: not-allowed;
}
.list-group-item.disabled .list-group-item-heading,
.list-group-item.disabled:hover .list-group-item-heading,
.list-group-item.disabled:focus .list-group-item-heading {
  color: inherit;
}
.list-group-item.disabled .list-group-item-text,
.list-group-item.disabled:hover .list-group-item-text,
.list-group-item.disabled:focus .list-group-item-text {
  color: #777777;
}
.list-group-item.active,
.list-group-item.active:hover,
.list-group-item.active:focus {
  z-index: 2;
  color: #fff;
  background-color: #337ab7;
  border-color: #337ab7;
}
.list-group-item.active .list-group-item-heading,
.list-group-item.active:hover .list-group-item-heading,
.list-group-item.active:focus .list-group-item-heading,
.list-group-item.active .list-group-item-heading > small,
.list-group-item.active:hover .list-group-item-heading > small,
.list-group-item.active:focus .list-group-item-heading > small,
.list-group-item.active .list-group-item-heading > .small,
.list-group-item.active:hover .list-group-item-heading > .small,
.list-group-item.active:focus .list-group-item-heading > .small {
  color: inherit;
}
.list-group-item.active .list-group-item-text,
.list-group-item.active:hover .list-group-item-text,
.list-group-item.active:focus .list-group-item-text {
  color: #c7ddef;
}
.list-group-item-success {
  color: #3c763d;
  background-color: #dff0d8;
}
a.list-group-item-success,
button.list-group-item-success {
  color: #3c763d;
}
a.list-group-item-success .list-group-item-heading,
button.list-group-item-success .list-group-item-heading {
  color: inherit;
}
a.list-group-item-success:hover,
button.list-group-item-success:hover,
a.list-group-item-success:focus,
button.list-group-item-success:focus {
  color: #3c763d;
  background-color: #d0e9c6;
}
a.list-group-item-success.active,
button.list-group-item-success.active,
a.list-group-item-success.active:hover,
button.list-group-item-success.active:hover,
a.list-group-item-success.active:focus,
button.list-group-item-success.active:focus {
  color: #fff;
  background-color: #3c763d;
  border-color: #3c763d;
}
.list-group-item-info {
  color: #31708f;
  background-color: #d9edf7;
}
a.list-group-item-info,
button.list-group-item-info {
  color: #31708f;
}
a.list-group-item-info .list-group-item-heading,
button.list-group-item-info .list-group-item-heading {
  color: inherit;
}
a.list-group-item-info:hover,
button.list-group-item-info:hover,
a.list-group-item-info:focus,
button.list-group-item-info:focus {
  color: #31708f;
  background-color: #c4e3f3;
}
a.list-group-item-info.active,
button.list-group-item-info.active,
a.list-group-item-info.active:hover,
button.list-group-item-info.active:hover,
a.list-group-item-info.active:focus,
button.list-group-item-info.active:focus {
  color: #fff;
  background-color: #31708f;
  border-color: #31708f;
}
.list-group-item-warning {
  color: #8a6d3b;
  background-color: #fcf8e3;
}
a.list-group-item-warning,
button.list-group-item-warning {
  color: #8a6d3b;
}
a.list-group-item-warning .list-group-item-heading,
button.list-group-item-warning .list-group-item-heading {
  color: inherit;
}
a.list-group-item-warning:hover,
button.list-group-item-warning:hover,
a.list-group-item-warning:focus,
button.list-group-item-warning:focus {
  color: #8a6d3b;
  background-color: #faf2cc;
}
a.list-group-item-warning.active,
button.list-group-item-warning.active,
a.list-group-item-warning.active:hover,
button.list-group-item-warning.active:hover,
a.list-group-item-warning.active:focus,
button.list-group-item-warning.active:focus {
  color: #fff;
  background-color: #8a6d3b;
  border-color: #8a6d3b;
}
.list-group-item-danger {
  color: #a94442;
  background-color: #f2dede;
}
a.list-group-item-danger,
button.list-group-item-danger {
  color: #a94442;
}
a.list-group-item-danger .list-group-item-heading,
button.list-group-item-danger .list-group-item-heading {
  color: inherit;
}
a.list-group-item-danger:hover,
button.list-group-item-danger:hover,
a.list-group-item-danger:focus,
button.list-group-item-danger:focus {
  color: #a94442;
  background-color: #ebcccc;
}
a.list-group-item-danger.active,
button.list-group-item-danger.active,
a.list-group-item-danger.active:hover,
button.list-group-item-danger.active:hover,
a.list-group-item-danger.active:focus,
button.list-group-item-danger.active:focus {
  color: #fff;
  background-color: #a94442;
  border-color: #a94442;
}
.list-group-item-heading {
  margin-top: 0;
  margin-bottom: 5px;
}
.list-group-item-text {
  margin-bottom: 0;
  line-height: 1.3;
}
.panel {
  margin-bottom: 18px;
  background-color: #fff;
  border: 1px solid transparent;
  border-radius: 2px;
  -webkit-box-shadow: 0 1px 1px rgba(0, 0, 0, 0.05);
  box-shadow: 0 1px 1px rgba(0, 0, 0, 0.05);
}
.panel-body {
  padding: 15px;
}
.panel-heading {
  padding: 10px 15px;
  border-bottom: 1px solid transparent;
  border-top-right-radius: 1px;
  border-top-left-radius: 1px;
}
.panel-heading > .dropdown .dropdown-toggle {
  color: inherit;
}
.panel-title {
  margin-top: 0;
  margin-bottom: 0;
  font-size: 15px;
  color: inherit;
}
.panel-title > a,
.panel-title > small,
.panel-title > .small,
.panel-title > small > a,
.panel-title > .small > a {
  color: inherit;
}
.panel-footer {
  padding: 10px 15px;
  background-color: #f5f5f5;
  border-top: 1px solid #ddd;
  border-bottom-right-radius: 1px;
  border-bottom-left-radius: 1px;
}
.panel > .list-group,
.panel > .panel-collapse > .list-group {
  margin-bottom: 0;
}
.panel > .list-group .list-group-item,
.panel > .panel-collapse > .list-group .list-group-item {
  border-width: 1px 0;
  border-radius: 0;
}
.panel > .list-group:first-child .list-group-item:first-child,
.panel > .panel-collapse > .list-group:first-child .list-group-item:first-child {
  border-top: 0;
  border-top-right-radius: 1px;
  border-top-left-radius: 1px;
}
.panel > .list-group:last-child .list-group-item:last-child,
.panel > .panel-collapse > .list-group:last-child .list-group-item:last-child {
  border-bottom: 0;
  border-bottom-right-radius: 1px;
  border-bottom-left-radius: 1px;
}
.panel > .panel-heading + .panel-collapse > .list-group .list-group-item:first-child {
  border-top-right-radius: 0;
  border-top-left-radius: 0;
}
.panel-heading + .list-group .list-group-item:first-child {
  border-top-width: 0;
}
.list-group + .panel-footer {
  border-top-width: 0;
}
.panel > .table,
.panel > .table-responsive > .table,
.panel > .panel-collapse > .table {
  margin-bottom: 0;
}
.panel > .table caption,
.panel > .table-responsive > .table caption,
.panel > .panel-collapse > .table caption {
  padding-left: 15px;
  padding-right: 15px;
}
.panel > .table:first-child,
.panel > .table-responsive:first-child > .table:first-child {
  border-top-right-radius: 1px;
  border-top-left-radius: 1px;
}
.panel > .table:first-child > thead:first-child > tr:first-child,
.panel > .table-responsive:first-child > .table:first-child > thead:first-child > tr:first-child,
.panel > .table:first-child > tbody:first-child > tr:first-child,
.panel > .table-responsive:first-child > .table:first-child > tbody:first-child > tr:first-child {
  border-top-left-radius: 1px;
  border-top-right-radius: 1px;
}
.panel > .table:first-child > thead:first-child > tr:first-child td:first-child,
.panel > .table-responsive:first-child > .table:first-child > thead:first-child > tr:first-child td:first-child,
.panel > .table:first-child > tbody:first-child > tr:first-child td:first-child,
.panel > .table-responsive:first-child > .table:first-child > tbody:first-child > tr:first-child td:first-child,
.panel > .table:first-child > thead:first-child > tr:first-child th:first-child,
.panel > .table-responsive:first-child > .table:first-child > thead:first-child > tr:first-child th:first-child,
.panel > .table:first-child > tbody:first-child > tr:first-child th:first-child,
.panel > .table-responsive:first-child > .table:first-child > tbody:first-child > tr:first-child th:first-child {
  border-top-left-radius: 1px;
}
.panel > .table:first-child > thead:first-child > tr:first-child td:last-child,
.panel > .table-responsive:first-child > .table:first-child > thead:first-child > tr:first-child td:last-child,
.panel > .table:first-child > tbody:first-child > tr:first-child td:last-child,
.panel > .table-responsive:first-child > .table:first-child > tbody:first-child > tr:first-child td:last-child,
.panel > .table:first-child > thead:first-child > tr:first-child th:last-child,
.panel > .table-responsive:first-child > .table:first-child > thead:first-child > tr:first-child th:last-child,
.panel > .table:first-child > tbody:first-child > tr:first-child th:last-child,
.panel > .table-responsive:first-child > .table:first-child > tbody:first-child > tr:first-child th:last-child {
  border-top-right-radius: 1px;
}
.panel > .table:last-child,
.panel > .table-responsive:last-child > .table:last-child {
  border-bottom-right-radius: 1px;
  border-bottom-left-radius: 1px;
}
.panel > .table:last-child > tbody:last-child > tr:last-child,
.panel > .table-responsive:last-child > .table:last-child > tbody:last-child > tr:last-child,
.panel > .table:last-child > tfoot:last-child > tr:last-child,
.panel > .table-responsive:last-child > .table:last-child > tfoot:last-child > tr:last-child {
  border-bottom-left-radius: 1px;
  border-bottom-right-radius: 1px;
}
.panel > .table:last-child > tbody:last-child > tr:last-child td:first-child,
.panel > .table-responsive:last-child > .table:last-child > tbody:last-child > tr:last-child td:first-child,
.panel > .table:last-child > tfoot:last-child > tr:last-child td:first-child,
.panel > .table-responsive:last-child > .table:last-child > tfoot:last-child > tr:last-child td:first-child,
.panel > .table:last-child > tbody:last-child > tr:last-child th:first-child,
.panel > .table-responsive:last-child > .table:last-child > tbody:last-child > tr:last-child th:first-child,
.panel > .table:last-child > tfoot:last-child > tr:last-child th:first-child,
.panel > .table-responsive:last-child > .table:last-child > tfoot:last-child > tr:last-child th:first-child {
  border-bottom-left-radius: 1px;
}
.panel > .table:last-child > tbody:last-child > tr:last-child td:last-child,
.panel > .table-responsive:last-child > .table:last-child > tbody:last-child > tr:last-child td:last-child,
.panel > .table:last-child > tfoot:last-child > tr:last-child td:last-child,
.panel > .table-responsive:last-child > .table:last-child > tfoot:last-child > tr:last-child td:last-child,
.panel > .table:last-child > tbody:last-child > tr:last-child th:last-child,
.panel > .table-responsive:last-child > .table:last-child > tbody:last-child > tr:last-child th:last-child,
.panel > .table:last-child > tfoot:last-child > tr:last-child th:last-child,
.panel > .table-responsive:last-child > .table:last-child > tfoot:last-child > tr:last-child th:last-child {
  border-bottom-right-radius: 1px;
}
.panel > .panel-body + .table,
.panel > .panel-body + .table-responsive,
.panel > .table + .panel-body,
.panel > .table-responsive + .panel-body {
  border-top: 1px solid #ddd;
}
.panel > .table > tbody:first-child > tr:first-child th,
.panel > .table > tbody:first-child > tr:first-child td {
  border-top: 0;
}
.panel > .table-bordered,
.panel > .table-responsive > .table-bordered {
  border: 0;
}
.panel > .table-bordered > thead > tr > th:first-child,
.panel > .table-responsive > .table-bordered > thead > tr > th:first-child,
.panel > .table-bordered > tbody > tr > th:first-child,
.panel > .table-responsive > .table-bordered > tbody > tr > th:first-child,
.panel > .table-bordered > tfoot > tr > th:first-child,
.panel > .table-responsive > .table-bordered > tfoot > tr > th:first-child,
.panel > .table-bordered > thead > tr > td:first-child,
.panel > .table-responsive > .table-bordered > thead > tr > td:first-child,
.panel > .table-bordered > tbody > tr > td:first-child,
.panel > .table-responsive > .table-bordered > tbody > tr > td:first-child,
.panel > .table-bordered > tfoot > tr > td:first-child,
.panel > .table-responsive > .table-bordered > tfoot > tr > td:first-child {
  border-left: 0;
}
.panel > .table-bordered > thead > tr > th:last-child,
.panel > .table-responsive > .table-bordered > thead > tr > th:last-child,
.panel > .table-bordered > tbody > tr > th:last-child,
.panel > .table-responsive > .table-bordered > tbody > tr > th:last-child,
.panel > .table-bordered > tfoot > tr > th:last-child,
.panel > .table-responsive > .table-bordered > tfoot > tr > th:last-child,
.panel > .table-bordered > thead > tr > td:last-child,
.panel > .table-responsive > .table-bordered > thead > tr > td:last-child,
.panel > .table-bordered > tbody > tr > td:last-child,
.panel > .table-responsive > .table-bordered > tbody > tr > td:last-child,
.panel > .table-bordered > tfoot > tr > td:last-child,
.panel > .table-responsive > .table-bordered > tfoot > tr > td:last-child {
  border-right: 0;
}
.panel > .table-bordered > thead > tr:first-child > td,
.panel > .table-responsive > .table-bordered > thead > tr:first-child > td,
.panel > .table-bordered > tbody > tr:first-child > td,
.panel > .table-responsive > .table-bordered > tbody > tr:first-child > td,
.panel > .table-bordered > thead > tr:first-child > th,
.panel > .table-responsive > .table-bordered > thead > tr:first-child > th,
.panel > .table-bordered > tbody > tr:first-child > th,
.panel > .table-responsive > .table-bordered > tbody > tr:first-child > th {
  border-bottom: 0;
}
.panel > .table-bordered > tbody > tr:last-child > td,
.panel > .table-responsive > .table-bordered > tbody > tr:last-child > td,
.panel > .table-bordered > tfoot > tr:last-child > td,
.panel > .table-responsive > .table-bordered > tfoot > tr:last-child > td,
.panel > .table-bordered > tbody > tr:last-child > th,
.panel > .table-responsive > .table-bordered > tbody > tr:last-child > th,
.panel > .table-bordered > tfoot > tr:last-child > th,
.panel > .table-responsive > .table-bordered > tfoot > tr:last-child > th {
  border-bottom: 0;
}
.panel > .table-responsive {
  border: 0;
  margin-bottom: 0;
}
.panel-group {
  margin-bottom: 18px;
}
.panel-group .panel {
  margin-bottom: 0;
  border-radius: 2px;
}
.panel-group .panel + .panel {
  margin-top: 5px;
}
.panel-group .panel-heading {
  border-bottom: 0;
}
.panel-group .panel-heading + .panel-collapse > .panel-body,
.panel-group .panel-heading + .panel-collapse > .list-group {
  border-top: 1px solid #ddd;
}
.panel-group .panel-footer {
  border-top: 0;
}
.panel-group .panel-footer + .panel-collapse .panel-body {
  border-bottom: 1px solid #ddd;
}
.panel-default {
  border-color: #ddd;
}
.panel-default > .panel-heading {
  color: #333333;
  background-color: #f5f5f5;
  border-color: #ddd;
}
.panel-default > .panel-heading + .panel-collapse > .panel-body {
  border-top-color: #ddd;
}
.panel-default > .panel-heading .badge {
  color: #f5f5f5;
  background-color: #333333;
}
.panel-default > .panel-footer + .panel-collapse > .panel-body {
  border-bottom-color: #ddd;
}
.panel-primary {
  border-color: #337ab7;
}
.panel-primary > .panel-heading {
  color: #fff;
  background-color: #337ab7;
  border-color: #337ab7;
}
.panel-primary > .panel-heading + .panel-collapse > .panel-body {
  border-top-color: #337ab7;
}
.panel-primary > .panel-heading .badge {
  color: #337ab7;
  background-color: #fff;
}
.panel-primary > .panel-footer + .panel-collapse > .panel-body {
  border-bottom-color: #337ab7;
}
.panel-success {
  border-color: #d6e9c6;
}
.panel-success > .panel-heading {
  color: #3c763d;
  background-color: #dff0d8;
  border-color: #d6e9c6;
}
.panel-success > .panel-heading + .panel-collapse > .panel-body {
  border-top-color: #d6e9c6;
}
.panel-success > .panel-heading .badge {
  color: #dff0d8;
  background-color: #3c763d;
}
.panel-success > .panel-footer + .panel-collapse > .panel-body {
  border-bottom-color: #d6e9c6;
}
.panel-info {
  border-color: #bce8f1;
}
.panel-info > .panel-heading {
  color: #31708f;
  background-color: #d9edf7;
  border-color: #bce8f1;
}
.panel-info > .panel-heading + .panel-collapse > .panel-body {
  border-top-color: #bce8f1;
}
.panel-info > .panel-heading .badge {
  color: #d9edf7;
  background-color: #31708f;
}
.panel-info > .panel-footer + .panel-collapse > .panel-body {
  border-bottom-color: #bce8f1;
}
.panel-warning {
  border-color: #faebcc;
}
.panel-warning > .panel-heading {
  color: #8a6d3b;
  background-color: #fcf8e3;
  border-color: #faebcc;
}
.panel-warning > .panel-heading + .panel-collapse > .panel-body {
  border-top-color: #faebcc;
}
.panel-warning > .panel-heading .badge {
  color: #fcf8e3;
  background-color: #8a6d3b;
}
.panel-warning > .panel-footer + .panel-collapse > .panel-body {
  border-bottom-color: #faebcc;
}
.panel-danger {
  border-color: #ebccd1;
}
.panel-danger > .panel-heading {
  color: #a94442;
  background-color: #f2dede;
  border-color: #ebccd1;
}
.panel-danger > .panel-heading + .panel-collapse > .panel-body {
  border-top-color: #ebccd1;
}
.panel-danger > .panel-heading .badge {
  color: #f2dede;
  background-color: #a94442;
}
.panel-danger > .panel-footer + .panel-collapse > .panel-body {
  border-bottom-color: #ebccd1;
}
.embed-responsive {
  position: relative;
  display: block;
  height: 0;
  padding: 0;
  overflow: hidden;
}
.embed-responsive .embed-responsive-item,
.embed-responsive iframe,
.embed-responsive embed,
.embed-responsive object,
.embed-responsive video {
  position: absolute;
  top: 0;
  left: 0;
  bottom: 0;
  height: 100%;
  width: 100%;
  border: 0;
}
.embed-responsive-16by9 {
  padding-bottom: 56.25%;
}
.embed-responsive-4by3 {
  padding-bottom: 75%;
}
.well {
  min-height: 20px;
  padding: 19px;
  margin-bottom: 20px;
  background-color: #f5f5f5;
  border: 1px solid #e3e3e3;
  border-radius: 2px;
  -webkit-box-shadow: inset 0 1px 1px rgba(0, 0, 0, 0.05);
  box-shadow: inset 0 1px 1px rgba(0, 0, 0, 0.05);
}
.well blockquote {
  border-color: #ddd;
  border-color: rgba(0, 0, 0, 0.15);
}
.well-lg {
  padding: 24px;
  border-radius: 3px;
}
.well-sm {
  padding: 9px;
  border-radius: 1px;
}
.close {
  float: right;
  font-size: 19.5px;
  font-weight: bold;
  line-height: 1;
  color: #000;
  text-shadow: 0 1px 0 #fff;
  opacity: 0.2;
  filter: alpha(opacity=20);
}
.close:hover,
.close:focus {
  color: #000;
  text-decoration: none;
  cursor: pointer;
  opacity: 0.5;
  filter: alpha(opacity=50);
}
button.close {
  padding: 0;
  cursor: pointer;
  background: transparent;
  border: 0;
  -webkit-appearance: none;
}
.modal-open {
  overflow: hidden;
}
.modal {
  display: none;
  overflow: hidden;
  position: fixed;
  top: 0;
  right: 0;
  bottom: 0;
  left: 0;
  z-index: 1050;
  -webkit-overflow-scrolling: touch;
  outline: 0;
}
.modal.fade .modal-dialog {
  -webkit-transform: translate(0, -25%);
  -ms-transform: translate(0, -25%);
  -o-transform: translate(0, -25%);
  transform: translate(0, -25%);
  -webkit-transition: -webkit-transform 0.3s ease-out;
  -moz-transition: -moz-transform 0.3s ease-out;
  -o-transition: -o-transform 0.3s ease-out;
  transition: transform 0.3s ease-out;
}
.modal.in .modal-dialog {
  -webkit-transform: translate(0, 0);
  -ms-transform: translate(0, 0);
  -o-transform: translate(0, 0);
  transform: translate(0, 0);
}
.modal-open .modal {
  overflow-x: hidden;
  overflow-y: auto;
}
.modal-dialog {
  position: relative;
  width: auto;
  margin: 10px;
}
.modal-content {
  position: relative;
  background-color: #fff;
  border: 1px solid #999;
  border: 1px solid rgba(0, 0, 0, 0.2);
  border-radius: 3px;
  -webkit-box-shadow: 0 3px 9px rgba(0, 0, 0, 0.5);
  box-shadow: 0 3px 9px rgba(0, 0, 0, 0.5);
  background-clip: padding-box;
  outline: 0;
}
.modal-backdrop {
  position: fixed;
  top: 0;
  right: 0;
  bottom: 0;
  left: 0;
  z-index: 1040;
  background-color: #000;
}
.modal-backdrop.fade {
  opacity: 0;
  filter: alpha(opacity=0);
}
.modal-backdrop.in {
  opacity: 0.5;
  filter: alpha(opacity=50);
}
.modal-header {
  padding: 15px;
  border-bottom: 1px solid #e5e5e5;
}
.modal-header .close {
  margin-top: -2px;
}
.modal-title {
  margin: 0;
  line-height: 1.42857143;
}
.modal-body {
  position: relative;
  padding: 15px;
}
.modal-footer {
  padding: 15px;
  text-align: right;
  border-top: 1px solid #e5e5e5;
}
.modal-footer .btn + .btn {
  margin-left: 5px;
  margin-bottom: 0;
}
.modal-footer .btn-group .btn + .btn {
  margin-left: -1px;
}
.modal-footer .btn-block + .btn-block {
  margin-left: 0;
}
.modal-scrollbar-measure {
  position: absolute;
  top: -9999px;
  width: 50px;
  height: 50px;
  overflow: scroll;
}
@media (min-width: 768px) {
  .modal-dialog {
    width: 600px;
    margin: 30px auto;
  }
  .modal-content {
    -webkit-box-shadow: 0 5px 15px rgba(0, 0, 0, 0.5);
    box-shadow: 0 5px 15px rgba(0, 0, 0, 0.5);
  }
  .modal-sm {
    width: 300px;
  }
}
@media (min-width: 992px) {
  .modal-lg {
    width: 900px;
  }
}
.tooltip {
  position: absolute;
  z-index: 1070;
  display: block;
  font-family: "Helvetica Neue", Helvetica, Arial, sans-serif;
  font-style: normal;
  font-weight: normal;
  letter-spacing: normal;
  line-break: auto;
  line-height: 1.42857143;
  text-align: left;
  text-align: start;
  text-decoration: none;
  text-shadow: none;
  text-transform: none;
  white-space: normal;
  word-break: normal;
  word-spacing: normal;
  word-wrap: normal;
  font-size: 12px;
  opacity: 0;
  filter: alpha(opacity=0);
}
.tooltip.in {
  opacity: 0.9;
  filter: alpha(opacity=90);
}
.tooltip.top {
  margin-top: -3px;
  padding: 5px 0;
}
.tooltip.right {
  margin-left: 3px;
  padding: 0 5px;
}
.tooltip.bottom {
  margin-top: 3px;
  padding: 5px 0;
}
.tooltip.left {
  margin-left: -3px;
  padding: 0 5px;
}
.tooltip-inner {
  max-width: 200px;
  padding: 3px 8px;
  color: #fff;
  text-align: center;
  background-color: #000;
  border-radius: 2px;
}
.tooltip-arrow {
  position: absolute;
  width: 0;
  height: 0;
  border-color: transparent;
  border-style: solid;
}
.tooltip.top .tooltip-arrow {
  bottom: 0;
  left: 50%;
  margin-left: -5px;
  border-width: 5px 5px 0;
  border-top-color: #000;
}
.tooltip.top-left .tooltip-arrow {
  bottom: 0;
  right: 5px;
  margin-bottom: -5px;
  border-width: 5px 5px 0;
  border-top-color: #000;
}
.tooltip.top-right .tooltip-arrow {
  bottom: 0;
  left: 5px;
  margin-bottom: -5px;
  border-width: 5px 5px 0;
  border-top-color: #000;
}
.tooltip.right .tooltip-arrow {
  top: 50%;
  left: 0;
  margin-top: -5px;
  border-width: 5px 5px 5px 0;
  border-right-color: #000;
}
.tooltip.left .tooltip-arrow {
  top: 50%;
  right: 0;
  margin-top: -5px;
  border-width: 5px 0 5px 5px;
  border-left-color: #000;
}
.tooltip.bottom .tooltip-arrow {
  top: 0;
  left: 50%;
  margin-left: -5px;
  border-width: 0 5px 5px;
  border-bottom-color: #000;
}
.tooltip.bottom-left .tooltip-arrow {
  top: 0;
  right: 5px;
  margin-top: -5px;
  border-width: 0 5px 5px;
  border-bottom-color: #000;
}
.tooltip.bottom-right .tooltip-arrow {
  top: 0;
  left: 5px;
  margin-top: -5px;
  border-width: 0 5px 5px;
  border-bottom-color: #000;
}
.popover {
  position: absolute;
  top: 0;
  left: 0;
  z-index: 1060;
  display: none;
  max-width: 276px;
  padding: 1px;
  font-family: "Helvetica Neue", Helvetica, Arial, sans-serif;
  font-style: normal;
  font-weight: normal;
  letter-spacing: normal;
  line-break: auto;
  line-height: 1.42857143;
  text-align: left;
  text-align: start;
  text-decoration: none;
  text-shadow: none;
  text-transform: none;
  white-space: normal;
  word-break: normal;
  word-spacing: normal;
  word-wrap: normal;
  font-size: 13px;
  background-color: #fff;
  background-clip: padding-box;
  border: 1px solid #ccc;
  border: 1px solid rgba(0, 0, 0, 0.2);
  border-radius: 3px;
  -webkit-box-shadow: 0 5px 10px rgba(0, 0, 0, 0.2);
  box-shadow: 0 5px 10px rgba(0, 0, 0, 0.2);
}
.popover.top {
  margin-top: -10px;
}
.popover.right {
  margin-left: 10px;
}
.popover.bottom {
  margin-top: 10px;
}
.popover.left {
  margin-left: -10px;
}
.popover-title {
  margin: 0;
  padding: 8px 14px;
  font-size: 13px;
  background-color: #f7f7f7;
  border-bottom: 1px solid #ebebeb;
  border-radius: 2px 2px 0 0;
}
.popover-content {
  padding: 9px 14px;
}
.popover > .arrow,
.popover > .arrow:after {
  position: absolute;
  display: block;
  width: 0;
  height: 0;
  border-color: transparent;
  border-style: solid;
}
.popover > .arrow {
  border-width: 11px;
}
.popover > .arrow:after {
  border-width: 10px;
  content: "";
}
.popover.top > .arrow {
  left: 50%;
  margin-left: -11px;
  border-bottom-width: 0;
  border-top-color: #999999;
  border-top-color: rgba(0, 0, 0, 0.25);
  bottom: -11px;
}
.popover.top > .arrow:after {
  content: " ";
  bottom: 1px;
  margin-left: -10px;
  border-bottom-width: 0;
  border-top-color: #fff;
}
.popover.right > .arrow {
  top: 50%;
  left: -11px;
  margin-top: -11px;
  border-left-width: 0;
  border-right-color: #999999;
  border-right-color: rgba(0, 0, 0, 0.25);
}
.popover.right > .arrow:after {
  content: " ";
  left: 1px;
  bottom: -10px;
  border-left-width: 0;
  border-right-color: #fff;
}
.popover.bottom > .arrow {
  left: 50%;
  margin-left: -11px;
  border-top-width: 0;
  border-bottom-color: #999999;
  border-bottom-color: rgba(0, 0, 0, 0.25);
  top: -11px;
}
.popover.bottom > .arrow:after {
  content: " ";
  top: 1px;
  margin-left: -10px;
  border-top-width: 0;
  border-bottom-color: #fff;
}
.popover.left > .arrow {
  top: 50%;
  right: -11px;
  margin-top: -11px;
  border-right-width: 0;
  border-left-color: #999999;
  border-left-color: rgba(0, 0, 0, 0.25);
}
.popover.left > .arrow:after {
  content: " ";
  right: 1px;
  border-right-width: 0;
  border-left-color: #fff;
  bottom: -10px;
}
.carousel {
  position: relative;
}
.carousel-inner {
  position: relative;
  overflow: hidden;
  width: 100%;
}
.carousel-inner > .item {
  display: none;
  position: relative;
  -webkit-transition: 0.6s ease-in-out left;
  -o-transition: 0.6s ease-in-out left;
  transition: 0.6s ease-in-out left;
}
.carousel-inner > .item > img,
.carousel-inner > .item > a > img {
  line-height: 1;
}
@media all and (transform-3d), (-webkit-transform-3d) {
  .carousel-inner > .item {
    -webkit-transition: -webkit-transform 0.6s ease-in-out;
    -moz-transition: -moz-transform 0.6s ease-in-out;
    -o-transition: -o-transform 0.6s ease-in-out;
    transition: transform 0.6s ease-in-out;
    -webkit-backface-visibility: hidden;
    -moz-backface-visibility: hidden;
    backface-visibility: hidden;
    -webkit-perspective: 1000px;
    -moz-perspective: 1000px;
    perspective: 1000px;
  }
  .carousel-inner > .item.next,
  .carousel-inner > .item.active.right {
    -webkit-transform: translate3d(100%, 0, 0);
    transform: translate3d(100%, 0, 0);
    left: 0;
  }
  .carousel-inner > .item.prev,
  .carousel-inner > .item.active.left {
    -webkit-transform: translate3d(-100%, 0, 0);
    transform: translate3d(-100%, 0, 0);
    left: 0;
  }
  .carousel-inner > .item.next.left,
  .carousel-inner > .item.prev.right,
  .carousel-inner > .item.active {
    -webkit-transform: translate3d(0, 0, 0);
    transform: translate3d(0, 0, 0);
    left: 0;
  }
}
.carousel-inner > .active,
.carousel-inner > .next,
.carousel-inner > .prev {
  display: block;
}
.carousel-inner > .active {
  left: 0;
}
.carousel-inner > .next,
.carousel-inner > .prev {
  position: absolute;
  top: 0;
  width: 100%;
}
.carousel-inner > .next {
  left: 100%;
}
.carousel-inner > .prev {
  left: -100%;
}
.carousel-inner > .next.left,
.carousel-inner > .prev.right {
  left: 0;
}
.carousel-inner > .active.left {
  left: -100%;
}
.carousel-inner > .active.right {
  left: 100%;
}
.carousel-control {
  position: absolute;
  top: 0;
  left: 0;
  bottom: 0;
  width: 15%;
  opacity: 0.5;
  filter: alpha(opacity=50);
  font-size: 20px;
  color: #fff;
  text-align: center;
  text-shadow: 0 1px 2px rgba(0, 0, 0, 0.6);
  background-color: rgba(0, 0, 0, 0);
}
.carousel-control.left {
  background-image: -webkit-linear-gradient(left, rgba(0, 0, 0, 0.5) 0%, rgba(0, 0, 0, 0.0001) 100%);
  background-image: -o-linear-gradient(left, rgba(0, 0, 0, 0.5) 0%, rgba(0, 0, 0, 0.0001) 100%);
  background-image: linear-gradient(to right, rgba(0, 0, 0, 0.5) 0%, rgba(0, 0, 0, 0.0001) 100%);
  background-repeat: repeat-x;
  filter: progid:DXImageTransform.Microsoft.gradient(startColorstr='#80000000', endColorstr='#00000000', GradientType=1);
}
.carousel-control.right {
  left: auto;
  right: 0;
  background-image: -webkit-linear-gradient(left, rgba(0, 0, 0, 0.0001) 0%, rgba(0, 0, 0, 0.5) 100%);
  background-image: -o-linear-gradient(left, rgba(0, 0, 0, 0.0001) 0%, rgba(0, 0, 0, 0.5) 100%);
  background-image: linear-gradient(to right, rgba(0, 0, 0, 0.0001) 0%, rgba(0, 0, 0, 0.5) 100%);
  background-repeat: repeat-x;
  filter: progid:DXImageTransform.Microsoft.gradient(startColorstr='#00000000', endColorstr='#80000000', GradientType=1);
}
.carousel-control:hover,
.carousel-control:focus {
  outline: 0;
  color: #fff;
  text-decoration: none;
  opacity: 0.9;
  filter: alpha(opacity=90);
}
.carousel-control .icon-prev,
.carousel-control .icon-next,
.carousel-control .glyphicon-chevron-left,
.carousel-control .glyphicon-chevron-right {
  position: absolute;
  top: 50%;
  margin-top: -10px;
  z-index: 5;
  display: inline-block;
}
.carousel-control .icon-prev,
.carousel-control .glyphicon-chevron-left {
  left: 50%;
  margin-left: -10px;
}
.carousel-control .icon-next,
.carousel-control .glyphicon-chevron-right {
  right: 50%;
  margin-right: -10px;
}
.carousel-control .icon-prev,
.carousel-control .icon-next {
  width: 20px;
  height: 20px;
  line-height: 1;
  font-family: serif;
}
.carousel-control .icon-prev:before {
  content: '\2039';
}
.carousel-control .icon-next:before {
  content: '\203a';
}
.carousel-indicators {
  position: absolute;
  bottom: 10px;
  left: 50%;
  z-index: 15;
  width: 60%;
  margin-left: -30%;
  padding-left: 0;
  list-style: none;
  text-align: center;
}
.carousel-indicators li {
  display: inline-block;
  width: 10px;
  height: 10px;
  margin: 1px;
  text-indent: -999px;
  border: 1px solid #fff;
  border-radius: 10px;
  cursor: pointer;
  background-color: #000 \9;
  background-color: rgba(0, 0, 0, 0);
}
.carousel-indicators .active {
  margin: 0;
  width: 12px;
  height: 12px;
  background-color: #fff;
}
.carousel-caption {
  position: absolute;
  left: 15%;
  right: 15%;
  bottom: 20px;
  z-index: 10;
  padding-top: 20px;
  padding-bottom: 20px;
  color: #fff;
  text-align: center;
  text-shadow: 0 1px 2px rgba(0, 0, 0, 0.6);
}
.carousel-caption .btn {
  text-shadow: none;
}
@media screen and (min-width: 768px) {
  .carousel-control .glyphicon-chevron-left,
  .carousel-control .glyphicon-chevron-right,
  .carousel-control .icon-prev,
  .carousel-control .icon-next {
    width: 30px;
    height: 30px;
    margin-top: -10px;
    font-size: 30px;
  }
  .carousel-control .glyphicon-chevron-left,
  .carousel-control .icon-prev {
    margin-left: -10px;
  }
  .carousel-control .glyphicon-chevron-right,
  .carousel-control .icon-next {
    margin-right: -10px;
  }
  .carousel-caption {
    left: 20%;
    right: 20%;
    padding-bottom: 30px;
  }
  .carousel-indicators {
    bottom: 20px;
  }
}
.clearfix:before,
.clearfix:after,
.dl-horizontal dd:before,
.dl-horizontal dd:after,
.container:before,
.container:after,
.container-fluid:before,
.container-fluid:after,
.row:before,
.row:after,
.form-horizontal .form-group:before,
.form-horizontal .form-group:after,
.btn-toolbar:before,
.btn-toolbar:after,
.btn-group-vertical > .btn-group:before,
.btn-group-vertical > .btn-group:after,
.nav:before,
.nav:after,
.navbar:before,
.navbar:after,
.navbar-header:before,
.navbar-header:after,
.navbar-collapse:before,
.navbar-collapse:after,
.pager:before,
.pager:after,
.panel-body:before,
.panel-body:after,
.modal-header:before,
.modal-header:after,
.modal-footer:before,
.modal-footer:after,
.item_buttons:before,
.item_buttons:after {
  content: " ";
  display: table;
}
.clearfix:after,
.dl-horizontal dd:after,
.container:after,
.container-fluid:after,
.row:after,
.form-horizontal .form-group:after,
.btn-toolbar:after,
.btn-group-vertical > .btn-group:after,
.nav:after,
.navbar:after,
.navbar-header:after,
.navbar-collapse:after,
.pager:after,
.panel-body:after,
.modal-header:after,
.modal-footer:after,
.item_buttons:after {
  clear: both;
}
.center-block {
  display: block;
  margin-left: auto;
  margin-right: auto;
}
.pull-right {
  float: right !important;
}
.pull-left {
  float: left !important;
}
.hide {
  display: none !important;
}
.show {
  display: block !important;
}
.invisible {
  visibility: hidden;
}
.text-hide {
  font: 0/0 a;
  color: transparent;
  text-shadow: none;
  background-color: transparent;
  border: 0;
}
.hidden {
  display: none !important;
}
.affix {
  position: fixed;
}
@-ms-viewport {
  width: device-width;
}
.visible-xs,
.visible-sm,
.visible-md,
.visible-lg {
  display: none !important;
}
.visible-xs-block,
.visible-xs-inline,
.visible-xs-inline-block,
.visible-sm-block,
.visible-sm-inline,
.visible-sm-inline-block,
.visible-md-block,
.visible-md-inline,
.visible-md-inline-block,
.visible-lg-block,
.visible-lg-inline,
.visible-lg-inline-block {
  display: none !important;
}
@media (max-width: 767px) {
  .visible-xs {
    display: block !important;
  }
  table.visible-xs {
    display: table !important;
  }
  tr.visible-xs {
    display: table-row !important;
  }
  th.visible-xs,
  td.visible-xs {
    display: table-cell !important;
  }
}
@media (max-width: 767px) {
  .visible-xs-block {
    display: block !important;
  }
}
@media (max-width: 767px) {
  .visible-xs-inline {
    display: inline !important;
  }
}
@media (max-width: 767px) {
  .visible-xs-inline-block {
    display: inline-block !important;
  }
}
@media (min-width: 768px) and (max-width: 991px) {
  .visible-sm {
    display: block !important;
  }
  table.visible-sm {
    display: table !important;
  }
  tr.visible-sm {
    display: table-row !important;
  }
  th.visible-sm,
  td.visible-sm {
    display: table-cell !important;
  }
}
@media (min-width: 768px) and (max-width: 991px) {
  .visible-sm-block {
    display: block !important;
  }
}
@media (min-width: 768px) and (max-width: 991px) {
  .visible-sm-inline {
    display: inline !important;
  }
}
@media (min-width: 768px) and (max-width: 991px) {
  .visible-sm-inline-block {
    display: inline-block !important;
  }
}
@media (min-width: 992px) and (max-width: 1199px) {
  .visible-md {
    display: block !important;
  }
  table.visible-md {
    display: table !important;
  }
  tr.visible-md {
    display: table-row !important;
  }
  th.visible-md,
  td.visible-md {
    display: table-cell !important;
  }
}
@media (min-width: 992px) and (max-width: 1199px) {
  .visible-md-block {
    display: block !important;
  }
}
@media (min-width: 992px) and (max-width: 1199px) {
  .visible-md-inline {
    display: inline !important;
  }
}
@media (min-width: 992px) and (max-width: 1199px) {
  .visible-md-inline-block {
    display: inline-block !important;
  }
}
@media (min-width: 1200px) {
  .visible-lg {
    display: block !important;
  }
  table.visible-lg {
    display: table !important;
  }
  tr.visible-lg {
    display: table-row !important;
  }
  th.visible-lg,
  td.visible-lg {
    display: table-cell !important;
  }
}
@media (min-width: 1200px) {
  .visible-lg-block {
    display: block !important;
  }
}
@media (min-width: 1200px) {
  .visible-lg-inline {
    display: inline !important;
  }
}
@media (min-width: 1200px) {
  .visible-lg-inline-block {
    display: inline-block !important;
  }
}
@media (max-width: 767px) {
  .hidden-xs {
    display: none !important;
  }
}
@media (min-width: 768px) and (max-width: 991px) {
  .hidden-sm {
    display: none !important;
  }
}
@media (min-width: 992px) and (max-width: 1199px) {
  .hidden-md {
    display: none !important;
  }
}
@media (min-width: 1200px) {
  .hidden-lg {
    display: none !important;
  }
}
.visible-print {
  display: none !important;
}
@media print {
  .visible-print {
    display: block !important;
  }
  table.visible-print {
    display: table !important;
  }
  tr.visible-print {
    display: table-row !important;
  }
  th.visible-print,
  td.visible-print {
    display: table-cell !important;
  }
}
.visible-print-block {
  display: none !important;
}
@media print {
  .visible-print-block {
    display: block !important;
  }
}
.visible-print-inline {
  display: none !important;
}
@media print {
  .visible-print-inline {
    display: inline !important;
  }
}
.visible-print-inline-block {
  display: none !important;
}
@media print {
  .visible-print-inline-block {
    display: inline-block !important;
  }
}
@media print {
  .hidden-print {
    display: none !important;
  }
}
/*!
*
* Font Awesome
*
*/
/*!
 *  Font Awesome 4.7.0 by @davegandy - http://fontawesome.io - @fontawesome
 *  License - http://fontawesome.io/license (Font: SIL OFL 1.1, CSS: MIT License)
 */
/* FONT PATH
 * -------------------------- */
@font-face {
  font-family: 'FontAwesome';
  src: url('../components/font-awesome/fonts/fontawesome-webfont.eot?v=4.7.0');
  src: url('../components/font-awesome/fonts/fontawesome-webfont.eot?#iefix&v=4.7.0') format('embedded-opentype'), url('../components/font-awesome/fonts/fontawesome-webfont.woff2?v=4.7.0') format('woff2'), url('../components/font-awesome/fonts/fontawesome-webfont.woff?v=4.7.0') format('woff'), url('../components/font-awesome/fonts/fontawesome-webfont.ttf?v=4.7.0') format('truetype'), url('../components/font-awesome/fonts/fontawesome-webfont.svg?v=4.7.0#fontawesomeregular') format('svg');
  font-weight: normal;
  font-style: normal;
}
.fa {
  display: inline-block;
  font: normal normal normal 14px/1 FontAwesome;
  font-size: inherit;
  text-rendering: auto;
  -webkit-font-smoothing: antialiased;
  -moz-osx-font-smoothing: grayscale;
}
/* makes the font 33% larger relative to the icon container */
.fa-lg {
  font-size: 1.33333333em;
  line-height: 0.75em;
  vertical-align: -15%;
}
.fa-2x {
  font-size: 2em;
}
.fa-3x {
  font-size: 3em;
}
.fa-4x {
  font-size: 4em;
}
.fa-5x {
  font-size: 5em;
}
.fa-fw {
  width: 1.28571429em;
  text-align: center;
}
.fa-ul {
  padding-left: 0;
  margin-left: 2.14285714em;
  list-style-type: none;
}
.fa-ul > li {
  position: relative;
}
.fa-li {
  position: absolute;
  left: -2.14285714em;
  width: 2.14285714em;
  top: 0.14285714em;
  text-align: center;
}
.fa-li.fa-lg {
  left: -1.85714286em;
}
.fa-border {
  padding: .2em .25em .15em;
  border: solid 0.08em #eee;
  border-radius: .1em;
}
.fa-pull-left {
  float: left;
}
.fa-pull-right {
  float: right;
}
.fa.fa-pull-left {
  margin-right: .3em;
}
.fa.fa-pull-right {
  margin-left: .3em;
}
/* Deprecated as of 4.4.0 */
.pull-right {
  float: right;
}
.pull-left {
  float: left;
}
.fa.pull-left {
  margin-right: .3em;
}
.fa.pull-right {
  margin-left: .3em;
}
.fa-spin {
  -webkit-animation: fa-spin 2s infinite linear;
  animation: fa-spin 2s infinite linear;
}
.fa-pulse {
  -webkit-animation: fa-spin 1s infinite steps(8);
  animation: fa-spin 1s infinite steps(8);
}
@-webkit-keyframes fa-spin {
  0% {
    -webkit-transform: rotate(0deg);
    transform: rotate(0deg);
  }
  100% {
    -webkit-transform: rotate(359deg);
    transform: rotate(359deg);
  }
}
@keyframes fa-spin {
  0% {
    -webkit-transform: rotate(0deg);
    transform: rotate(0deg);
  }
  100% {
    -webkit-transform: rotate(359deg);
    transform: rotate(359deg);
  }
}
.fa-rotate-90 {
  -ms-filter: "progid:DXImageTransform.Microsoft.BasicImage(rotation=1)";
  -webkit-transform: rotate(90deg);
  -ms-transform: rotate(90deg);
  transform: rotate(90deg);
}
.fa-rotate-180 {
  -ms-filter: "progid:DXImageTransform.Microsoft.BasicImage(rotation=2)";
  -webkit-transform: rotate(180deg);
  -ms-transform: rotate(180deg);
  transform: rotate(180deg);
}
.fa-rotate-270 {
  -ms-filter: "progid:DXImageTransform.Microsoft.BasicImage(rotation=3)";
  -webkit-transform: rotate(270deg);
  -ms-transform: rotate(270deg);
  transform: rotate(270deg);
}
.fa-flip-horizontal {
  -ms-filter: "progid:DXImageTransform.Microsoft.BasicImage(rotation=0, mirror=1)";
  -webkit-transform: scale(-1, 1);
  -ms-transform: scale(-1, 1);
  transform: scale(-1, 1);
}
.fa-flip-vertical {
  -ms-filter: "progid:DXImageTransform.Microsoft.BasicImage(rotation=2, mirror=1)";
  -webkit-transform: scale(1, -1);
  -ms-transform: scale(1, -1);
  transform: scale(1, -1);
}
:root .fa-rotate-90,
:root .fa-rotate-180,
:root .fa-rotate-270,
:root .fa-flip-horizontal,
:root .fa-flip-vertical {
  filter: none;
}
.fa-stack {
  position: relative;
  display: inline-block;
  width: 2em;
  height: 2em;
  line-height: 2em;
  vertical-align: middle;
}
.fa-stack-1x,
.fa-stack-2x {
  position: absolute;
  left: 0;
  width: 100%;
  text-align: center;
}
.fa-stack-1x {
  line-height: inherit;
}
.fa-stack-2x {
  font-size: 2em;
}
.fa-inverse {
  color: #fff;
}
/* Font Awesome uses the Unicode Private Use Area (PUA) to ensure screen
   readers do not read off random characters that represent icons */
.fa-glass:before {
  content: "\f000";
}
.fa-music:before {
  content: "\f001";
}
.fa-search:before {
  content: "\f002";
}
.fa-envelope-o:before {
  content: "\f003";
}
.fa-heart:before {
  content: "\f004";
}
.fa-star:before {
  content: "\f005";
}
.fa-star-o:before {
  content: "\f006";
}
.fa-user:before {
  content: "\f007";
}
.fa-film:before {
  content: "\f008";
}
.fa-th-large:before {
  content: "\f009";
}
.fa-th:before {
  content: "\f00a";
}
.fa-th-list:before {
  content: "\f00b";
}
.fa-check:before {
  content: "\f00c";
}
.fa-remove:before,
.fa-close:before,
.fa-times:before {
  content: "\f00d";
}
.fa-search-plus:before {
  content: "\f00e";
}
.fa-search-minus:before {
  content: "\f010";
}
.fa-power-off:before {
  content: "\f011";
}
.fa-signal:before {
  content: "\f012";
}
.fa-gear:before,
.fa-cog:before {
  content: "\f013";
}
.fa-trash-o:before {
  content: "\f014";
}
.fa-home:before {
  content: "\f015";
}
.fa-file-o:before {
  content: "\f016";
}
.fa-clock-o:before {
  content: "\f017";
}
.fa-road:before {
  content: "\f018";
}
.fa-download:before {
  content: "\f019";
}
.fa-arrow-circle-o-down:before {
  content: "\f01a";
}
.fa-arrow-circle-o-up:before {
  content: "\f01b";
}
.fa-inbox:before {
  content: "\f01c";
}
.fa-play-circle-o:before {
  content: "\f01d";
}
.fa-rotate-right:before,
.fa-repeat:before {
  content: "\f01e";
}
.fa-refresh:before {
  content: "\f021";
}
.fa-list-alt:before {
  content: "\f022";
}
.fa-lock:before {
  content: "\f023";
}
.fa-flag:before {
  content: "\f024";
}
.fa-headphones:before {
  content: "\f025";
}
.fa-volume-off:before {
  content: "\f026";
}
.fa-volume-down:before {
  content: "\f027";
}
.fa-volume-up:before {
  content: "\f028";
}
.fa-qrcode:before {
  content: "\f029";
}
.fa-barcode:before {
  content: "\f02a";
}
.fa-tag:before {
  content: "\f02b";
}
.fa-tags:before {
  content: "\f02c";
}
.fa-book:before {
  content: "\f02d";
}
.fa-bookmark:before {
  content: "\f02e";
}
.fa-print:before {
  content: "\f02f";
}
.fa-camera:before {
  content: "\f030";
}
.fa-font:before {
  content: "\f031";
}
.fa-bold:before {
  content: "\f032";
}
.fa-italic:before {
  content: "\f033";
}
.fa-text-height:before {
  content: "\f034";
}
.fa-text-width:before {
  content: "\f035";
}
.fa-align-left:before {
  content: "\f036";
}
.fa-align-center:before {
  content: "\f037";
}
.fa-align-right:before {
  content: "\f038";
}
.fa-align-justify:before {
  content: "\f039";
}
.fa-list:before {
  content: "\f03a";
}
.fa-dedent:before,
.fa-outdent:before {
  content: "\f03b";
}
.fa-indent:before {
  content: "\f03c";
}
.fa-video-camera:before {
  content: "\f03d";
}
.fa-photo:before,
.fa-image:before,
.fa-picture-o:before {
  content: "\f03e";
}
.fa-pencil:before {
  content: "\f040";
}
.fa-map-marker:before {
  content: "\f041";
}
.fa-adjust:before {
  content: "\f042";
}
.fa-tint:before {
  content: "\f043";
}
.fa-edit:before,
.fa-pencil-square-o:before {
  content: "\f044";
}
.fa-share-square-o:before {
  content: "\f045";
}
.fa-check-square-o:before {
  content: "\f046";
}
.fa-arrows:before {
  content: "\f047";
}
.fa-step-backward:before {
  content: "\f048";
}
.fa-fast-backward:before {
  content: "\f049";
}
.fa-backward:before {
  content: "\f04a";
}
.fa-play:before {
  content: "\f04b";
}
.fa-pause:before {
  content: "\f04c";
}
.fa-stop:before {
  content: "\f04d";
}
.fa-forward:before {
  content: "\f04e";
}
.fa-fast-forward:before {
  content: "\f050";
}
.fa-step-forward:before {
  content: "\f051";
}
.fa-eject:before {
  content: "\f052";
}
.fa-chevron-left:before {
  content: "\f053";
}
.fa-chevron-right:before {
  content: "\f054";
}
.fa-plus-circle:before {
  content: "\f055";
}
.fa-minus-circle:before {
  content: "\f056";
}
.fa-times-circle:before {
  content: "\f057";
}
.fa-check-circle:before {
  content: "\f058";
}
.fa-question-circle:before {
  content: "\f059";
}
.fa-info-circle:before {
  content: "\f05a";
}
.fa-crosshairs:before {
  content: "\f05b";
}
.fa-times-circle-o:before {
  content: "\f05c";
}
.fa-check-circle-o:before {
  content: "\f05d";
}
.fa-ban:before {
  content: "\f05e";
}
.fa-arrow-left:before {
  content: "\f060";
}
.fa-arrow-right:before {
  content: "\f061";
}
.fa-arrow-up:before {
  content: "\f062";
}
.fa-arrow-down:before {
  content: "\f063";
}
.fa-mail-forward:before,
.fa-share:before {
  content: "\f064";
}
.fa-expand:before {
  content: "\f065";
}
.fa-compress:before {
  content: "\f066";
}
.fa-plus:before {
  content: "\f067";
}
.fa-minus:before {
  content: "\f068";
}
.fa-asterisk:before {
  content: "\f069";
}
.fa-exclamation-circle:before {
  content: "\f06a";
}
.fa-gift:before {
  content: "\f06b";
}
.fa-leaf:before {
  content: "\f06c";
}
.fa-fire:before {
  content: "\f06d";
}
.fa-eye:before {
  content: "\f06e";
}
.fa-eye-slash:before {
  content: "\f070";
}
.fa-warning:before,
.fa-exclamation-triangle:before {
  content: "\f071";
}
.fa-plane:before {
  content: "\f072";
}
.fa-calendar:before {
  content: "\f073";
}
.fa-random:before {
  content: "\f074";
}
.fa-comment:before {
  content: "\f075";
}
.fa-magnet:before {
  content: "\f076";
}
.fa-chevron-up:before {
  content: "\f077";
}
.fa-chevron-down:before {
  content: "\f078";
}
.fa-retweet:before {
  content: "\f079";
}
.fa-shopping-cart:before {
  content: "\f07a";
}
.fa-folder:before {
  content: "\f07b";
}
.fa-folder-open:before {
  content: "\f07c";
}
.fa-arrows-v:before {
  content: "\f07d";
}
.fa-arrows-h:before {
  content: "\f07e";
}
.fa-bar-chart-o:before,
.fa-bar-chart:before {
  content: "\f080";
}
.fa-twitter-square:before {
  content: "\f081";
}
.fa-facebook-square:before {
  content: "\f082";
}
.fa-camera-retro:before {
  content: "\f083";
}
.fa-key:before {
  content: "\f084";
}
.fa-gears:before,
.fa-cogs:before {
  content: "\f085";
}
.fa-comments:before {
  content: "\f086";
}
.fa-thumbs-o-up:before {
  content: "\f087";
}
.fa-thumbs-o-down:before {
  content: "\f088";
}
.fa-star-half:before {
  content: "\f089";
}
.fa-heart-o:before {
  content: "\f08a";
}
.fa-sign-out:before {
  content: "\f08b";
}
.fa-linkedin-square:before {
  content: "\f08c";
}
.fa-thumb-tack:before {
  content: "\f08d";
}
.fa-external-link:before {
  content: "\f08e";
}
.fa-sign-in:before {
  content: "\f090";
}
.fa-trophy:before {
  content: "\f091";
}
.fa-github-square:before {
  content: "\f092";
}
.fa-upload:before {
  content: "\f093";
}
.fa-lemon-o:before {
  content: "\f094";
}
.fa-phone:before {
  content: "\f095";
}
.fa-square-o:before {
  content: "\f096";
}
.fa-bookmark-o:before {
  content: "\f097";
}
.fa-phone-square:before {
  content: "\f098";
}
.fa-twitter:before {
  content: "\f099";
}
.fa-facebook-f:before,
.fa-facebook:before {
  content: "\f09a";
}
.fa-github:before {
  content: "\f09b";
}
.fa-unlock:before {
  content: "\f09c";
}
.fa-credit-card:before {
  content: "\f09d";
}
.fa-feed:before,
.fa-rss:before {
  content: "\f09e";
}
.fa-hdd-o:before {
  content: "\f0a0";
}
.fa-bullhorn:before {
  content: "\f0a1";
}
.fa-bell:before {
  content: "\f0f3";
}
.fa-certificate:before {
  content: "\f0a3";
}
.fa-hand-o-right:before {
  content: "\f0a4";
}
.fa-hand-o-left:before {
  content: "\f0a5";
}
.fa-hand-o-up:before {
  content: "\f0a6";
}
.fa-hand-o-down:before {
  content: "\f0a7";
}
.fa-arrow-circle-left:before {
  content: "\f0a8";
}
.fa-arrow-circle-right:before {
  content: "\f0a9";
}
.fa-arrow-circle-up:before {
  content: "\f0aa";
}
.fa-arrow-circle-down:before {
  content: "\f0ab";
}
.fa-globe:before {
  content: "\f0ac";
}
.fa-wrench:before {
  content: "\f0ad";
}
.fa-tasks:before {
  content: "\f0ae";
}
.fa-filter:before {
  content: "\f0b0";
}
.fa-briefcase:before {
  content: "\f0b1";
}
.fa-arrows-alt:before {
  content: "\f0b2";
}
.fa-group:before,
.fa-users:before {
  content: "\f0c0";
}
.fa-chain:before,
.fa-link:before {
  content: "\f0c1";
}
.fa-cloud:before {
  content: "\f0c2";
}
.fa-flask:before {
  content: "\f0c3";
}
.fa-cut:before,
.fa-scissors:before {
  content: "\f0c4";
}
.fa-copy:before,
.fa-files-o:before {
  content: "\f0c5";
}
.fa-paperclip:before {
  content: "\f0c6";
}
.fa-save:before,
.fa-floppy-o:before {
  content: "\f0c7";
}
.fa-square:before {
  content: "\f0c8";
}
.fa-navicon:before,
.fa-reorder:before,
.fa-bars:before {
  content: "\f0c9";
}
.fa-list-ul:before {
  content: "\f0ca";
}
.fa-list-ol:before {
  content: "\f0cb";
}
.fa-strikethrough:before {
  content: "\f0cc";
}
.fa-underline:before {
  content: "\f0cd";
}
.fa-table:before {
  content: "\f0ce";
}
.fa-magic:before {
  content: "\f0d0";
}
.fa-truck:before {
  content: "\f0d1";
}
.fa-pinterest:before {
  content: "\f0d2";
}
.fa-pinterest-square:before {
  content: "\f0d3";
}
.fa-google-plus-square:before {
  content: "\f0d4";
}
.fa-google-plus:before {
  content: "\f0d5";
}
.fa-money:before {
  content: "\f0d6";
}
.fa-caret-down:before {
  content: "\f0d7";
}
.fa-caret-up:before {
  content: "\f0d8";
}
.fa-caret-left:before {
  content: "\f0d9";
}
.fa-caret-right:before {
  content: "\f0da";
}
.fa-columns:before {
  content: "\f0db";
}
.fa-unsorted:before,
.fa-sort:before {
  content: "\f0dc";
}
.fa-sort-down:before,
.fa-sort-desc:before {
  content: "\f0dd";
}
.fa-sort-up:before,
.fa-sort-asc:before {
  content: "\f0de";
}
.fa-envelope:before {
  content: "\f0e0";
}
.fa-linkedin:before {
  content: "\f0e1";
}
.fa-rotate-left:before,
.fa-undo:before {
  content: "\f0e2";
}
.fa-legal:before,
.fa-gavel:before {
  content: "\f0e3";
}
.fa-dashboard:before,
.fa-tachometer:before {
  content: "\f0e4";
}
.fa-comment-o:before {
  content: "\f0e5";
}
.fa-comments-o:before {
  content: "\f0e6";
}
.fa-flash:before,
.fa-bolt:before {
  content: "\f0e7";
}
.fa-sitemap:before {
  content: "\f0e8";
}
.fa-umbrella:before {
  content: "\f0e9";
}
.fa-paste:before,
.fa-clipboard:before {
  content: "\f0ea";
}
.fa-lightbulb-o:before {
  content: "\f0eb";
}
.fa-exchange:before {
  content: "\f0ec";
}
.fa-cloud-download:before {
  content: "\f0ed";
}
.fa-cloud-upload:before {
  content: "\f0ee";
}
.fa-user-md:before {
  content: "\f0f0";
}
.fa-stethoscope:before {
  content: "\f0f1";
}
.fa-suitcase:before {
  content: "\f0f2";
}
.fa-bell-o:before {
  content: "\f0a2";
}
.fa-coffee:before {
  content: "\f0f4";
}
.fa-cutlery:before {
  content: "\f0f5";
}
.fa-file-text-o:before {
  content: "\f0f6";
}
.fa-building-o:before {
  content: "\f0f7";
}
.fa-hospital-o:before {
  content: "\f0f8";
}
.fa-ambulance:before {
  content: "\f0f9";
}
.fa-medkit:before {
  content: "\f0fa";
}
.fa-fighter-jet:before {
  content: "\f0fb";
}
.fa-beer:before {
  content: "\f0fc";
}
.fa-h-square:before {
  content: "\f0fd";
}
.fa-plus-square:before {
  content: "\f0fe";
}
.fa-angle-double-left:before {
  content: "\f100";
}
.fa-angle-double-right:before {
  content: "\f101";
}
.fa-angle-double-up:before {
  content: "\f102";
}
.fa-angle-double-down:before {
  content: "\f103";
}
.fa-angle-left:before {
  content: "\f104";
}
.fa-angle-right:before {
  content: "\f105";
}
.fa-angle-up:before {
  content: "\f106";
}
.fa-angle-down:before {
  content: "\f107";
}
.fa-desktop:before {
  content: "\f108";
}
.fa-laptop:before {
  content: "\f109";
}
.fa-tablet:before {
  content: "\f10a";
}
.fa-mobile-phone:before,
.fa-mobile:before {
  content: "\f10b";
}
.fa-circle-o:before {
  content: "\f10c";
}
.fa-quote-left:before {
  content: "\f10d";
}
.fa-quote-right:before {
  content: "\f10e";
}
.fa-spinner:before {
  content: "\f110";
}
.fa-circle:before {
  content: "\f111";
}
.fa-mail-reply:before,
.fa-reply:before {
  content: "\f112";
}
.fa-github-alt:before {
  content: "\f113";
}
.fa-folder-o:before {
  content: "\f114";
}
.fa-folder-open-o:before {
  content: "\f115";
}
.fa-smile-o:before {
  content: "\f118";
}
.fa-frown-o:before {
  content: "\f119";
}
.fa-meh-o:before {
  content: "\f11a";
}
.fa-gamepad:before {
  content: "\f11b";
}
.fa-keyboard-o:before {
  content: "\f11c";
}
.fa-flag-o:before {
  content: "\f11d";
}
.fa-flag-checkered:before {
  content: "\f11e";
}
.fa-terminal:before {
  content: "\f120";
}
.fa-code:before {
  content: "\f121";
}
.fa-mail-reply-all:before,
.fa-reply-all:before {
  content: "\f122";
}
.fa-star-half-empty:before,
.fa-star-half-full:before,
.fa-star-half-o:before {
  content: "\f123";
}
.fa-location-arrow:before {
  content: "\f124";
}
.fa-crop:before {
  content: "\f125";
}
.fa-code-fork:before {
  content: "\f126";
}
.fa-unlink:before,
.fa-chain-broken:before {
  content: "\f127";
}
.fa-question:before {
  content: "\f128";
}
.fa-info:before {
  content: "\f129";
}
.fa-exclamation:before {
  content: "\f12a";
}
.fa-superscript:before {
  content: "\f12b";
}
.fa-subscript:before {
  content: "\f12c";
}
.fa-eraser:before {
  content: "\f12d";
}
.fa-puzzle-piece:before {
  content: "\f12e";
}
.fa-microphone:before {
  content: "\f130";
}
.fa-microphone-slash:before {
  content: "\f131";
}
.fa-shield:before {
  content: "\f132";
}
.fa-calendar-o:before {
  content: "\f133";
}
.fa-fire-extinguisher:before {
  content: "\f134";
}
.fa-rocket:before {
  content: "\f135";
}
.fa-maxcdn:before {
  content: "\f136";
}
.fa-chevron-circle-left:before {
  content: "\f137";
}
.fa-chevron-circle-right:before {
  content: "\f138";
}
.fa-chevron-circle-up:before {
  content: "\f139";
}
.fa-chevron-circle-down:before {
  content: "\f13a";
}
.fa-html5:before {
  content: "\f13b";
}
.fa-css3:before {
  content: "\f13c";
}
.fa-anchor:before {
  content: "\f13d";
}
.fa-unlock-alt:before {
  content: "\f13e";
}
.fa-bullseye:before {
  content: "\f140";
}
.fa-ellipsis-h:before {
  content: "\f141";
}
.fa-ellipsis-v:before {
  content: "\f142";
}
.fa-rss-square:before {
  content: "\f143";
}
.fa-play-circle:before {
  content: "\f144";
}
.fa-ticket:before {
  content: "\f145";
}
.fa-minus-square:before {
  content: "\f146";
}
.fa-minus-square-o:before {
  content: "\f147";
}
.fa-level-up:before {
  content: "\f148";
}
.fa-level-down:before {
  content: "\f149";
}
.fa-check-square:before {
  content: "\f14a";
}
.fa-pencil-square:before {
  content: "\f14b";
}
.fa-external-link-square:before {
  content: "\f14c";
}
.fa-share-square:before {
  content: "\f14d";
}
.fa-compass:before {
  content: "\f14e";
}
.fa-toggle-down:before,
.fa-caret-square-o-down:before {
  content: "\f150";
}
.fa-toggle-up:before,
.fa-caret-square-o-up:before {
  content: "\f151";
}
.fa-toggle-right:before,
.fa-caret-square-o-right:before {
  content: "\f152";
}
.fa-euro:before,
.fa-eur:before {
  content: "\f153";
}
.fa-gbp:before {
  content: "\f154";
}
.fa-dollar:before,
.fa-usd:before {
  content: "\f155";
}
.fa-rupee:before,
.fa-inr:before {
  content: "\f156";
}
.fa-cny:before,
.fa-rmb:before,
.fa-yen:before,
.fa-jpy:before {
  content: "\f157";
}
.fa-ruble:before,
.fa-rouble:before,
.fa-rub:before {
  content: "\f158";
}
.fa-won:before,
.fa-krw:before {
  content: "\f159";
}
.fa-bitcoin:before,
.fa-btc:before {
  content: "\f15a";
}
.fa-file:before {
  content: "\f15b";
}
.fa-file-text:before {
  content: "\f15c";
}
.fa-sort-alpha-asc:before {
  content: "\f15d";
}
.fa-sort-alpha-desc:before {
  content: "\f15e";
}
.fa-sort-amount-asc:before {
  content: "\f160";
}
.fa-sort-amount-desc:before {
  content: "\f161";
}
.fa-sort-numeric-asc:before {
  content: "\f162";
}
.fa-sort-numeric-desc:before {
  content: "\f163";
}
.fa-thumbs-up:before {
  content: "\f164";
}
.fa-thumbs-down:before {
  content: "\f165";
}
.fa-youtube-square:before {
  content: "\f166";
}
.fa-youtube:before {
  content: "\f167";
}
.fa-xing:before {
  content: "\f168";
}
.fa-xing-square:before {
  content: "\f169";
}
.fa-youtube-play:before {
  content: "\f16a";
}
.fa-dropbox:before {
  content: "\f16b";
}
.fa-stack-overflow:before {
  content: "\f16c";
}
.fa-instagram:before {
  content: "\f16d";
}
.fa-flickr:before {
  content: "\f16e";
}
.fa-adn:before {
  content: "\f170";
}
.fa-bitbucket:before {
  content: "\f171";
}
.fa-bitbucket-square:before {
  content: "\f172";
}
.fa-tumblr:before {
  content: "\f173";
}
.fa-tumblr-square:before {
  content: "\f174";
}
.fa-long-arrow-down:before {
  content: "\f175";
}
.fa-long-arrow-up:before {
  content: "\f176";
}
.fa-long-arrow-left:before {
  content: "\f177";
}
.fa-long-arrow-right:before {
  content: "\f178";
}
.fa-apple:before {
  content: "\f179";
}
.fa-windows:before {
  content: "\f17a";
}
.fa-android:before {
  content: "\f17b";
}
.fa-linux:before {
  content: "\f17c";
}
.fa-dribbble:before {
  content: "\f17d";
}
.fa-skype:before {
  content: "\f17e";
}
.fa-foursquare:before {
  content: "\f180";
}
.fa-trello:before {
  content: "\f181";
}
.fa-female:before {
  content: "\f182";
}
.fa-male:before {
  content: "\f183";
}
.fa-gittip:before,
.fa-gratipay:before {
  content: "\f184";
}
.fa-sun-o:before {
  content: "\f185";
}
.fa-moon-o:before {
  content: "\f186";
}
.fa-archive:before {
  content: "\f187";
}
.fa-bug:before {
  content: "\f188";
}
.fa-vk:before {
  content: "\f189";
}
.fa-weibo:before {
  content: "\f18a";
}
.fa-renren:before {
  content: "\f18b";
}
.fa-pagelines:before {
  content: "\f18c";
}
.fa-stack-exchange:before {
  content: "\f18d";
}
.fa-arrow-circle-o-right:before {
  content: "\f18e";
}
.fa-arrow-circle-o-left:before {
  content: "\f190";
}
.fa-toggle-left:before,
.fa-caret-square-o-left:before {
  content: "\f191";
}
.fa-dot-circle-o:before {
  content: "\f192";
}
.fa-wheelchair:before {
  content: "\f193";
}
.fa-vimeo-square:before {
  content: "\f194";
}
.fa-turkish-lira:before,
.fa-try:before {
  content: "\f195";
}
.fa-plus-square-o:before {
  content: "\f196";
}
.fa-space-shuttle:before {
  content: "\f197";
}
.fa-slack:before {
  content: "\f198";
}
.fa-envelope-square:before {
  content: "\f199";
}
.fa-wordpress:before {
  content: "\f19a";
}
.fa-openid:before {
  content: "\f19b";
}
.fa-institution:before,
.fa-bank:before,
.fa-university:before {
  content: "\f19c";
}
.fa-mortar-board:before,
.fa-graduation-cap:before {
  content: "\f19d";
}
.fa-yahoo:before {
  content: "\f19e";
}
.fa-google:before {
  content: "\f1a0";
}
.fa-reddit:before {
  content: "\f1a1";
}
.fa-reddit-square:before {
  content: "\f1a2";
}
.fa-stumbleupon-circle:before {
  content: "\f1a3";
}
.fa-stumbleupon:before {
  content: "\f1a4";
}
.fa-delicious:before {
  content: "\f1a5";
}
.fa-digg:before {
  content: "\f1a6";
}
.fa-pied-piper-pp:before {
  content: "\f1a7";
}
.fa-pied-piper-alt:before {
  content: "\f1a8";
}
.fa-drupal:before {
  content: "\f1a9";
}
.fa-joomla:before {
  content: "\f1aa";
}
.fa-language:before {
  content: "\f1ab";
}
.fa-fax:before {
  content: "\f1ac";
}
.fa-building:before {
  content: "\f1ad";
}
.fa-child:before {
  content: "\f1ae";
}
.fa-paw:before {
  content: "\f1b0";
}
.fa-spoon:before {
  content: "\f1b1";
}
.fa-cube:before {
  content: "\f1b2";
}
.fa-cubes:before {
  content: "\f1b3";
}
.fa-behance:before {
  content: "\f1b4";
}
.fa-behance-square:before {
  content: "\f1b5";
}
.fa-steam:before {
  content: "\f1b6";
}
.fa-steam-square:before {
  content: "\f1b7";
}
.fa-recycle:before {
  content: "\f1b8";
}
.fa-automobile:before,
.fa-car:before {
  content: "\f1b9";
}
.fa-cab:before,
.fa-taxi:before {
  content: "\f1ba";
}
.fa-tree:before {
  content: "\f1bb";
}
.fa-spotify:before {
  content: "\f1bc";
}
.fa-deviantart:before {
  content: "\f1bd";
}
.fa-soundcloud:before {
  content: "\f1be";
}
.fa-database:before {
  content: "\f1c0";
}
.fa-file-pdf-o:before {
  content: "\f1c1";
}
.fa-file-word-o:before {
  content: "\f1c2";
}
.fa-file-excel-o:before {
  content: "\f1c3";
}
.fa-file-powerpoint-o:before {
  content: "\f1c4";
}
.fa-file-photo-o:before,
.fa-file-picture-o:before,
.fa-file-image-o:before {
  content: "\f1c5";
}
.fa-file-zip-o:before,
.fa-file-archive-o:before {
  content: "\f1c6";
}
.fa-file-sound-o:before,
.fa-file-audio-o:before {
  content: "\f1c7";
}
.fa-file-movie-o:before,
.fa-file-video-o:before {
  content: "\f1c8";
}
.fa-file-code-o:before {
  content: "\f1c9";
}
.fa-vine:before {
  content: "\f1ca";
}
.fa-codepen:before {
  content: "\f1cb";
}
.fa-jsfiddle:before {
  content: "\f1cc";
}
.fa-life-bouy:before,
.fa-life-buoy:before,
.fa-life-saver:before,
.fa-support:before,
.fa-life-ring:before {
  content: "\f1cd";
}
.fa-circle-o-notch:before {
  content: "\f1ce";
}
.fa-ra:before,
.fa-resistance:before,
.fa-rebel:before {
  content: "\f1d0";
}
.fa-ge:before,
.fa-empire:before {
  content: "\f1d1";
}
.fa-git-square:before {
  content: "\f1d2";
}
.fa-git:before {
  content: "\f1d3";
}
.fa-y-combinator-square:before,
.fa-yc-square:before,
.fa-hacker-news:before {
  content: "\f1d4";
}
.fa-tencent-weibo:before {
  content: "\f1d5";
}
.fa-qq:before {
  content: "\f1d6";
}
.fa-wechat:before,
.fa-weixin:before {
  content: "\f1d7";
}
.fa-send:before,
.fa-paper-plane:before {
  content: "\f1d8";
}
.fa-send-o:before,
.fa-paper-plane-o:before {
  content: "\f1d9";
}
.fa-history:before {
  content: "\f1da";
}
.fa-circle-thin:before {
  content: "\f1db";
}
.fa-header:before {
  content: "\f1dc";
}
.fa-paragraph:before {
  content: "\f1dd";
}
.fa-sliders:before {
  content: "\f1de";
}
.fa-share-alt:before {
  content: "\f1e0";
}
.fa-share-alt-square:before {
  content: "\f1e1";
}
.fa-bomb:before {
  content: "\f1e2";
}
.fa-soccer-ball-o:before,
.fa-futbol-o:before {
  content: "\f1e3";
}
.fa-tty:before {
  content: "\f1e4";
}
.fa-binoculars:before {
  content: "\f1e5";
}
.fa-plug:before {
  content: "\f1e6";
}
.fa-slideshare:before {
  content: "\f1e7";
}
.fa-twitch:before {
  content: "\f1e8";
}
.fa-yelp:before {
  content: "\f1e9";
}
.fa-newspaper-o:before {
  content: "\f1ea";
}
.fa-wifi:before {
  content: "\f1eb";
}
.fa-calculator:before {
  content: "\f1ec";
}
.fa-paypal:before {
  content: "\f1ed";
}
.fa-google-wallet:before {
  content: "\f1ee";
}
.fa-cc-visa:before {
  content: "\f1f0";
}
.fa-cc-mastercard:before {
  content: "\f1f1";
}
.fa-cc-discover:before {
  content: "\f1f2";
}
.fa-cc-amex:before {
  content: "\f1f3";
}
.fa-cc-paypal:before {
  content: "\f1f4";
}
.fa-cc-stripe:before {
  content: "\f1f5";
}
.fa-bell-slash:before {
  content: "\f1f6";
}
.fa-bell-slash-o:before {
  content: "\f1f7";
}
.fa-trash:before {
  content: "\f1f8";
}
.fa-copyright:before {
  content: "\f1f9";
}
.fa-at:before {
  content: "\f1fa";
}
.fa-eyedropper:before {
  content: "\f1fb";
}
.fa-paint-brush:before {
  content: "\f1fc";
}
.fa-birthday-cake:before {
  content: "\f1fd";
}
.fa-area-chart:before {
  content: "\f1fe";
}
.fa-pie-chart:before {
  content: "\f200";
}
.fa-line-chart:before {
  content: "\f201";
}
.fa-lastfm:before {
  content: "\f202";
}
.fa-lastfm-square:before {
  content: "\f203";
}
.fa-toggle-off:before {
  content: "\f204";
}
.fa-toggle-on:before {
  content: "\f205";
}
.fa-bicycle:before {
  content: "\f206";
}
.fa-bus:before {
  content: "\f207";
}
.fa-ioxhost:before {
  content: "\f208";
}
.fa-angellist:before {
  content: "\f209";
}
.fa-cc:before {
  content: "\f20a";
}
.fa-shekel:before,
.fa-sheqel:before,
.fa-ils:before {
  content: "\f20b";
}
.fa-meanpath:before {
  content: "\f20c";
}
.fa-buysellads:before {
  content: "\f20d";
}
.fa-connectdevelop:before {
  content: "\f20e";
}
.fa-dashcube:before {
  content: "\f210";
}
.fa-forumbee:before {
  content: "\f211";
}
.fa-leanpub:before {
  content: "\f212";
}
.fa-sellsy:before {
  content: "\f213";
}
.fa-shirtsinbulk:before {
  content: "\f214";
}
.fa-simplybuilt:before {
  content: "\f215";
}
.fa-skyatlas:before {
  content: "\f216";
}
.fa-cart-plus:before {
  content: "\f217";
}
.fa-cart-arrow-down:before {
  content: "\f218";
}
.fa-diamond:before {
  content: "\f219";
}
.fa-ship:before {
  content: "\f21a";
}
.fa-user-secret:before {
  content: "\f21b";
}
.fa-motorcycle:before {
  content: "\f21c";
}
.fa-street-view:before {
  content: "\f21d";
}
.fa-heartbeat:before {
  content: "\f21e";
}
.fa-venus:before {
  content: "\f221";
}
.fa-mars:before {
  content: "\f222";
}
.fa-mercury:before {
  content: "\f223";
}
.fa-intersex:before,
.fa-transgender:before {
  content: "\f224";
}
.fa-transgender-alt:before {
  content: "\f225";
}
.fa-venus-double:before {
  content: "\f226";
}
.fa-mars-double:before {
  content: "\f227";
}
.fa-venus-mars:before {
  content: "\f228";
}
.fa-mars-stroke:before {
  content: "\f229";
}
.fa-mars-stroke-v:before {
  content: "\f22a";
}
.fa-mars-stroke-h:before {
  content: "\f22b";
}
.fa-neuter:before {
  content: "\f22c";
}
.fa-genderless:before {
  content: "\f22d";
}
.fa-facebook-official:before {
  content: "\f230";
}
.fa-pinterest-p:before {
  content: "\f231";
}
.fa-whatsapp:before {
  content: "\f232";
}
.fa-server:before {
  content: "\f233";
}
.fa-user-plus:before {
  content: "\f234";
}
.fa-user-times:before {
  content: "\f235";
}
.fa-hotel:before,
.fa-bed:before {
  content: "\f236";
}
.fa-viacoin:before {
  content: "\f237";
}
.fa-train:before {
  content: "\f238";
}
.fa-subway:before {
  content: "\f239";
}
.fa-medium:before {
  content: "\f23a";
}
.fa-yc:before,
.fa-y-combinator:before {
  content: "\f23b";
}
.fa-optin-monster:before {
  content: "\f23c";
}
.fa-opencart:before {
  content: "\f23d";
}
.fa-expeditedssl:before {
  content: "\f23e";
}
.fa-battery-4:before,
.fa-battery:before,
.fa-battery-full:before {
  content: "\f240";
}
.fa-battery-3:before,
.fa-battery-three-quarters:before {
  content: "\f241";
}
.fa-battery-2:before,
.fa-battery-half:before {
  content: "\f242";
}
.fa-battery-1:before,
.fa-battery-quarter:before {
  content: "\f243";
}
.fa-battery-0:before,
.fa-battery-empty:before {
  content: "\f244";
}
.fa-mouse-pointer:before {
  content: "\f245";
}
.fa-i-cursor:before {
  content: "\f246";
}
.fa-object-group:before {
  content: "\f247";
}
.fa-object-ungroup:before {
  content: "\f248";
}
.fa-sticky-note:before {
  content: "\f249";
}
.fa-sticky-note-o:before {
  content: "\f24a";
}
.fa-cc-jcb:before {
  content: "\f24b";
}
.fa-cc-diners-club:before {
  content: "\f24c";
}
.fa-clone:before {
  content: "\f24d";
}
.fa-balance-scale:before {
  content: "\f24e";
}
.fa-hourglass-o:before {
  content: "\f250";
}
.fa-hourglass-1:before,
.fa-hourglass-start:before {
  content: "\f251";
}
.fa-hourglass-2:before,
.fa-hourglass-half:before {
  content: "\f252";
}
.fa-hourglass-3:before,
.fa-hourglass-end:before {
  content: "\f253";
}
.fa-hourglass:before {
  content: "\f254";
}
.fa-hand-grab-o:before,
.fa-hand-rock-o:before {
  content: "\f255";
}
.fa-hand-stop-o:before,
.fa-hand-paper-o:before {
  content: "\f256";
}
.fa-hand-scissors-o:before {
  content: "\f257";
}
.fa-hand-lizard-o:before {
  content: "\f258";
}
.fa-hand-spock-o:before {
  content: "\f259";
}
.fa-hand-pointer-o:before {
  content: "\f25a";
}
.fa-hand-peace-o:before {
  content: "\f25b";
}
.fa-trademark:before {
  content: "\f25c";
}
.fa-registered:before {
  content: "\f25d";
}
.fa-creative-commons:before {
  content: "\f25e";
}
.fa-gg:before {
  content: "\f260";
}
.fa-gg-circle:before {
  content: "\f261";
}
.fa-tripadvisor:before {
  content: "\f262";
}
.fa-odnoklassniki:before {
  content: "\f263";
}
.fa-odnoklassniki-square:before {
  content: "\f264";
}
.fa-get-pocket:before {
  content: "\f265";
}
.fa-wikipedia-w:before {
  content: "\f266";
}
.fa-safari:before {
  content: "\f267";
}
.fa-chrome:before {
  content: "\f268";
}
.fa-firefox:before {
  content: "\f269";
}
.fa-opera:before {
  content: "\f26a";
}
.fa-internet-explorer:before {
  content: "\f26b";
}
.fa-tv:before,
.fa-television:before {
  content: "\f26c";
}
.fa-contao:before {
  content: "\f26d";
}
.fa-500px:before {
  content: "\f26e";
}
.fa-amazon:before {
  content: "\f270";
}
.fa-calendar-plus-o:before {
  content: "\f271";
}
.fa-calendar-minus-o:before {
  content: "\f272";
}
.fa-calendar-times-o:before {
  content: "\f273";
}
.fa-calendar-check-o:before {
  content: "\f274";
}
.fa-industry:before {
  content: "\f275";
}
.fa-map-pin:before {
  content: "\f276";
}
.fa-map-signs:before {
  content: "\f277";
}
.fa-map-o:before {
  content: "\f278";
}
.fa-map:before {
  content: "\f279";
}
.fa-commenting:before {
  content: "\f27a";
}
.fa-commenting-o:before {
  content: "\f27b";
}
.fa-houzz:before {
  content: "\f27c";
}
.fa-vimeo:before {
  content: "\f27d";
}
.fa-black-tie:before {
  content: "\f27e";
}
.fa-fonticons:before {
  content: "\f280";
}
.fa-reddit-alien:before {
  content: "\f281";
}
.fa-edge:before {
  content: "\f282";
}
.fa-credit-card-alt:before {
  content: "\f283";
}
.fa-codiepie:before {
  content: "\f284";
}
.fa-modx:before {
  content: "\f285";
}
.fa-fort-awesome:before {
  content: "\f286";
}
.fa-usb:before {
  content: "\f287";
}
.fa-product-hunt:before {
  content: "\f288";
}
.fa-mixcloud:before {
  content: "\f289";
}
.fa-scribd:before {
  content: "\f28a";
}
.fa-pause-circle:before {
  content: "\f28b";
}
.fa-pause-circle-o:before {
  content: "\f28c";
}
.fa-stop-circle:before {
  content: "\f28d";
}
.fa-stop-circle-o:before {
  content: "\f28e";
}
.fa-shopping-bag:before {
  content: "\f290";
}
.fa-shopping-basket:before {
  content: "\f291";
}
.fa-hashtag:before {
  content: "\f292";
}
.fa-bluetooth:before {
  content: "\f293";
}
.fa-bluetooth-b:before {
  content: "\f294";
}
.fa-percent:before {
  content: "\f295";
}
.fa-gitlab:before {
  content: "\f296";
}
.fa-wpbeginner:before {
  content: "\f297";
}
.fa-wpforms:before {
  content: "\f298";
}
.fa-envira:before {
  content: "\f299";
}
.fa-universal-access:before {
  content: "\f29a";
}
.fa-wheelchair-alt:before {
  content: "\f29b";
}
.fa-question-circle-o:before {
  content: "\f29c";
}
.fa-blind:before {
  content: "\f29d";
}
.fa-audio-description:before {
  content: "\f29e";
}
.fa-volume-control-phone:before {
  content: "\f2a0";
}
.fa-braille:before {
  content: "\f2a1";
}
.fa-assistive-listening-systems:before {
  content: "\f2a2";
}
.fa-asl-interpreting:before,
.fa-american-sign-language-interpreting:before {
  content: "\f2a3";
}
.fa-deafness:before,
.fa-hard-of-hearing:before,
.fa-deaf:before {
  content: "\f2a4";
}
.fa-glide:before {
  content: "\f2a5";
}
.fa-glide-g:before {
  content: "\f2a6";
}
.fa-signing:before,
.fa-sign-language:before {
  content: "\f2a7";
}
.fa-low-vision:before {
  content: "\f2a8";
}
.fa-viadeo:before {
  content: "\f2a9";
}
.fa-viadeo-square:before {
  content: "\f2aa";
}
.fa-snapchat:before {
  content: "\f2ab";
}
.fa-snapchat-ghost:before {
  content: "\f2ac";
}
.fa-snapchat-square:before {
  content: "\f2ad";
}
.fa-pied-piper:before {
  content: "\f2ae";
}
.fa-first-order:before {
  content: "\f2b0";
}
.fa-yoast:before {
  content: "\f2b1";
}
.fa-themeisle:before {
  content: "\f2b2";
}
.fa-google-plus-circle:before,
.fa-google-plus-official:before {
  content: "\f2b3";
}
.fa-fa:before,
.fa-font-awesome:before {
  content: "\f2b4";
}
.fa-handshake-o:before {
  content: "\f2b5";
}
.fa-envelope-open:before {
  content: "\f2b6";
}
.fa-envelope-open-o:before {
  content: "\f2b7";
}
.fa-linode:before {
  content: "\f2b8";
}
.fa-address-book:before {
  content: "\f2b9";
}
.fa-address-book-o:before {
  content: "\f2ba";
}
.fa-vcard:before,
.fa-address-card:before {
  content: "\f2bb";
}
.fa-vcard-o:before,
.fa-address-card-o:before {
  content: "\f2bc";
}
.fa-user-circle:before {
  content: "\f2bd";
}
.fa-user-circle-o:before {
  content: "\f2be";
}
.fa-user-o:before {
  content: "\f2c0";
}
.fa-id-badge:before {
  content: "\f2c1";
}
.fa-drivers-license:before,
.fa-id-card:before {
  content: "\f2c2";
}
.fa-drivers-license-o:before,
.fa-id-card-o:before {
  content: "\f2c3";
}
.fa-quora:before {
  content: "\f2c4";
}
.fa-free-code-camp:before {
  content: "\f2c5";
}
.fa-telegram:before {
  content: "\f2c6";
}
.fa-thermometer-4:before,
.fa-thermometer:before,
.fa-thermometer-full:before {
  content: "\f2c7";
}
.fa-thermometer-3:before,
.fa-thermometer-three-quarters:before {
  content: "\f2c8";
}
.fa-thermometer-2:before,
.fa-thermometer-half:before {
  content: "\f2c9";
}
.fa-thermometer-1:before,
.fa-thermometer-quarter:before {
  content: "\f2ca";
}
.fa-thermometer-0:before,
.fa-thermometer-empty:before {
  content: "\f2cb";
}
.fa-shower:before {
  content: "\f2cc";
}
.fa-bathtub:before,
.fa-s15:before,
.fa-bath:before {
  content: "\f2cd";
}
.fa-podcast:before {
  content: "\f2ce";
}
.fa-window-maximize:before {
  content: "\f2d0";
}
.fa-window-minimize:before {
  content: "\f2d1";
}
.fa-window-restore:before {
  content: "\f2d2";
}
.fa-times-rectangle:before,
.fa-window-close:before {
  content: "\f2d3";
}
.fa-times-rectangle-o:before,
.fa-window-close-o:before {
  content: "\f2d4";
}
.fa-bandcamp:before {
  content: "\f2d5";
}
.fa-grav:before {
  content: "\f2d6";
}
.fa-etsy:before {
  content: "\f2d7";
}
.fa-imdb:before {
  content: "\f2d8";
}
.fa-ravelry:before {
  content: "\f2d9";
}
.fa-eercast:before {
  content: "\f2da";
}
.fa-microchip:before {
  content: "\f2db";
}
.fa-snowflake-o:before {
  content: "\f2dc";
}
.fa-superpowers:before {
  content: "\f2dd";
}
.fa-wpexplorer:before {
  content: "\f2de";
}
.fa-meetup:before {
  content: "\f2e0";
}
.sr-only {
  position: absolute;
  width: 1px;
  height: 1px;
  padding: 0;
  margin: -1px;
  overflow: hidden;
  clip: rect(0, 0, 0, 0);
  border: 0;
}
.sr-only-focusable:active,
.sr-only-focusable:focus {
  position: static;
  width: auto;
  height: auto;
  margin: 0;
  overflow: visible;
  clip: auto;
}
.sr-only-focusable:active,
.sr-only-focusable:focus {
  position: static;
  width: auto;
  height: auto;
  margin: 0;
  overflow: visible;
  clip: auto;
}
/*!
*
* IPython base
*
*/
.modal.fade .modal-dialog {
  -webkit-transform: translate(0, 0);
  -ms-transform: translate(0, 0);
  -o-transform: translate(0, 0);
  transform: translate(0, 0);
}
code {
  color: #000;
}
pre {
  font-size: inherit;
  line-height: inherit;
}
label {
  font-weight: normal;
}
/* Make the page background atleast 100% the height of the view port */
/* Make the page itself atleast 70% the height of the view port */
.border-box-sizing {
  box-sizing: border-box;
  -moz-box-sizing: border-box;
  -webkit-box-sizing: border-box;
}
.corner-all {
  border-radius: 2px;
}
.no-padding {
  padding: 0px;
}
/* Flexible box model classes */
/* Taken from Alex Russell http://infrequently.org/2009/08/css-3-progress/ */
/* This file is a compatability layer.  It allows the usage of flexible box 
model layouts accross multiple browsers, including older browsers.  The newest,
universal implementation of the flexible box model is used when available (see
`Modern browsers` comments below).  Browsers that are known to implement this 
new spec completely include:

    Firefox 28.0+
    Chrome 29.0+
    Internet Explorer 11+ 
    Opera 17.0+

Browsers not listed, including Safari, are supported via the styling under the
`Old browsers` comments below.
*/
.hbox {
  /* Old browsers */
  display: -webkit-box;
  -webkit-box-orient: horizontal;
  -webkit-box-align: stretch;
  display: -moz-box;
  -moz-box-orient: horizontal;
  -moz-box-align: stretch;
  display: box;
  box-orient: horizontal;
  box-align: stretch;
  /* Modern browsers */
  display: flex;
  flex-direction: row;
  align-items: stretch;
}
.hbox > * {
  /* Old browsers */
  -webkit-box-flex: 0;
  -moz-box-flex: 0;
  box-flex: 0;
  /* Modern browsers */
  flex: none;
}
.vbox {
  /* Old browsers */
  display: -webkit-box;
  -webkit-box-orient: vertical;
  -webkit-box-align: stretch;
  display: -moz-box;
  -moz-box-orient: vertical;
  -moz-box-align: stretch;
  display: box;
  box-orient: vertical;
  box-align: stretch;
  /* Modern browsers */
  display: flex;
  flex-direction: column;
  align-items: stretch;
}
.vbox > * {
  /* Old browsers */
  -webkit-box-flex: 0;
  -moz-box-flex: 0;
  box-flex: 0;
  /* Modern browsers */
  flex: none;
}
.hbox.reverse,
.vbox.reverse,
.reverse {
  /* Old browsers */
  -webkit-box-direction: reverse;
  -moz-box-direction: reverse;
  box-direction: reverse;
  /* Modern browsers */
  flex-direction: row-reverse;
}
.hbox.box-flex0,
.vbox.box-flex0,
.box-flex0 {
  /* Old browsers */
  -webkit-box-flex: 0;
  -moz-box-flex: 0;
  box-flex: 0;
  /* Modern browsers */
  flex: none;
  width: auto;
}
.hbox.box-flex1,
.vbox.box-flex1,
.box-flex1 {
  /* Old browsers */
  -webkit-box-flex: 1;
  -moz-box-flex: 1;
  box-flex: 1;
  /* Modern browsers */
  flex: 1;
}
.hbox.box-flex,
.vbox.box-flex,
.box-flex {
  /* Old browsers */
  /* Old browsers */
  -webkit-box-flex: 1;
  -moz-box-flex: 1;
  box-flex: 1;
  /* Modern browsers */
  flex: 1;
}
.hbox.box-flex2,
.vbox.box-flex2,
.box-flex2 {
  /* Old browsers */
  -webkit-box-flex: 2;
  -moz-box-flex: 2;
  box-flex: 2;
  /* Modern browsers */
  flex: 2;
}
.box-group1 {
  /*  Deprecated */
  -webkit-box-flex-group: 1;
  -moz-box-flex-group: 1;
  box-flex-group: 1;
}
.box-group2 {
  /* Deprecated */
  -webkit-box-flex-group: 2;
  -moz-box-flex-group: 2;
  box-flex-group: 2;
}
.hbox.start,
.vbox.start,
.start {
  /* Old browsers */
  -webkit-box-pack: start;
  -moz-box-pack: start;
  box-pack: start;
  /* Modern browsers */
  justify-content: flex-start;
}
.hbox.end,
.vbox.end,
.end {
  /* Old browsers */
  -webkit-box-pack: end;
  -moz-box-pack: end;
  box-pack: end;
  /* Modern browsers */
  justify-content: flex-end;
}
.hbox.center,
.vbox.center,
.center {
  /* Old browsers */
  -webkit-box-pack: center;
  -moz-box-pack: center;
  box-pack: center;
  /* Modern browsers */
  justify-content: center;
}
.hbox.baseline,
.vbox.baseline,
.baseline {
  /* Old browsers */
  -webkit-box-pack: baseline;
  -moz-box-pack: baseline;
  box-pack: baseline;
  /* Modern browsers */
  justify-content: baseline;
}
.hbox.stretch,
.vbox.stretch,
.stretch {
  /* Old browsers */
  -webkit-box-pack: stretch;
  -moz-box-pack: stretch;
  box-pack: stretch;
  /* Modern browsers */
  justify-content: stretch;
}
.hbox.align-start,
.vbox.align-start,
.align-start {
  /* Old browsers */
  -webkit-box-align: start;
  -moz-box-align: start;
  box-align: start;
  /* Modern browsers */
  align-items: flex-start;
}
.hbox.align-end,
.vbox.align-end,
.align-end {
  /* Old browsers */
  -webkit-box-align: end;
  -moz-box-align: end;
  box-align: end;
  /* Modern browsers */
  align-items: flex-end;
}
.hbox.align-center,
.vbox.align-center,
.align-center {
  /* Old browsers */
  -webkit-box-align: center;
  -moz-box-align: center;
  box-align: center;
  /* Modern browsers */
  align-items: center;
}
.hbox.align-baseline,
.vbox.align-baseline,
.align-baseline {
  /* Old browsers */
  -webkit-box-align: baseline;
  -moz-box-align: baseline;
  box-align: baseline;
  /* Modern browsers */
  align-items: baseline;
}
.hbox.align-stretch,
.vbox.align-stretch,
.align-stretch {
  /* Old browsers */
  -webkit-box-align: stretch;
  -moz-box-align: stretch;
  box-align: stretch;
  /* Modern browsers */
  align-items: stretch;
}
div.error {
  margin: 2em;
  text-align: center;
}
div.error > h1 {
  font-size: 500%;
  line-height: normal;
}
div.error > p {
  font-size: 200%;
  line-height: normal;
}
div.traceback-wrapper {
  text-align: left;
  max-width: 800px;
  margin: auto;
}
div.traceback-wrapper pre.traceback {
  max-height: 600px;
  overflow: auto;
}
/**
 * Primary styles
 *
 * Author: Jupyter Development Team
 */
body {
  background-color: #fff;
  /* This makes sure that the body covers the entire window and needs to
       be in a different element than the display: box in wrapper below */
  position: absolute;
  left: 0px;
  right: 0px;
  top: 0px;
  bottom: 0px;
  overflow: visible;
}
body > #header {
  /* Initially hidden to prevent FLOUC */
  display: none;
  background-color: #fff;
  /* Display over codemirror */
  position: relative;
  z-index: 100;
}
body > #header #header-container {
  display: flex;
  flex-direction: row;
  justify-content: space-between;
  padding: 5px;
  padding-bottom: 5px;
  padding-top: 5px;
  box-sizing: border-box;
  -moz-box-sizing: border-box;
  -webkit-box-sizing: border-box;
}
body > #header .header-bar {
  width: 100%;
  height: 1px;
  background: #e7e7e7;
  margin-bottom: -1px;
}
@media print {
  body > #header {
    display: none !important;
  }
}
#header-spacer {
  width: 100%;
  visibility: hidden;
}
@media print {
  #header-spacer {
    display: none;
  }
}
#ipython_notebook {
  padding-left: 0px;
  padding-top: 1px;
  padding-bottom: 1px;
}
[dir="rtl"] #ipython_notebook {
  margin-right: 10px;
  margin-left: 0;
}
[dir="rtl"] #ipython_notebook.pull-left {
  float: right !important;
  float: right;
}
.flex-spacer {
  flex: 1;
}
#noscript {
  width: auto;
  padding-top: 16px;
  padding-bottom: 16px;
  text-align: center;
  font-size: 22px;
  color: red;
  font-weight: bold;
}
#ipython_notebook img {
  height: 28px;
}
#site {
  width: 100%;
  display: none;
  box-sizing: border-box;
  -moz-box-sizing: border-box;
  -webkit-box-sizing: border-box;
  overflow: auto;
}
@media print {
  #site {
    height: auto !important;
  }
}
/* Smaller buttons */
.ui-button .ui-button-text {
  padding: 0.2em 0.8em;
  font-size: 77%;
}
input.ui-button {
  padding: 0.3em 0.9em;
}
span#kernel_logo_widget {
  margin: 0 10px;
}
span#login_widget {
  float: right;
}
[dir="rtl"] span#login_widget {
  float: left;
}
span#login_widget > .button,
#logout {
  color: #333;
  background-color: #fff;
  border-color: #ccc;
}
span#login_widget > .button:focus,
#logout:focus,
span#login_widget > .button.focus,
#logout.focus {
  color: #333;
  background-color: #e6e6e6;
  border-color: #8c8c8c;
}
span#login_widget > .button:hover,
#logout:hover {
  color: #333;
  background-color: #e6e6e6;
  border-color: #adadad;
}
span#login_widget > .button:active,
#logout:active,
span#login_widget > .button.active,
#logout.active,
.open > .dropdown-togglespan#login_widget > .button,
.open > .dropdown-toggle#logout {
  color: #333;
  background-color: #e6e6e6;
  border-color: #adadad;
}
span#login_widget > .button:active:hover,
#logout:active:hover,
span#login_widget > .button.active:hover,
#logout.active:hover,
.open > .dropdown-togglespan#login_widget > .button:hover,
.open > .dropdown-toggle#logout:hover,
span#login_widget > .button:active:focus,
#logout:active:focus,
span#login_widget > .button.active:focus,
#logout.active:focus,
.open > .dropdown-togglespan#login_widget > .button:focus,
.open > .dropdown-toggle#logout:focus,
span#login_widget > .button:active.focus,
#logout:active.focus,
span#login_widget > .button.active.focus,
#logout.active.focus,
.open > .dropdown-togglespan#login_widget > .button.focus,
.open > .dropdown-toggle#logout.focus {
  color: #333;
  background-color: #d4d4d4;
  border-color: #8c8c8c;
}
span#login_widget > .button:active,
#logout:active,
span#login_widget > .button.active,
#logout.active,
.open > .dropdown-togglespan#login_widget > .button,
.open > .dropdown-toggle#logout {
  background-image: none;
}
span#login_widget > .button.disabled:hover,
#logout.disabled:hover,
span#login_widget > .button[disabled]:hover,
#logout[disabled]:hover,
fieldset[disabled] span#login_widget > .button:hover,
fieldset[disabled] #logout:hover,
span#login_widget > .button.disabled:focus,
#logout.disabled:focus,
span#login_widget > .button[disabled]:focus,
#logout[disabled]:focus,
fieldset[disabled] span#login_widget > .button:focus,
fieldset[disabled] #logout:focus,
span#login_widget > .button.disabled.focus,
#logout.disabled.focus,
span#login_widget > .button[disabled].focus,
#logout[disabled].focus,
fieldset[disabled] span#login_widget > .button.focus,
fieldset[disabled] #logout.focus {
  background-color: #fff;
  border-color: #ccc;
}
span#login_widget > .button .badge,
#logout .badge {
  color: #fff;
  background-color: #333;
}
.nav-header {
  text-transform: none;
}
#header > span {
  margin-top: 10px;
}
.modal_stretch .modal-dialog {
  /* Old browsers */
  display: -webkit-box;
  -webkit-box-orient: vertical;
  -webkit-box-align: stretch;
  display: -moz-box;
  -moz-box-orient: vertical;
  -moz-box-align: stretch;
  display: box;
  box-orient: vertical;
  box-align: stretch;
  /* Modern browsers */
  display: flex;
  flex-direction: column;
  align-items: stretch;
  min-height: 80vh;
}
.modal_stretch .modal-dialog .modal-body {
  max-height: calc(100vh - 200px);
  overflow: auto;
  flex: 1;
}
.modal-header {
  cursor: move;
}
@media (min-width: 768px) {
  .modal .modal-dialog {
    width: 700px;
  }
}
@media (min-width: 768px) {
  select.form-control {
    margin-left: 12px;
    margin-right: 12px;
  }
}
/*!
*
* IPython auth
*
*/
.center-nav {
  display: inline-block;
  margin-bottom: -4px;
}
[dir="rtl"] .center-nav form.pull-left {
  float: right !important;
  float: right;
}
[dir="rtl"] .center-nav .navbar-text {
  float: right;
}
[dir="rtl"] .navbar-inner {
  text-align: right;
}
[dir="rtl"] div.text-left {
  text-align: right;
}
/*!
*
* IPython tree view
*
*/
/* We need an invisible input field on top of the sentense*/
/* "Drag file onto the list ..." */
.alternate_upload {
  background-color: none;
  display: inline;
}
.alternate_upload.form {
  padding: 0;
  margin: 0;
}
.alternate_upload input.fileinput {
  position: absolute;
  display: block;
  width: 100%;
  height: 100%;
  overflow: hidden;
  cursor: pointer;
  opacity: 0;
  z-index: 2;
}
.alternate_upload .btn-xs > input.fileinput {
  margin: -1px -5px;
}
.alternate_upload .btn-upload {
  position: relative;
  height: 22px;
}
::-webkit-file-upload-button {
  cursor: pointer;
}
/**
 * Primary styles
 *
 * Author: Jupyter Development Team
 */
ul#tabs {
  margin-bottom: 4px;
}
ul#tabs a {
  padding-top: 6px;
  padding-bottom: 4px;
}
[dir="rtl"] ul#tabs.nav-tabs > li {
  float: right;
}
[dir="rtl"] ul#tabs.nav.nav-tabs {
  padding-right: 0;
}
ul.breadcrumb a:focus,
ul.breadcrumb a:hover {
  text-decoration: none;
}
ul.breadcrumb i.icon-home {
  font-size: 16px;
  margin-right: 4px;
}
ul.breadcrumb span {
  color: #5e5e5e;
}
.list_toolbar {
  padding: 4px 0 4px 0;
  vertical-align: middle;
}
.list_toolbar .tree-buttons {
  padding-top: 1px;
}
[dir="rtl"] .list_toolbar .tree-buttons .pull-right {
  float: left !important;
  float: left;
}
[dir="rtl"] .list_toolbar .col-sm-4,
[dir="rtl"] .list_toolbar .col-sm-8 {
  float: right;
}
.dynamic-buttons {
  padding-top: 3px;
  display: inline-block;
}
.list_toolbar [class*="span"] {
  min-height: 24px;
}
.list_header {
  font-weight: bold;
  background-color: #EEE;
}
.list_placeholder {
  font-weight: bold;
  padding-top: 4px;
  padding-bottom: 4px;
  padding-left: 7px;
  padding-right: 7px;
}
.list_container {
  margin-top: 4px;
  margin-bottom: 20px;
  border: 1px solid #ddd;
  border-radius: 2px;
}
.list_container > div {
  border-bottom: 1px solid #ddd;
}
.list_container > div:hover .list-item {
  background-color: red;
}
.list_container > div:last-child {
  border: none;
}
.list_item:hover .list_item {
  background-color: #ddd;
}
.list_item a {
  text-decoration: none;
}
.list_item:hover {
  background-color: #fafafa;
}
.list_header > div,
.list_item > div {
  padding-top: 4px;
  padding-bottom: 4px;
  padding-left: 7px;
  padding-right: 7px;
  line-height: 22px;
}
.list_header > div input,
.list_item > div input {
  margin-right: 7px;
  margin-left: 14px;
  vertical-align: text-bottom;
  line-height: 22px;
  position: relative;
  top: -1px;
}
.list_header > div .item_link,
.list_item > div .item_link {
  margin-left: -1px;
  vertical-align: baseline;
  line-height: 22px;
}
[dir="rtl"] .list_item > div input {
  margin-right: 0;
}
.new-file input[type=checkbox] {
  visibility: hidden;
}
.item_name {
  line-height: 22px;
  height: 24px;
}
.item_icon {
  font-size: 14px;
  color: #5e5e5e;
  margin-right: 7px;
  margin-left: 7px;
  line-height: 22px;
  vertical-align: baseline;
}
.item_modified {
  margin-right: 7px;
  margin-left: 7px;
}
[dir="rtl"] .item_modified.pull-right {
  float: left !important;
  float: left;
}
.item_buttons {
  line-height: 1em;
  margin-left: -5px;
}
.item_buttons .btn,
.item_buttons .btn-group,
.item_buttons .input-group {
  float: left;
}
.item_buttons > .btn,
.item_buttons > .btn-group,
.item_buttons > .input-group {
  margin-left: 5px;
}
.item_buttons .btn {
  min-width: 13ex;
}
.item_buttons .running-indicator {
  padding-top: 4px;
  color: #5cb85c;
}
.item_buttons .kernel-name {
  padding-top: 4px;
  color: #5bc0de;
  margin-right: 7px;
  float: left;
}
[dir="rtl"] .item_buttons.pull-right {
  float: left !important;
  float: left;
}
[dir="rtl"] .item_buttons .kernel-name {
  margin-left: 7px;
  float: right;
}
.toolbar_info {
  height: 24px;
  line-height: 24px;
}
.list_item input:not([type=checkbox]) {
  padding-top: 3px;
  padding-bottom: 3px;
  height: 22px;
  line-height: 14px;
  margin: 0px;
}
.highlight_text {
  color: blue;
}
#project_name {
  display: inline-block;
  padding-left: 7px;
  margin-left: -2px;
}
#project_name > .breadcrumb {
  padding: 0px;
  margin-bottom: 0px;
  background-color: transparent;
  font-weight: bold;
}
.sort_button {
  display: inline-block;
  padding-left: 7px;
}
[dir="rtl"] .sort_button.pull-right {
  float: left !important;
  float: left;
}
#tree-selector {
  padding-right: 0px;
}
#button-select-all {
  min-width: 50px;
}
[dir="rtl"] #button-select-all.btn {
  float: right ;
}
#select-all {
  margin-left: 7px;
  margin-right: 2px;
  margin-top: 2px;
  height: 16px;
}
[dir="rtl"] #select-all.pull-left {
  float: right !important;
  float: right;
}
.menu_icon {
  margin-right: 2px;
}
.tab-content .row {
  margin-left: 0px;
  margin-right: 0px;
}
.folder_icon:before {
  display: inline-block;
  font: normal normal normal 14px/1 FontAwesome;
  font-size: inherit;
  text-rendering: auto;
  -webkit-font-smoothing: antialiased;
  -moz-osx-font-smoothing: grayscale;
  content: "\f114";
}
.folder_icon:before.fa-pull-left {
  margin-right: .3em;
}
.folder_icon:before.fa-pull-right {
  margin-left: .3em;
}
.folder_icon:before.pull-left {
  margin-right: .3em;
}
.folder_icon:before.pull-right {
  margin-left: .3em;
}
.notebook_icon:before {
  display: inline-block;
  font: normal normal normal 14px/1 FontAwesome;
  font-size: inherit;
  text-rendering: auto;
  -webkit-font-smoothing: antialiased;
  -moz-osx-font-smoothing: grayscale;
  content: "\f02d";
  position: relative;
  top: -1px;
}
.notebook_icon:before.fa-pull-left {
  margin-right: .3em;
}
.notebook_icon:before.fa-pull-right {
  margin-left: .3em;
}
.notebook_icon:before.pull-left {
  margin-right: .3em;
}
.notebook_icon:before.pull-right {
  margin-left: .3em;
}
.running_notebook_icon:before {
  display: inline-block;
  font: normal normal normal 14px/1 FontAwesome;
  font-size: inherit;
  text-rendering: auto;
  -webkit-font-smoothing: antialiased;
  -moz-osx-font-smoothing: grayscale;
  content: "\f02d";
  position: relative;
  top: -1px;
  color: #5cb85c;
}
.running_notebook_icon:before.fa-pull-left {
  margin-right: .3em;
}
.running_notebook_icon:before.fa-pull-right {
  margin-left: .3em;
}
.running_notebook_icon:before.pull-left {
  margin-right: .3em;
}
.running_notebook_icon:before.pull-right {
  margin-left: .3em;
}
.file_icon:before {
  display: inline-block;
  font: normal normal normal 14px/1 FontAwesome;
  font-size: inherit;
  text-rendering: auto;
  -webkit-font-smoothing: antialiased;
  -moz-osx-font-smoothing: grayscale;
  content: "\f016";
  position: relative;
  top: -2px;
}
.file_icon:before.fa-pull-left {
  margin-right: .3em;
}
.file_icon:before.fa-pull-right {
  margin-left: .3em;
}
.file_icon:before.pull-left {
  margin-right: .3em;
}
.file_icon:before.pull-right {
  margin-left: .3em;
}
#notebook_toolbar .pull-right {
  padding-top: 0px;
  margin-right: -1px;
}
ul#new-menu {
  left: auto;
  right: 0;
}
#new-menu .dropdown-header {
  font-size: 10px;
  border-bottom: 1px solid #e5e5e5;
  padding: 0 0 3px;
  margin: -3px 20px 0;
}
.kernel-menu-icon {
  padding-right: 12px;
  width: 24px;
  content: "\f096";
}
.kernel-menu-icon:before {
  content: "\f096";
}
.kernel-menu-icon-current:before {
  content: "\f00c";
}
#tab_content {
  padding-top: 20px;
}
#running .panel-group .panel {
  margin-top: 3px;
  margin-bottom: 1em;
}
#running .panel-group .panel .panel-heading {
  background-color: #EEE;
  padding-top: 4px;
  padding-bottom: 4px;
  padding-left: 7px;
  padding-right: 7px;
  line-height: 22px;
}
#running .panel-group .panel .panel-heading a:focus,
#running .panel-group .panel .panel-heading a:hover {
  text-decoration: none;
}
#running .panel-group .panel .panel-body {
  padding: 0px;
}
#running .panel-group .panel .panel-body .list_container {
  margin-top: 0px;
  margin-bottom: 0px;
  border: 0px;
  border-radius: 0px;
}
#running .panel-group .panel .panel-body .list_container .list_item {
  border-bottom: 1px solid #ddd;
}
#running .panel-group .panel .panel-body .list_container .list_item:last-child {
  border-bottom: 0px;
}
.delete-button {
  display: none;
}
.duplicate-button {
  display: none;
}
.rename-button {
  display: none;
}
.move-button {
  display: none;
}
.download-button {
  display: none;
}
.shutdown-button {
  display: none;
}
.dynamic-instructions {
  display: inline-block;
  padding-top: 4px;
}
/*!
*
* IPython text editor webapp
*
*/
.selected-keymap i.fa {
  padding: 0px 5px;
}
.selected-keymap i.fa:before {
  content: "\f00c";
}
#mode-menu {
  overflow: auto;
  max-height: 20em;
}
.edit_app #header {
  -webkit-box-shadow: 0px 0px 12px 1px rgba(87, 87, 87, 0.2);
  box-shadow: 0px 0px 12px 1px rgba(87, 87, 87, 0.2);
}
.edit_app #menubar .navbar {
  /* Use a negative 1 bottom margin, so the border overlaps the border of the
    header */
  margin-bottom: -1px;
}
.dirty-indicator {
  display: inline-block;
  font: normal normal normal 14px/1 FontAwesome;
  font-size: inherit;
  text-rendering: auto;
  -webkit-font-smoothing: antialiased;
  -moz-osx-font-smoothing: grayscale;
  width: 20px;
}
.dirty-indicator.fa-pull-left {
  margin-right: .3em;
}
.dirty-indicator.fa-pull-right {
  margin-left: .3em;
}
.dirty-indicator.pull-left {
  margin-right: .3em;
}
.dirty-indicator.pull-right {
  margin-left: .3em;
}
.dirty-indicator-dirty {
  display: inline-block;
  font: normal normal normal 14px/1 FontAwesome;
  font-size: inherit;
  text-rendering: auto;
  -webkit-font-smoothing: antialiased;
  -moz-osx-font-smoothing: grayscale;
  width: 20px;
}
.dirty-indicator-dirty.fa-pull-left {
  margin-right: .3em;
}
.dirty-indicator-dirty.fa-pull-right {
  margin-left: .3em;
}
.dirty-indicator-dirty.pull-left {
  margin-right: .3em;
}
.dirty-indicator-dirty.pull-right {
  margin-left: .3em;
}
.dirty-indicator-clean {
  display: inline-block;
  font: normal normal normal 14px/1 FontAwesome;
  font-size: inherit;
  text-rendering: auto;
  -webkit-font-smoothing: antialiased;
  -moz-osx-font-smoothing: grayscale;
  width: 20px;
}
.dirty-indicator-clean.fa-pull-left {
  margin-right: .3em;
}
.dirty-indicator-clean.fa-pull-right {
  margin-left: .3em;
}
.dirty-indicator-clean.pull-left {
  margin-right: .3em;
}
.dirty-indicator-clean.pull-right {
  margin-left: .3em;
}
.dirty-indicator-clean:before {
  display: inline-block;
  font: normal normal normal 14px/1 FontAwesome;
  font-size: inherit;
  text-rendering: auto;
  -webkit-font-smoothing: antialiased;
  -moz-osx-font-smoothing: grayscale;
  content: "\f00c";
}
.dirty-indicator-clean:before.fa-pull-left {
  margin-right: .3em;
}
.dirty-indicator-clean:before.fa-pull-right {
  margin-left: .3em;
}
.dirty-indicator-clean:before.pull-left {
  margin-right: .3em;
}
.dirty-indicator-clean:before.pull-right {
  margin-left: .3em;
}
#filename {
  font-size: 16pt;
  display: table;
  padding: 0px 5px;
}
#current-mode {
  padding-left: 5px;
  padding-right: 5px;
}
#texteditor-backdrop {
  padding-top: 20px;
  padding-bottom: 20px;
}
@media not print {
  #texteditor-backdrop {
    background-color: #EEE;
  }
}
@media print {
  #texteditor-backdrop #texteditor-container .CodeMirror-gutter,
  #texteditor-backdrop #texteditor-container .CodeMirror-gutters {
    background-color: #fff;
  }
}
@media not print {
  #texteditor-backdrop #texteditor-container .CodeMirror-gutter,
  #texteditor-backdrop #texteditor-container .CodeMirror-gutters {
    background-color: #fff;
  }
}
@media not print {
  #texteditor-backdrop #texteditor-container {
    padding: 0px;
    background-color: #fff;
    -webkit-box-shadow: 0px 0px 12px 1px rgba(87, 87, 87, 0.2);
    box-shadow: 0px 0px 12px 1px rgba(87, 87, 87, 0.2);
  }
}
.CodeMirror-dialog {
  background-color: #fff;
}
/*!
*
* IPython notebook
*
*/
/* CSS font colors for translated ANSI escape sequences */
/* The color values are a mix of
   http://www.xcolors.net/dl/baskerville-ivorylight and
   http://www.xcolors.net/dl/euphrasia */
.ansi-black-fg {
  color: #3E424D;
}
.ansi-black-bg {
  background-color: #3E424D;
}
.ansi-black-intense-fg {
  color: #282C36;
}
.ansi-black-intense-bg {
  background-color: #282C36;
}
.ansi-red-fg {
  color: #E75C58;
}
.ansi-red-bg {
  background-color: #E75C58;
}
.ansi-red-intense-fg {
  color: #B22B31;
}
.ansi-red-intense-bg {
  background-color: #B22B31;
}
.ansi-green-fg {
  color: #00A250;
}
.ansi-green-bg {
  background-color: #00A250;
}
.ansi-green-intense-fg {
  color: #007427;
}
.ansi-green-intense-bg {
  background-color: #007427;
}
.ansi-yellow-fg {
  color: #DDB62B;
}
.ansi-yellow-bg {
  background-color: #DDB62B;
}
.ansi-yellow-intense-fg {
  color: #B27D12;
}
.ansi-yellow-intense-bg {
  background-color: #B27D12;
}
.ansi-blue-fg {
  color: #208FFB;
}
.ansi-blue-bg {
  background-color: #208FFB;
}
.ansi-blue-intense-fg {
  color: #0065CA;
}
.ansi-blue-intense-bg {
  background-color: #0065CA;
}
.ansi-magenta-fg {
  color: #D160C4;
}
.ansi-magenta-bg {
  background-color: #D160C4;
}
.ansi-magenta-intense-fg {
  color: #A03196;
}
.ansi-magenta-intense-bg {
  background-color: #A03196;
}
.ansi-cyan-fg {
  color: #60C6C8;
}
.ansi-cyan-bg {
  background-color: #60C6C8;
}
.ansi-cyan-intense-fg {
  color: #258F8F;
}
.ansi-cyan-intense-bg {
  background-color: #258F8F;
}
.ansi-white-fg {
  color: #C5C1B4;
}
.ansi-white-bg {
  background-color: #C5C1B4;
}
.ansi-white-intense-fg {
  color: #A1A6B2;
}
.ansi-white-intense-bg {
  background-color: #A1A6B2;
}
.ansi-default-inverse-fg {
  color: #FFFFFF;
}
.ansi-default-inverse-bg {
  background-color: #000000;
}
.ansi-bold {
  font-weight: bold;
}
.ansi-underline {
  text-decoration: underline;
}
/* The following styles are deprecated an will be removed in a future version */
.ansibold {
  font-weight: bold;
}
.ansi-inverse {
  outline: 0.5px dotted;
}
/* use dark versions for foreground, to improve visibility */
.ansiblack {
  color: black;
}
.ansired {
  color: darkred;
}
.ansigreen {
  color: darkgreen;
}
.ansiyellow {
  color: #c4a000;
}
.ansiblue {
  color: darkblue;
}
.ansipurple {
  color: darkviolet;
}
.ansicyan {
  color: steelblue;
}
.ansigray {
  color: gray;
}
/* and light for background, for the same reason */
.ansibgblack {
  background-color: black;
}
.ansibgred {
  background-color: red;
}
.ansibggreen {
  background-color: green;
}
.ansibgyellow {
  background-color: yellow;
}
.ansibgblue {
  background-color: blue;
}
.ansibgpurple {
  background-color: magenta;
}
.ansibgcyan {
  background-color: cyan;
}
.ansibggray {
  background-color: gray;
}
div.cell {
  /* Old browsers */
  display: -webkit-box;
  -webkit-box-orient: vertical;
  -webkit-box-align: stretch;
  display: -moz-box;
  -moz-box-orient: vertical;
  -moz-box-align: stretch;
  display: box;
  box-orient: vertical;
  box-align: stretch;
  /* Modern browsers */
  display: flex;
  flex-direction: column;
  align-items: stretch;
  border-radius: 2px;
  box-sizing: border-box;
  -moz-box-sizing: border-box;
  -webkit-box-sizing: border-box;
  border-width: 1px;
  border-style: solid;
  border-color: transparent;
  width: 100%;
  padding: 5px;
  /* This acts as a spacer between cells, that is outside the border */
  margin: 0px;
  outline: none;
  position: relative;
  overflow: visible;
}
div.cell:before {
  position: absolute;
  display: block;
  top: -1px;
  left: -1px;
  width: 5px;
  height: calc(100% +  2px);
  content: '';
  background: transparent;
}
div.cell.jupyter-soft-selected {
  border-left-color: #E3F2FD;
  border-left-width: 1px;
  padding-left: 5px;
  border-right-color: #E3F2FD;
  border-right-width: 1px;
  background: #E3F2FD;
}
@media print {
  div.cell.jupyter-soft-selected {
    border-color: transparent;
  }
}
div.cell.selected,
div.cell.selected.jupyter-soft-selected {
  border-color: #ababab;
}
div.cell.selected:before,
div.cell.selected.jupyter-soft-selected:before {
  position: absolute;
  display: block;
  top: -1px;
  left: -1px;
  width: 5px;
  height: calc(100% +  2px);
  content: '';
  background: #42A5F5;
}
@media print {
  div.cell.selected,
  div.cell.selected.jupyter-soft-selected {
    border-color: transparent;
  }
}
.edit_mode div.cell.selected {
  border-color: #66BB6A;
}
.edit_mode div.cell.selected:before {
  position: absolute;
  display: block;
  top: -1px;
  left: -1px;
  width: 5px;
  height: calc(100% +  2px);
  content: '';
  background: #66BB6A;
}
@media print {
  .edit_mode div.cell.selected {
    border-color: transparent;
  }
}
.prompt {
  /* This needs to be wide enough for 3 digit prompt numbers: In[100]: */
  min-width: 14ex;
  /* This padding is tuned to match the padding on the CodeMirror editor. */
  padding: 0.4em;
  margin: 0px;
  font-family: monospace;
  text-align: right;
  /* This has to match that of the the CodeMirror class line-height below */
  line-height: 1.21429em;
  /* Don't highlight prompt number selection */
  -webkit-touch-callout: none;
  -webkit-user-select: none;
  -khtml-user-select: none;
  -moz-user-select: none;
  -ms-user-select: none;
  user-select: none;
  /* Use default cursor */
  cursor: default;
}
@media (max-width: 540px) {
  .prompt {
    text-align: left;
  }
}
div.inner_cell {
  min-width: 0;
  /* Old browsers */
  display: -webkit-box;
  -webkit-box-orient: vertical;
  -webkit-box-align: stretch;
  display: -moz-box;
  -moz-box-orient: vertical;
  -moz-box-align: stretch;
  display: box;
  box-orient: vertical;
  box-align: stretch;
  /* Modern browsers */
  display: flex;
  flex-direction: column;
  align-items: stretch;
  /* Old browsers */
  -webkit-box-flex: 1;
  -moz-box-flex: 1;
  box-flex: 1;
  /* Modern browsers */
  flex: 1;
}
/* input_area and input_prompt must match in top border and margin for alignment */
div.input_area {
  border: 1px solid #cfcfcf;
  border-radius: 2px;
  background: #f7f7f7;
  line-height: 1.21429em;
}
/* This is needed so that empty prompt areas can collapse to zero height when there
   is no content in the output_subarea and the prompt. The main purpose of this is
   to make sure that empty JavaScript output_subareas have no height. */
div.prompt:empty {
  padding-top: 0;
  padding-bottom: 0;
}
div.unrecognized_cell {
  padding: 5px 5px 5px 0px;
  /* Old browsers */
  display: -webkit-box;
  -webkit-box-orient: horizontal;
  -webkit-box-align: stretch;
  display: -moz-box;
  -moz-box-orient: horizontal;
  -moz-box-align: stretch;
  display: box;
  box-orient: horizontal;
  box-align: stretch;
  /* Modern browsers */
  display: flex;
  flex-direction: row;
  align-items: stretch;
}
div.unrecognized_cell .inner_cell {
  border-radius: 2px;
  padding: 5px;
  font-weight: bold;
  color: red;
  border: 1px solid #cfcfcf;
  background: #eaeaea;
}
div.unrecognized_cell .inner_cell a {
  color: inherit;
  text-decoration: none;
}
div.unrecognized_cell .inner_cell a:hover {
  color: inherit;
  text-decoration: none;
}
@media (max-width: 540px) {
  div.unrecognized_cell > div.prompt {
    display: none;
  }
}
div.code_cell {
  /* avoid page breaking on code cells when printing */
}
@media print {
  div.code_cell {
    page-break-inside: avoid;
  }
}
/* any special styling for code cells that are currently running goes here */
div.input {
  page-break-inside: avoid;
  /* Old browsers */
  display: -webkit-box;
  -webkit-box-orient: horizontal;
  -webkit-box-align: stretch;
  display: -moz-box;
  -moz-box-orient: horizontal;
  -moz-box-align: stretch;
  display: box;
  box-orient: horizontal;
  box-align: stretch;
  /* Modern browsers */
  display: flex;
  flex-direction: row;
  align-items: stretch;
}
@media (max-width: 540px) {
  div.input {
    /* Old browsers */
    display: -webkit-box;
    -webkit-box-orient: vertical;
    -webkit-box-align: stretch;
    display: -moz-box;
    -moz-box-orient: vertical;
    -moz-box-align: stretch;
    display: box;
    box-orient: vertical;
    box-align: stretch;
    /* Modern browsers */
    display: flex;
    flex-direction: column;
    align-items: stretch;
  }
}
/* input_area and input_prompt must match in top border and margin for alignment */
div.input_prompt {
  color: #303F9F;
  border-top: 1px solid transparent;
}
div.input_area > div.highlight {
  margin: 0.4em;
  border: none;
  padding: 0px;
  background-color: transparent;
}
div.input_area > div.highlight > pre {
  margin: 0px;
  border: none;
  padding: 0px;
  background-color: transparent;
}
/* The following gets added to the <head> if it is detected that the user has a
 * monospace font with inconsistent normal/bold/italic height.  See
 * notebookmain.js.  Such fonts will have keywords vertically offset with
 * respect to the rest of the text.  The user should select a better font.
 * See: https://github.com/ipython/ipython/issues/1503
 *
 * .CodeMirror span {
 *      vertical-align: bottom;
 * }
 */
.CodeMirror {
  line-height: 1.21429em;
  /* Changed from 1em to our global default */
  font-size: 14px;
  height: auto;
  /* Changed to auto to autogrow */
  background: none;
  /* Changed from white to allow our bg to show through */
}
.CodeMirror-scroll {
  /*  The CodeMirror docs are a bit fuzzy on if overflow-y should be hidden or visible.*/
  /*  We have found that if it is visible, vertical scrollbars appear with font size changes.*/
  overflow-y: hidden;
  overflow-x: auto;
}
.CodeMirror-lines {
  /* In CM2, this used to be 0.4em, but in CM3 it went to 4px. We need the em value because */
  /* we have set a different line-height and want this to scale with that. */
  /* Note that this should set vertical padding only, since CodeMirror assumes
       that horizontal padding will be set on CodeMirror pre */
  padding: 0.4em 0;
}
.CodeMirror-linenumber {
  padding: 0 8px 0 4px;
}
.CodeMirror-gutters {
  border-bottom-left-radius: 2px;
  border-top-left-radius: 2px;
}
.CodeMirror pre {
  /* In CM3 this went to 4px from 0 in CM2. This sets horizontal padding only,
    use .CodeMirror-lines for vertical */
  padding: 0 0.4em;
  border: 0;
  border-radius: 0;
}
.CodeMirror-cursor {
  border-left: 1.4px solid black;
}
@media screen and (min-width: 2138px) and (max-width: 4319px) {
  .CodeMirror-cursor {
    border-left: 2px solid black;
  }
}
@media screen and (min-width: 4320px) {
  .CodeMirror-cursor {
    border-left: 4px solid black;
  }
}
/*

Original style from softwaremaniacs.org (c) Ivan Sagalaev <Maniac@SoftwareManiacs.Org>
Adapted from GitHub theme

*/
.highlight-base {
  color: #000;
}
.highlight-variable {
  color: #000;
}
.highlight-variable-2 {
  color: #1a1a1a;
}
.highlight-variable-3 {
  color: #333333;
}
.highlight-string {
  color: #BA2121;
}
.highlight-comment {
  color: #408080;
  font-style: italic;
}
.highlight-number {
  color: #080;
}
.highlight-atom {
  color: #88F;
}
.highlight-keyword {
  color: #008000;
  font-weight: bold;
}
.highlight-builtin {
  color: #008000;
}
.highlight-error {
  color: #f00;
}
.highlight-operator {
  color: #AA22FF;
  font-weight: bold;
}
.highlight-meta {
  color: #AA22FF;
}
/* previously not defined, copying from default codemirror */
.highlight-def {
  color: #00f;
}
.highlight-string-2 {
  color: #f50;
}
.highlight-qualifier {
  color: #555;
}
.highlight-bracket {
  color: #997;
}
.highlight-tag {
  color: #170;
}
.highlight-attribute {
  color: #00c;
}
.highlight-header {
  color: blue;
}
.highlight-quote {
  color: #090;
}
.highlight-link {
  color: #00c;
}
/* apply the same style to codemirror */
.cm-s-ipython span.cm-keyword {
  color: #008000;
  font-weight: bold;
}
.cm-s-ipython span.cm-atom {
  color: #88F;
}
.cm-s-ipython span.cm-number {
  color: #080;
}
.cm-s-ipython span.cm-def {
  color: #00f;
}
.cm-s-ipython span.cm-variable {
  color: #000;
}
.cm-s-ipython span.cm-operator {
  color: #AA22FF;
  font-weight: bold;
}
.cm-s-ipython span.cm-variable-2 {
  color: #1a1a1a;
}
.cm-s-ipython span.cm-variable-3 {
  color: #333333;
}
.cm-s-ipython span.cm-comment {
  color: #408080;
  font-style: italic;
}
.cm-s-ipython span.cm-string {
  color: #BA2121;
}
.cm-s-ipython span.cm-string-2 {
  color: #f50;
}
.cm-s-ipython span.cm-meta {
  color: #AA22FF;
}
.cm-s-ipython span.cm-qualifier {
  color: #555;
}
.cm-s-ipython span.cm-builtin {
  color: #008000;
}
.cm-s-ipython span.cm-bracket {
  color: #997;
}
.cm-s-ipython span.cm-tag {
  color: #170;
}
.cm-s-ipython span.cm-attribute {
  color: #00c;
}
.cm-s-ipython span.cm-header {
  color: blue;
}
.cm-s-ipython span.cm-quote {
  color: #090;
}
.cm-s-ipython span.cm-link {
  color: #00c;
}
.cm-s-ipython span.cm-error {
  color: #f00;
}
.cm-s-ipython span.cm-tab {
  background: url(data:image/png;base64,iVBORw0KGgoAAAANSUhEUgAAADAAAAAMCAYAAAAkuj5RAAAAAXNSR0IArs4c6QAAAGFJREFUSMft1LsRQFAQheHPowAKoACx3IgEKtaEHujDjORSgWTH/ZOdnZOcM/sgk/kFFWY0qV8foQwS4MKBCS3qR6ixBJvElOobYAtivseIE120FaowJPN75GMu8j/LfMwNjh4HUpwg4LUAAAAASUVORK5CYII=);
  background-position: right;
  background-repeat: no-repeat;
}
div.output_wrapper {
  /* this position must be relative to enable descendents to be absolute within it */
  position: relative;
  /* Old browsers */
  display: -webkit-box;
  -webkit-box-orient: vertical;
  -webkit-box-align: stretch;
  display: -moz-box;
  -moz-box-orient: vertical;
  -moz-box-align: stretch;
  display: box;
  box-orient: vertical;
  box-align: stretch;
  /* Modern browsers */
  display: flex;
  flex-direction: column;
  align-items: stretch;
  z-index: 1;
}
/* class for the output area when it should be height-limited */
div.output_scroll {
  /* ideally, this would be max-height, but FF barfs all over that */
  height: 24em;
  /* FF needs this *and the wrapper* to specify full width, or it will shrinkwrap */
  width: 100%;
  overflow: auto;
  border-radius: 2px;
  -webkit-box-shadow: inset 0 2px 8px rgba(0, 0, 0, 0.8);
  box-shadow: inset 0 2px 8px rgba(0, 0, 0, 0.8);
  display: block;
}
/* output div while it is collapsed */
div.output_collapsed {
  margin: 0px;
  padding: 0px;
  /* Old browsers */
  display: -webkit-box;
  -webkit-box-orient: vertical;
  -webkit-box-align: stretch;
  display: -moz-box;
  -moz-box-orient: vertical;
  -moz-box-align: stretch;
  display: box;
  box-orient: vertical;
  box-align: stretch;
  /* Modern browsers */
  display: flex;
  flex-direction: column;
  align-items: stretch;
}
div.out_prompt_overlay {
  height: 100%;
  padding: 0px 0.4em;
  position: absolute;
  border-radius: 2px;
}
div.out_prompt_overlay:hover {
  /* use inner shadow to get border that is computed the same on WebKit/FF */
  -webkit-box-shadow: inset 0 0 1px #000;
  box-shadow: inset 0 0 1px #000;
  background: rgba(240, 240, 240, 0.5);
}
div.output_prompt {
  color: #D84315;
}
/* This class is the outer container of all output sections. */
div.output_area {
  padding: 0px;
  page-break-inside: avoid;
  /* Old browsers */
  display: -webkit-box;
  -webkit-box-orient: horizontal;
  -webkit-box-align: stretch;
  display: -moz-box;
  -moz-box-orient: horizontal;
  -moz-box-align: stretch;
  display: box;
  box-orient: horizontal;
  box-align: stretch;
  /* Modern browsers */
  display: flex;
  flex-direction: row;
  align-items: stretch;
}
div.output_area .MathJax_Display {
  text-align: left !important;
}
div.output_area .rendered_html table {
  margin-left: 0;
  margin-right: 0;
}
div.output_area .rendered_html img {
  margin-left: 0;
  margin-right: 0;
}
div.output_area img,
div.output_area svg {
  max-width: 100%;
  height: auto;
}
div.output_area img.unconfined,
div.output_area svg.unconfined {
  max-width: none;
}
div.output_area .mglyph > img {
  max-width: none;
}
/* This is needed to protect the pre formating from global settings such
   as that of bootstrap */
.output {
  /* Old browsers */
  display: -webkit-box;
  -webkit-box-orient: vertical;
  -webkit-box-align: stretch;
  display: -moz-box;
  -moz-box-orient: vertical;
  -moz-box-align: stretch;
  display: box;
  box-orient: vertical;
  box-align: stretch;
  /* Modern browsers */
  display: flex;
  flex-direction: column;
  align-items: stretch;
}
@media (max-width: 540px) {
  div.output_area {
    /* Old browsers */
    display: -webkit-box;
    -webkit-box-orient: vertical;
    -webkit-box-align: stretch;
    display: -moz-box;
    -moz-box-orient: vertical;
    -moz-box-align: stretch;
    display: box;
    box-orient: vertical;
    box-align: stretch;
    /* Modern browsers */
    display: flex;
    flex-direction: column;
    align-items: stretch;
  }
}
div.output_area pre {
  margin: 0;
  padding: 1px 0 1px 0;
  border: 0;
  vertical-align: baseline;
  color: black;
  background-color: transparent;
  border-radius: 0;
}
/* This class is for the output subarea inside the output_area and after
   the prompt div. */
div.output_subarea {
  overflow-x: auto;
  padding: 0.4em;
  /* Old browsers */
  -webkit-box-flex: 1;
  -moz-box-flex: 1;
  box-flex: 1;
  /* Modern browsers */
  flex: 1;
  max-width: calc(100% - 14ex);
}
div.output_scroll div.output_subarea {
  overflow-x: visible;
}
/* The rest of the output_* classes are for special styling of the different
   output types */
/* all text output has this class: */
div.output_text {
  text-align: left;
  color: #000;
  /* This has to match that of the the CodeMirror class line-height below */
  line-height: 1.21429em;
}
/* stdout/stderr are 'text' as well as 'stream', but execute_result/error are *not* streams */
div.output_stderr {
  background: #fdd;
  /* very light red background for stderr */
}
div.output_latex {
  text-align: left;
}
/* Empty output_javascript divs should have no height */
div.output_javascript:empty {
  padding: 0;
}
.js-error {
  color: darkred;
}
/* raw_input styles */
div.raw_input_container {
  line-height: 1.21429em;
  padding-top: 5px;
}
pre.raw_input_prompt {
  /* nothing needed here. */
}
input.raw_input {
  font-family: monospace;
  font-size: inherit;
  color: inherit;
  width: auto;
  /* make sure input baseline aligns with prompt */
  vertical-align: baseline;
  /* padding + margin = 0.5em between prompt and cursor */
  padding: 0em 0.25em;
  margin: 0em 0.25em;
}
input.raw_input:focus {
  box-shadow: none;
}
p.p-space {
  margin-bottom: 10px;
}
div.output_unrecognized {
  padding: 5px;
  font-weight: bold;
  color: red;
}
div.output_unrecognized a {
  color: inherit;
  text-decoration: none;
}
div.output_unrecognized a:hover {
  color: inherit;
  text-decoration: none;
}
.rendered_html {
  color: #000;
  /* any extras will just be numbers: */
}
.rendered_html em {
  font-style: italic;
}
.rendered_html strong {
  font-weight: bold;
}
.rendered_html u {
  text-decoration: underline;
}
.rendered_html :link {
  text-decoration: underline;
}
.rendered_html :visited {
  text-decoration: underline;
}
.rendered_html h1 {
  font-size: 185.7%;
  margin: 1.08em 0 0 0;
  font-weight: bold;
  line-height: 1.0;
}
.rendered_html h2 {
  font-size: 157.1%;
  margin: 1.27em 0 0 0;
  font-weight: bold;
  line-height: 1.0;
}
.rendered_html h3 {
  font-size: 128.6%;
  margin: 1.55em 0 0 0;
  font-weight: bold;
  line-height: 1.0;
}
.rendered_html h4 {
  font-size: 100%;
  margin: 2em 0 0 0;
  font-weight: bold;
  line-height: 1.0;
}
.rendered_html h5 {
  font-size: 100%;
  margin: 2em 0 0 0;
  font-weight: bold;
  line-height: 1.0;
  font-style: italic;
}
.rendered_html h6 {
  font-size: 100%;
  margin: 2em 0 0 0;
  font-weight: bold;
  line-height: 1.0;
  font-style: italic;
}
.rendered_html h1:first-child {
  margin-top: 0.538em;
}
.rendered_html h2:first-child {
  margin-top: 0.636em;
}
.rendered_html h3:first-child {
  margin-top: 0.777em;
}
.rendered_html h4:first-child {
  margin-top: 1em;
}
.rendered_html h5:first-child {
  margin-top: 1em;
}
.rendered_html h6:first-child {
  margin-top: 1em;
}
.rendered_html ul:not(.list-inline),
.rendered_html ol:not(.list-inline) {
  padding-left: 2em;
}
.rendered_html ul {
  list-style: disc;
}
.rendered_html ul ul {
  list-style: square;
  margin-top: 0;
}
.rendered_html ul ul ul {
  list-style: circle;
}
.rendered_html ol {
  list-style: decimal;
}
.rendered_html ol ol {
  list-style: upper-alpha;
  margin-top: 0;
}
.rendered_html ol ol ol {
  list-style: lower-alpha;
}
.rendered_html ol ol ol ol {
  list-style: lower-roman;
}
.rendered_html ol ol ol ol ol {
  list-style: decimal;
}
.rendered_html * + ul {
  margin-top: 1em;
}
.rendered_html * + ol {
  margin-top: 1em;
}
.rendered_html hr {
  color: black;
  background-color: black;
}
.rendered_html pre {
  margin: 1em 2em;
  padding: 0px;
  background-color: #fff;
}
.rendered_html code {
  background-color: #eff0f1;
}
.rendered_html p code {
  padding: 1px 5px;
}
.rendered_html pre code {
  background-color: #fff;
}
.rendered_html pre,
.rendered_html code {
  border: 0;
  color: #000;
  font-size: 100%;
}
.rendered_html blockquote {
  margin: 1em 2em;
}
.rendered_html table {
  margin-left: auto;
  margin-right: auto;
  border: none;
  border-collapse: collapse;
  border-spacing: 0;
  color: black;
  font-size: 12px;
  table-layout: fixed;
}
.rendered_html thead {
  border-bottom: 1px solid black;
  vertical-align: bottom;
}
.rendered_html tr,
.rendered_html th,
.rendered_html td {
  text-align: right;
  vertical-align: middle;
  padding: 0.5em 0.5em;
  line-height: normal;
  white-space: normal;
  max-width: none;
  border: none;
}
.rendered_html th {
  font-weight: bold;
}
.rendered_html tbody tr:nth-child(odd) {
  background: #f5f5f5;
}
.rendered_html tbody tr:hover {
  background: rgba(66, 165, 245, 0.2);
}
.rendered_html * + table {
  margin-top: 1em;
}
.rendered_html p {
  text-align: left;
}
.rendered_html * + p {
  margin-top: 1em;
}
.rendered_html img {
  display: block;
  margin-left: auto;
  margin-right: auto;
}
.rendered_html * + img {
  margin-top: 1em;
}
.rendered_html img,
.rendered_html svg {
  max-width: 100%;
  height: auto;
}
.rendered_html img.unconfined,
.rendered_html svg.unconfined {
  max-width: none;
}
.rendered_html .alert {
  margin-bottom: initial;
}
.rendered_html * + .alert {
  margin-top: 1em;
}
[dir="rtl"] .rendered_html p {
  text-align: right;
}
div.text_cell {
  /* Old browsers */
  display: -webkit-box;
  -webkit-box-orient: horizontal;
  -webkit-box-align: stretch;
  display: -moz-box;
  -moz-box-orient: horizontal;
  -moz-box-align: stretch;
  display: box;
  box-orient: horizontal;
  box-align: stretch;
  /* Modern browsers */
  display: flex;
  flex-direction: row;
  align-items: stretch;
}
@media (max-width: 540px) {
  div.text_cell > div.prompt {
    display: none;
  }
}
div.text_cell_render {
  /*font-family: "Helvetica Neue", Arial, Helvetica, Geneva, sans-serif;*/
  outline: none;
  resize: none;
  width: inherit;
  border-style: none;
  padding: 0.5em 0.5em 0.5em 0.4em;
  color: #000;
  box-sizing: border-box;
  -moz-box-sizing: border-box;
  -webkit-box-sizing: border-box;
}
a.anchor-link:link {
  text-decoration: none;
  padding: 0px 20px;
  visibility: hidden;
}
h1:hover .anchor-link,
h2:hover .anchor-link,
h3:hover .anchor-link,
h4:hover .anchor-link,
h5:hover .anchor-link,
h6:hover .anchor-link {
  visibility: visible;
}
.text_cell.rendered .input_area {
  display: none;
}
.text_cell.rendered .rendered_html {
  overflow-x: auto;
  overflow-y: hidden;
}
.text_cell.rendered .rendered_html tr,
.text_cell.rendered .rendered_html th,
.text_cell.rendered .rendered_html td {
  max-width: none;
}
.text_cell.unrendered .text_cell_render {
  display: none;
}
.text_cell .dropzone .input_area {
  border: 2px dashed #bababa;
  margin: -1px;
}
.cm-header-1,
.cm-header-2,
.cm-header-3,
.cm-header-4,
.cm-header-5,
.cm-header-6 {
  font-weight: bold;
  font-family: "Helvetica Neue", Helvetica, Arial, sans-serif;
}
.cm-header-1 {
  font-size: 185.7%;
}
.cm-header-2 {
  font-size: 157.1%;
}
.cm-header-3 {
  font-size: 128.6%;
}
.cm-header-4 {
  font-size: 110%;
}
.cm-header-5 {
  font-size: 100%;
  font-style: italic;
}
.cm-header-6 {
  font-size: 100%;
  font-style: italic;
}
/*!
*
* IPython notebook webapp
*
*/
@media (max-width: 767px) {
  .notebook_app {
    padding-left: 0px;
    padding-right: 0px;
  }
}
#ipython-main-app {
  box-sizing: border-box;
  -moz-box-sizing: border-box;
  -webkit-box-sizing: border-box;
  height: 100%;
}
div#notebook_panel {
  margin: 0px;
  padding: 0px;
  box-sizing: border-box;
  -moz-box-sizing: border-box;
  -webkit-box-sizing: border-box;
  height: 100%;
}
div#notebook {
  font-size: 14px;
  line-height: 20px;
  overflow-y: hidden;
  overflow-x: auto;
  width: 100%;
  /* This spaces the page away from the edge of the notebook area */
  padding-top: 20px;
  margin: 0px;
  outline: none;
  box-sizing: border-box;
  -moz-box-sizing: border-box;
  -webkit-box-sizing: border-box;
  min-height: 100%;
}
@media not print {
  #notebook-container {
    padding: 15px;
    background-color: #fff;
    min-height: 0;
    -webkit-box-shadow: 0px 0px 12px 1px rgba(87, 87, 87, 0.2);
    box-shadow: 0px 0px 12px 1px rgba(87, 87, 87, 0.2);
  }
}
@media print {
  #notebook-container {
    width: 100%;
  }
}
div.ui-widget-content {
  border: 1px solid #ababab;
  outline: none;
}
pre.dialog {
  background-color: #f7f7f7;
  border: 1px solid #ddd;
  border-radius: 2px;
  padding: 0.4em;
  padding-left: 2em;
}
p.dialog {
  padding: 0.2em;
}
/* Word-wrap output correctly.  This is the CSS3 spelling, though Firefox seems
   to not honor it correctly.  Webkit browsers (Chrome, rekonq, Safari) do.
 */
pre,
code,
kbd,
samp {
  white-space: pre-wrap;
}
#fonttest {
  font-family: monospace;
}
p {
  margin-bottom: 0;
}
.end_space {
  min-height: 100px;
  transition: height .2s ease;
}
.notebook_app > #header {
  -webkit-box-shadow: 0px 0px 12px 1px rgba(87, 87, 87, 0.2);
  box-shadow: 0px 0px 12px 1px rgba(87, 87, 87, 0.2);
}
@media not print {
  .notebook_app {
    background-color: #EEE;
  }
}
kbd {
  border-style: solid;
  border-width: 1px;
  box-shadow: none;
  margin: 2px;
  padding-left: 2px;
  padding-right: 2px;
  padding-top: 1px;
  padding-bottom: 1px;
}
.jupyter-keybindings {
  padding: 1px;
  line-height: 24px;
  border-bottom: 1px solid gray;
}
.jupyter-keybindings input {
  margin: 0;
  padding: 0;
  border: none;
}
.jupyter-keybindings i {
  padding: 6px;
}
.well code {
  background-color: #ffffff;
  border-color: #ababab;
  border-width: 1px;
  border-style: solid;
  padding: 2px;
  padding-top: 1px;
  padding-bottom: 1px;
}
/* CSS for the cell toolbar */
.celltoolbar {
  border: thin solid #CFCFCF;
  border-bottom: none;
  background: #EEE;
  border-radius: 2px 2px 0px 0px;
  width: 100%;
  height: 29px;
  padding-right: 4px;
  /* Old browsers */
  display: -webkit-box;
  -webkit-box-orient: horizontal;
  -webkit-box-align: stretch;
  display: -moz-box;
  -moz-box-orient: horizontal;
  -moz-box-align: stretch;
  display: box;
  box-orient: horizontal;
  box-align: stretch;
  /* Modern browsers */
  display: flex;
  flex-direction: row;
  align-items: stretch;
  /* Old browsers */
  -webkit-box-pack: end;
  -moz-box-pack: end;
  box-pack: end;
  /* Modern browsers */
  justify-content: flex-end;
  display: -webkit-flex;
}
@media print {
  .celltoolbar {
    display: none;
  }
}
.ctb_hideshow {
  display: none;
  vertical-align: bottom;
}
/* ctb_show is added to the ctb_hideshow div to show the cell toolbar.
   Cell toolbars are only shown when the ctb_global_show class is also set.
*/
.ctb_global_show .ctb_show.ctb_hideshow {
  display: block;
}
.ctb_global_show .ctb_show + .input_area,
.ctb_global_show .ctb_show + div.text_cell_input,
.ctb_global_show .ctb_show ~ div.text_cell_render {
  border-top-right-radius: 0px;
  border-top-left-radius: 0px;
}
.ctb_global_show .ctb_show ~ div.text_cell_render {
  border: 1px solid #cfcfcf;
}
.celltoolbar {
  font-size: 87%;
  padding-top: 3px;
}
.celltoolbar select {
  display: block;
  width: 100%;
  height: 32px;
  padding: 6px 12px;
  font-size: 13px;
  line-height: 1.42857143;
  color: #555555;
  background-color: #fff;
  background-image: none;
  border: 1px solid #ccc;
  border-radius: 2px;
  -webkit-box-shadow: inset 0 1px 1px rgba(0, 0, 0, 0.075);
  box-shadow: inset 0 1px 1px rgba(0, 0, 0, 0.075);
  -webkit-transition: border-color ease-in-out .15s, box-shadow ease-in-out .15s;
  -o-transition: border-color ease-in-out .15s, box-shadow ease-in-out .15s;
  transition: border-color ease-in-out .15s, box-shadow ease-in-out .15s;
  height: 30px;
  padding: 5px 10px;
  font-size: 12px;
  line-height: 1.5;
  border-radius: 1px;
  width: inherit;
  font-size: inherit;
  height: 22px;
  padding: 0px;
  display: inline-block;
}
.celltoolbar select:focus {
  border-color: #66afe9;
  outline: 0;
  -webkit-box-shadow: inset 0 1px 1px rgba(0,0,0,.075), 0 0 8px rgba(102, 175, 233, 0.6);
  box-shadow: inset 0 1px 1px rgba(0,0,0,.075), 0 0 8px rgba(102, 175, 233, 0.6);
}
.celltoolbar select::-moz-placeholder {
  color: #999;
  opacity: 1;
}
.celltoolbar select:-ms-input-placeholder {
  color: #999;
}
.celltoolbar select::-webkit-input-placeholder {
  color: #999;
}
.celltoolbar select::-ms-expand {
  border: 0;
  background-color: transparent;
}
.celltoolbar select[disabled],
.celltoolbar select[readonly],
fieldset[disabled] .celltoolbar select {
  background-color: #eeeeee;
  opacity: 1;
}
.celltoolbar select[disabled],
fieldset[disabled] .celltoolbar select {
  cursor: not-allowed;
}
textarea.celltoolbar select {
  height: auto;
}
select.celltoolbar select {
  height: 30px;
  line-height: 30px;
}
textarea.celltoolbar select,
select[multiple].celltoolbar select {
  height: auto;
}
.celltoolbar label {
  margin-left: 5px;
  margin-right: 5px;
}
.tags_button_container {
  width: 100%;
  display: flex;
}
.tag-container {
  display: flex;
  flex-direction: row;
  flex-grow: 1;
  overflow: hidden;
  position: relative;
}
.tag-container > * {
  margin: 0 4px;
}
.remove-tag-btn {
  margin-left: 4px;
}
.tags-input {
  display: flex;
}
.cell-tag:last-child:after {
  content: "";
  position: absolute;
  right: 0;
  width: 40px;
  height: 100%;
  /* Fade to background color of cell toolbar */
  background: linear-gradient(to right, rgba(0, 0, 0, 0), #EEE);
}
.tags-input > * {
  margin-left: 4px;
}
.cell-tag,
.tags-input input,
.tags-input button {
  display: block;
  width: 100%;
  height: 32px;
  padding: 6px 12px;
  font-size: 13px;
  line-height: 1.42857143;
  color: #555555;
  background-color: #fff;
  background-image: none;
  border: 1px solid #ccc;
  border-radius: 2px;
  -webkit-box-shadow: inset 0 1px 1px rgba(0, 0, 0, 0.075);
  box-shadow: inset 0 1px 1px rgba(0, 0, 0, 0.075);
  -webkit-transition: border-color ease-in-out .15s, box-shadow ease-in-out .15s;
  -o-transition: border-color ease-in-out .15s, box-shadow ease-in-out .15s;
  transition: border-color ease-in-out .15s, box-shadow ease-in-out .15s;
  height: 30px;
  padding: 5px 10px;
  font-size: 12px;
  line-height: 1.5;
  border-radius: 1px;
  box-shadow: none;
  width: inherit;
  font-size: inherit;
  height: 22px;
  line-height: 22px;
  padding: 0px 4px;
  display: inline-block;
}
.cell-tag:focus,
.tags-input input:focus,
.tags-input button:focus {
  border-color: #66afe9;
  outline: 0;
  -webkit-box-shadow: inset 0 1px 1px rgba(0,0,0,.075), 0 0 8px rgba(102, 175, 233, 0.6);
  box-shadow: inset 0 1px 1px rgba(0,0,0,.075), 0 0 8px rgba(102, 175, 233, 0.6);
}
.cell-tag::-moz-placeholder,
.tags-input input::-moz-placeholder,
.tags-input button::-moz-placeholder {
  color: #999;
  opacity: 1;
}
.cell-tag:-ms-input-placeholder,
.tags-input input:-ms-input-placeholder,
.tags-input button:-ms-input-placeholder {
  color: #999;
}
.cell-tag::-webkit-input-placeholder,
.tags-input input::-webkit-input-placeholder,
.tags-input button::-webkit-input-placeholder {
  color: #999;
}
.cell-tag::-ms-expand,
.tags-input input::-ms-expand,
.tags-input button::-ms-expand {
  border: 0;
  background-color: transparent;
}
.cell-tag[disabled],
.tags-input input[disabled],
.tags-input button[disabled],
.cell-tag[readonly],
.tags-input input[readonly],
.tags-input button[readonly],
fieldset[disabled] .cell-tag,
fieldset[disabled] .tags-input input,
fieldset[disabled] .tags-input button {
  background-color: #eeeeee;
  opacity: 1;
}
.cell-tag[disabled],
.tags-input input[disabled],
.tags-input button[disabled],
fieldset[disabled] .cell-tag,
fieldset[disabled] .tags-input input,
fieldset[disabled] .tags-input button {
  cursor: not-allowed;
}
textarea.cell-tag,
textarea.tags-input input,
textarea.tags-input button {
  height: auto;
}
select.cell-tag,
select.tags-input input,
select.tags-input button {
  height: 30px;
  line-height: 30px;
}
textarea.cell-tag,
textarea.tags-input input,
textarea.tags-input button,
select[multiple].cell-tag,
select[multiple].tags-input input,
select[multiple].tags-input button {
  height: auto;
}
.cell-tag,
.tags-input button {
  padding: 0px 4px;
}
.cell-tag {
  background-color: #fff;
  white-space: nowrap;
}
.tags-input input[type=text]:focus {
  outline: none;
  box-shadow: none;
  border-color: #ccc;
}
.completions {
  position: absolute;
  z-index: 110;
  overflow: hidden;
  border: 1px solid #ababab;
  border-radius: 2px;
  -webkit-box-shadow: 0px 6px 10px -1px #adadad;
  box-shadow: 0px 6px 10px -1px #adadad;
  line-height: 1;
}
.completions select {
  background: white;
  outline: none;
  border: none;
  padding: 0px;
  margin: 0px;
  overflow: auto;
  font-family: monospace;
  font-size: 110%;
  color: #000;
  width: auto;
}
.completions select option.context {
  color: #286090;
}
#kernel_logo_widget .current_kernel_logo {
  display: none;
  margin-top: -1px;
  margin-bottom: -1px;
  width: 32px;
  height: 32px;
}
[dir="rtl"] #kernel_logo_widget {
  float: left !important;
  float: left;
}
.modal .modal-body .move-path {
  display: flex;
  flex-direction: row;
  justify-content: space;
  align-items: center;
}
.modal .modal-body .move-path .server-root {
  padding-right: 20px;
}
.modal .modal-body .move-path .path-input {
  flex: 1;
}
#menubar {
  box-sizing: border-box;
  -moz-box-sizing: border-box;
  -webkit-box-sizing: border-box;
  margin-top: 1px;
}
#menubar .navbar {
  border-top: 1px;
  border-radius: 0px 0px 2px 2px;
  margin-bottom: 0px;
}
#menubar .navbar-toggle {
  float: left;
  padding-top: 7px;
  padding-bottom: 7px;
  border: none;
}
#menubar .navbar-collapse {
  clear: left;
}
[dir="rtl"] #menubar .navbar-toggle {
  float: right;
}
[dir="rtl"] #menubar .navbar-collapse {
  clear: right;
}
[dir="rtl"] #menubar .navbar-nav {
  float: right;
}
[dir="rtl"] #menubar .nav {
  padding-right: 0px;
}
[dir="rtl"] #menubar .navbar-nav > li {
  float: right;
}
[dir="rtl"] #menubar .navbar-right {
  float: left !important;
}
[dir="rtl"] ul.dropdown-menu {
  text-align: right;
  left: auto;
}
[dir="rtl"] ul#new-menu.dropdown-menu {
  right: auto;
  left: 0;
}
.nav-wrapper {
  border-bottom: 1px solid #e7e7e7;
}
i.menu-icon {
  padding-top: 4px;
}
[dir="rtl"] i.menu-icon.pull-right {
  float: left !important;
  float: left;
}
ul#help_menu li a {
  overflow: hidden;
  padding-right: 2.2em;
}
ul#help_menu li a i {
  margin-right: -1.2em;
}
[dir="rtl"] ul#help_menu li a {
  padding-left: 2.2em;
}
[dir="rtl"] ul#help_menu li a i {
  margin-right: 0;
  margin-left: -1.2em;
}
[dir="rtl"] ul#help_menu li a i.pull-right {
  float: left !important;
  float: left;
}
.dropdown-submenu {
  position: relative;
}
.dropdown-submenu > .dropdown-menu {
  top: 0;
  left: 100%;
  margin-top: -6px;
  margin-left: -1px;
}
[dir="rtl"] .dropdown-submenu > .dropdown-menu {
  right: 100%;
  margin-right: -1px;
}
.dropdown-submenu:hover > .dropdown-menu {
  display: block;
}
.dropdown-submenu > a:after {
  display: inline-block;
  font: normal normal normal 14px/1 FontAwesome;
  font-size: inherit;
  text-rendering: auto;
  -webkit-font-smoothing: antialiased;
  -moz-osx-font-smoothing: grayscale;
  display: block;
  content: "\f0da";
  float: right;
  color: #333333;
  margin-top: 2px;
  margin-right: -10px;
}
.dropdown-submenu > a:after.fa-pull-left {
  margin-right: .3em;
}
.dropdown-submenu > a:after.fa-pull-right {
  margin-left: .3em;
}
.dropdown-submenu > a:after.pull-left {
  margin-right: .3em;
}
.dropdown-submenu > a:after.pull-right {
  margin-left: .3em;
}
[dir="rtl"] .dropdown-submenu > a:after {
  float: left;
  content: "\f0d9";
  margin-right: 0;
  margin-left: -10px;
}
.dropdown-submenu:hover > a:after {
  color: #262626;
}
.dropdown-submenu.pull-left {
  float: none;
}
.dropdown-submenu.pull-left > .dropdown-menu {
  left: -100%;
  margin-left: 10px;
}
#notification_area {
  float: right !important;
  float: right;
  z-index: 10;
}
[dir="rtl"] #notification_area {
  float: left !important;
  float: left;
}
.indicator_area {
  float: right !important;
  float: right;
  color: #777;
  margin-left: 5px;
  margin-right: 5px;
  width: 11px;
  z-index: 10;
  text-align: center;
  width: auto;
}
[dir="rtl"] .indicator_area {
  float: left !important;
  float: left;
}
#kernel_indicator {
  float: right !important;
  float: right;
  color: #777;
  margin-left: 5px;
  margin-right: 5px;
  width: 11px;
  z-index: 10;
  text-align: center;
  width: auto;
  border-left: 1px solid;
}
#kernel_indicator .kernel_indicator_name {
  padding-left: 5px;
  padding-right: 5px;
}
[dir="rtl"] #kernel_indicator {
  float: left !important;
  float: left;
  border-left: 0;
  border-right: 1px solid;
}
#modal_indicator {
  float: right !important;
  float: right;
  color: #777;
  margin-left: 5px;
  margin-right: 5px;
  width: 11px;
  z-index: 10;
  text-align: center;
  width: auto;
}
[dir="rtl"] #modal_indicator {
  float: left !important;
  float: left;
}
#readonly-indicator {
  float: right !important;
  float: right;
  color: #777;
  margin-left: 5px;
  margin-right: 5px;
  width: 11px;
  z-index: 10;
  text-align: center;
  width: auto;
  margin-top: 2px;
  margin-bottom: 0px;
  margin-left: 0px;
  margin-right: 0px;
  display: none;
}
.modal_indicator:before {
  width: 1.28571429em;
  text-align: center;
}
.edit_mode .modal_indicator:before {
  display: inline-block;
  font: normal normal normal 14px/1 FontAwesome;
  font-size: inherit;
  text-rendering: auto;
  -webkit-font-smoothing: antialiased;
  -moz-osx-font-smoothing: grayscale;
  content: "\f040";
}
.edit_mode .modal_indicator:before.fa-pull-left {
  margin-right: .3em;
}
.edit_mode .modal_indicator:before.fa-pull-right {
  margin-left: .3em;
}
.edit_mode .modal_indicator:before.pull-left {
  margin-right: .3em;
}
.edit_mode .modal_indicator:before.pull-right {
  margin-left: .3em;
}
.command_mode .modal_indicator:before {
  display: inline-block;
  font: normal normal normal 14px/1 FontAwesome;
  font-size: inherit;
  text-rendering: auto;
  -webkit-font-smoothing: antialiased;
  -moz-osx-font-smoothing: grayscale;
  content: ' ';
}
.command_mode .modal_indicator:before.fa-pull-left {
  margin-right: .3em;
}
.command_mode .modal_indicator:before.fa-pull-right {
  margin-left: .3em;
}
.command_mode .modal_indicator:before.pull-left {
  margin-right: .3em;
}
.command_mode .modal_indicator:before.pull-right {
  margin-left: .3em;
}
.kernel_idle_icon:before {
  display: inline-block;
  font: normal normal normal 14px/1 FontAwesome;
  font-size: inherit;
  text-rendering: auto;
  -webkit-font-smoothing: antialiased;
  -moz-osx-font-smoothing: grayscale;
  content: "\f10c";
}
.kernel_idle_icon:before.fa-pull-left {
  margin-right: .3em;
}
.kernel_idle_icon:before.fa-pull-right {
  margin-left: .3em;
}
.kernel_idle_icon:before.pull-left {
  margin-right: .3em;
}
.kernel_idle_icon:before.pull-right {
  margin-left: .3em;
}
.kernel_busy_icon:before {
  display: inline-block;
  font: normal normal normal 14px/1 FontAwesome;
  font-size: inherit;
  text-rendering: auto;
  -webkit-font-smoothing: antialiased;
  -moz-osx-font-smoothing: grayscale;
  content: "\f111";
}
.kernel_busy_icon:before.fa-pull-left {
  margin-right: .3em;
}
.kernel_busy_icon:before.fa-pull-right {
  margin-left: .3em;
}
.kernel_busy_icon:before.pull-left {
  margin-right: .3em;
}
.kernel_busy_icon:before.pull-right {
  margin-left: .3em;
}
.kernel_dead_icon:before {
  display: inline-block;
  font: normal normal normal 14px/1 FontAwesome;
  font-size: inherit;
  text-rendering: auto;
  -webkit-font-smoothing: antialiased;
  -moz-osx-font-smoothing: grayscale;
  content: "\f1e2";
}
.kernel_dead_icon:before.fa-pull-left {
  margin-right: .3em;
}
.kernel_dead_icon:before.fa-pull-right {
  margin-left: .3em;
}
.kernel_dead_icon:before.pull-left {
  margin-right: .3em;
}
.kernel_dead_icon:before.pull-right {
  margin-left: .3em;
}
.kernel_disconnected_icon:before {
  display: inline-block;
  font: normal normal normal 14px/1 FontAwesome;
  font-size: inherit;
  text-rendering: auto;
  -webkit-font-smoothing: antialiased;
  -moz-osx-font-smoothing: grayscale;
  content: "\f127";
}
.kernel_disconnected_icon:before.fa-pull-left {
  margin-right: .3em;
}
.kernel_disconnected_icon:before.fa-pull-right {
  margin-left: .3em;
}
.kernel_disconnected_icon:before.pull-left {
  margin-right: .3em;
}
.kernel_disconnected_icon:before.pull-right {
  margin-left: .3em;
}
.notification_widget {
  color: #777;
  z-index: 10;
  background: rgba(240, 240, 240, 0.5);
  margin-right: 4px;
  color: #333;
  background-color: #fff;
  border-color: #ccc;
}
.notification_widget:focus,
.notification_widget.focus {
  color: #333;
  background-color: #e6e6e6;
  border-color: #8c8c8c;
}
.notification_widget:hover {
  color: #333;
  background-color: #e6e6e6;
  border-color: #adadad;
}
.notification_widget:active,
.notification_widget.active,
.open > .dropdown-toggle.notification_widget {
  color: #333;
  background-color: #e6e6e6;
  border-color: #adadad;
}
.notification_widget:active:hover,
.notification_widget.active:hover,
.open > .dropdown-toggle.notification_widget:hover,
.notification_widget:active:focus,
.notification_widget.active:focus,
.open > .dropdown-toggle.notification_widget:focus,
.notification_widget:active.focus,
.notification_widget.active.focus,
.open > .dropdown-toggle.notification_widget.focus {
  color: #333;
  background-color: #d4d4d4;
  border-color: #8c8c8c;
}
.notification_widget:active,
.notification_widget.active,
.open > .dropdown-toggle.notification_widget {
  background-image: none;
}
.notification_widget.disabled:hover,
.notification_widget[disabled]:hover,
fieldset[disabled] .notification_widget:hover,
.notification_widget.disabled:focus,
.notification_widget[disabled]:focus,
fieldset[disabled] .notification_widget:focus,
.notification_widget.disabled.focus,
.notification_widget[disabled].focus,
fieldset[disabled] .notification_widget.focus {
  background-color: #fff;
  border-color: #ccc;
}
.notification_widget .badge {
  color: #fff;
  background-color: #333;
}
.notification_widget.warning {
  color: #fff;
  background-color: #f0ad4e;
  border-color: #eea236;
}
.notification_widget.warning:focus,
.notification_widget.warning.focus {
  color: #fff;
  background-color: #ec971f;
  border-color: #985f0d;
}
.notification_widget.warning:hover {
  color: #fff;
  background-color: #ec971f;
  border-color: #d58512;
}
.notification_widget.warning:active,
.notification_widget.warning.active,
.open > .dropdown-toggle.notification_widget.warning {
  color: #fff;
  background-color: #ec971f;
  border-color: #d58512;
}
.notification_widget.warning:active:hover,
.notification_widget.warning.active:hover,
.open > .dropdown-toggle.notification_widget.warning:hover,
.notification_widget.warning:active:focus,
.notification_widget.warning.active:focus,
.open > .dropdown-toggle.notification_widget.warning:focus,
.notification_widget.warning:active.focus,
.notification_widget.warning.active.focus,
.open > .dropdown-toggle.notification_widget.warning.focus {
  color: #fff;
  background-color: #d58512;
  border-color: #985f0d;
}
.notification_widget.warning:active,
.notification_widget.warning.active,
.open > .dropdown-toggle.notification_widget.warning {
  background-image: none;
}
.notification_widget.warning.disabled:hover,
.notification_widget.warning[disabled]:hover,
fieldset[disabled] .notification_widget.warning:hover,
.notification_widget.warning.disabled:focus,
.notification_widget.warning[disabled]:focus,
fieldset[disabled] .notification_widget.warning:focus,
.notification_widget.warning.disabled.focus,
.notification_widget.warning[disabled].focus,
fieldset[disabled] .notification_widget.warning.focus {
  background-color: #f0ad4e;
  border-color: #eea236;
}
.notification_widget.warning .badge {
  color: #f0ad4e;
  background-color: #fff;
}
.notification_widget.success {
  color: #fff;
  background-color: #5cb85c;
  border-color: #4cae4c;
}
.notification_widget.success:focus,
.notification_widget.success.focus {
  color: #fff;
  background-color: #449d44;
  border-color: #255625;
}
.notification_widget.success:hover {
  color: #fff;
  background-color: #449d44;
  border-color: #398439;
}
.notification_widget.success:active,
.notification_widget.success.active,
.open > .dropdown-toggle.notification_widget.success {
  color: #fff;
  background-color: #449d44;
  border-color: #398439;
}
.notification_widget.success:active:hover,
.notification_widget.success.active:hover,
.open > .dropdown-toggle.notification_widget.success:hover,
.notification_widget.success:active:focus,
.notification_widget.success.active:focus,
.open > .dropdown-toggle.notification_widget.success:focus,
.notification_widget.success:active.focus,
.notification_widget.success.active.focus,
.open > .dropdown-toggle.notification_widget.success.focus {
  color: #fff;
  background-color: #398439;
  border-color: #255625;
}
.notification_widget.success:active,
.notification_widget.success.active,
.open > .dropdown-toggle.notification_widget.success {
  background-image: none;
}
.notification_widget.success.disabled:hover,
.notification_widget.success[disabled]:hover,
fieldset[disabled] .notification_widget.success:hover,
.notification_widget.success.disabled:focus,
.notification_widget.success[disabled]:focus,
fieldset[disabled] .notification_widget.success:focus,
.notification_widget.success.disabled.focus,
.notification_widget.success[disabled].focus,
fieldset[disabled] .notification_widget.success.focus {
  background-color: #5cb85c;
  border-color: #4cae4c;
}
.notification_widget.success .badge {
  color: #5cb85c;
  background-color: #fff;
}
.notification_widget.info {
  color: #fff;
  background-color: #5bc0de;
  border-color: #46b8da;
}
.notification_widget.info:focus,
.notification_widget.info.focus {
  color: #fff;
  background-color: #31b0d5;
  border-color: #1b6d85;
}
.notification_widget.info:hover {
  color: #fff;
  background-color: #31b0d5;
  border-color: #269abc;
}
.notification_widget.info:active,
.notification_widget.info.active,
.open > .dropdown-toggle.notification_widget.info {
  color: #fff;
  background-color: #31b0d5;
  border-color: #269abc;
}
.notification_widget.info:active:hover,
.notification_widget.info.active:hover,
.open > .dropdown-toggle.notification_widget.info:hover,
.notification_widget.info:active:focus,
.notification_widget.info.active:focus,
.open > .dropdown-toggle.notification_widget.info:focus,
.notification_widget.info:active.focus,
.notification_widget.info.active.focus,
.open > .dropdown-toggle.notification_widget.info.focus {
  color: #fff;
  background-color: #269abc;
  border-color: #1b6d85;
}
.notification_widget.info:active,
.notification_widget.info.active,
.open > .dropdown-toggle.notification_widget.info {
  background-image: none;
}
.notification_widget.info.disabled:hover,
.notification_widget.info[disabled]:hover,
fieldset[disabled] .notification_widget.info:hover,
.notification_widget.info.disabled:focus,
.notification_widget.info[disabled]:focus,
fieldset[disabled] .notification_widget.info:focus,
.notification_widget.info.disabled.focus,
.notification_widget.info[disabled].focus,
fieldset[disabled] .notification_widget.info.focus {
  background-color: #5bc0de;
  border-color: #46b8da;
}
.notification_widget.info .badge {
  color: #5bc0de;
  background-color: #fff;
}
.notification_widget.danger {
  color: #fff;
  background-color: #d9534f;
  border-color: #d43f3a;
}
.notification_widget.danger:focus,
.notification_widget.danger.focus {
  color: #fff;
  background-color: #c9302c;
  border-color: #761c19;
}
.notification_widget.danger:hover {
  color: #fff;
  background-color: #c9302c;
  border-color: #ac2925;
}
.notification_widget.danger:active,
.notification_widget.danger.active,
.open > .dropdown-toggle.notification_widget.danger {
  color: #fff;
  background-color: #c9302c;
  border-color: #ac2925;
}
.notification_widget.danger:active:hover,
.notification_widget.danger.active:hover,
.open > .dropdown-toggle.notification_widget.danger:hover,
.notification_widget.danger:active:focus,
.notification_widget.danger.active:focus,
.open > .dropdown-toggle.notification_widget.danger:focus,
.notification_widget.danger:active.focus,
.notification_widget.danger.active.focus,
.open > .dropdown-toggle.notification_widget.danger.focus {
  color: #fff;
  background-color: #ac2925;
  border-color: #761c19;
}
.notification_widget.danger:active,
.notification_widget.danger.active,
.open > .dropdown-toggle.notification_widget.danger {
  background-image: none;
}
.notification_widget.danger.disabled:hover,
.notification_widget.danger[disabled]:hover,
fieldset[disabled] .notification_widget.danger:hover,
.notification_widget.danger.disabled:focus,
.notification_widget.danger[disabled]:focus,
fieldset[disabled] .notification_widget.danger:focus,
.notification_widget.danger.disabled.focus,
.notification_widget.danger[disabled].focus,
fieldset[disabled] .notification_widget.danger.focus {
  background-color: #d9534f;
  border-color: #d43f3a;
}
.notification_widget.danger .badge {
  color: #d9534f;
  background-color: #fff;
}
div#pager {
  background-color: #fff;
  font-size: 14px;
  line-height: 20px;
  overflow: hidden;
  display: none;
  position: fixed;
  bottom: 0px;
  width: 100%;
  max-height: 50%;
  padding-top: 8px;
  -webkit-box-shadow: 0px 0px 12px 1px rgba(87, 87, 87, 0.2);
  box-shadow: 0px 0px 12px 1px rgba(87, 87, 87, 0.2);
  /* Display over codemirror */
  z-index: 100;
  /* Hack which prevents jquery ui resizable from changing top. */
  top: auto !important;
}
div#pager pre {
  line-height: 1.21429em;
  color: #000;
  background-color: #f7f7f7;
  padding: 0.4em;
}
div#pager #pager-button-area {
  position: absolute;
  top: 8px;
  right: 20px;
}
div#pager #pager-contents {
  position: relative;
  overflow: auto;
  width: 100%;
  height: 100%;
}
div#pager #pager-contents #pager-container {
  position: relative;
  padding: 15px 0px;
  box-sizing: border-box;
  -moz-box-sizing: border-box;
  -webkit-box-sizing: border-box;
}
div#pager .ui-resizable-handle {
  top: 0px;
  height: 8px;
  background: #f7f7f7;
  border-top: 1px solid #cfcfcf;
  border-bottom: 1px solid #cfcfcf;
  /* This injects handle bars (a short, wide = symbol) for 
        the resize handle. */
}
div#pager .ui-resizable-handle::after {
  content: '';
  top: 2px;
  left: 50%;
  height: 3px;
  width: 30px;
  margin-left: -15px;
  position: absolute;
  border-top: 1px solid #cfcfcf;
}
.quickhelp {
  /* Old browsers */
  display: -webkit-box;
  -webkit-box-orient: horizontal;
  -webkit-box-align: stretch;
  display: -moz-box;
  -moz-box-orient: horizontal;
  -moz-box-align: stretch;
  display: box;
  box-orient: horizontal;
  box-align: stretch;
  /* Modern browsers */
  display: flex;
  flex-direction: row;
  align-items: stretch;
  line-height: 1.8em;
}
.shortcut_key {
  display: inline-block;
  width: 21ex;
  text-align: right;
  font-family: monospace;
}
.shortcut_descr {
  display: inline-block;
  /* Old browsers */
  -webkit-box-flex: 1;
  -moz-box-flex: 1;
  box-flex: 1;
  /* Modern browsers */
  flex: 1;
}
span.save_widget {
  height: 30px;
  margin-top: 4px;
  display: flex;
  justify-content: flex-start;
  align-items: baseline;
  width: 50%;
  flex: 1;
}
span.save_widget span.filename {
  height: 100%;
  line-height: 1em;
  margin-left: 16px;
  border: none;
  font-size: 146.5%;
  text-overflow: ellipsis;
  overflow: hidden;
  white-space: nowrap;
  border-radius: 2px;
}
span.save_widget span.filename:hover {
  background-color: #e6e6e6;
}
[dir="rtl"] span.save_widget.pull-left {
  float: right !important;
  float: right;
}
[dir="rtl"] span.save_widget span.filename {
  margin-left: 0;
  margin-right: 16px;
}
span.checkpoint_status,
span.autosave_status {
  font-size: small;
  white-space: nowrap;
  padding: 0 5px;
}
@media (max-width: 767px) {
  span.save_widget {
    font-size: small;
    padding: 0 0 0 5px;
  }
  span.checkpoint_status,
  span.autosave_status {
    display: none;
  }
}
@media (min-width: 768px) and (max-width: 991px) {
  span.checkpoint_status {
    display: none;
  }
  span.autosave_status {
    font-size: x-small;
  }
}
.toolbar {
  padding: 0px;
  margin-left: -5px;
  margin-top: 2px;
  margin-bottom: 5px;
  box-sizing: border-box;
  -moz-box-sizing: border-box;
  -webkit-box-sizing: border-box;
}
.toolbar select,
.toolbar label {
  width: auto;
  vertical-align: middle;
  margin-right: 2px;
  margin-bottom: 0px;
  display: inline;
  font-size: 92%;
  margin-left: 0.3em;
  margin-right: 0.3em;
  padding: 0px;
  padding-top: 3px;
}
.toolbar .btn {
  padding: 2px 8px;
}
.toolbar .btn-group {
  margin-top: 0px;
  margin-left: 5px;
}
.toolbar-btn-label {
  margin-left: 6px;
}
#maintoolbar {
  margin-bottom: -3px;
  margin-top: -8px;
  border: 0px;
  min-height: 27px;
  margin-left: 0px;
  padding-top: 11px;
  padding-bottom: 3px;
}
#maintoolbar .navbar-text {
  float: none;
  vertical-align: middle;
  text-align: right;
  margin-left: 5px;
  margin-right: 0px;
  margin-top: 0px;
}
.select-xs {
  height: 24px;
}
[dir="rtl"] .btn-group > .btn,
.btn-group-vertical > .btn {
  float: right;
}
.pulse,
.dropdown-menu > li > a.pulse,
li.pulse > a.dropdown-toggle,
li.pulse.open > a.dropdown-toggle {
  background-color: #F37626;
  color: white;
}
/**
 * Primary styles
 *
 * Author: Jupyter Development Team
 */
/** WARNING IF YOU ARE EDITTING THIS FILE, if this is a .css file, It has a lot
 * of chance of beeing generated from the ../less/[samename].less file, you can
 * try to get back the less file by reverting somme commit in history
 **/
/*
 * We'll try to get something pretty, so we
 * have some strange css to have the scroll bar on
 * the left with fix button on the top right of the tooltip
 */
@-moz-keyframes fadeOut {
  from {
    opacity: 1;
  }
  to {
    opacity: 0;
  }
}
@-webkit-keyframes fadeOut {
  from {
    opacity: 1;
  }
  to {
    opacity: 0;
  }
}
@-moz-keyframes fadeIn {
  from {
    opacity: 0;
  }
  to {
    opacity: 1;
  }
}
@-webkit-keyframes fadeIn {
  from {
    opacity: 0;
  }
  to {
    opacity: 1;
  }
}
/*properties of tooltip after "expand"*/
.bigtooltip {
  overflow: auto;
  height: 200px;
  -webkit-transition-property: height;
  -webkit-transition-duration: 500ms;
  -moz-transition-property: height;
  -moz-transition-duration: 500ms;
  transition-property: height;
  transition-duration: 500ms;
}
/*properties of tooltip before "expand"*/
.smalltooltip {
  -webkit-transition-property: height;
  -webkit-transition-duration: 500ms;
  -moz-transition-property: height;
  -moz-transition-duration: 500ms;
  transition-property: height;
  transition-duration: 500ms;
  text-overflow: ellipsis;
  overflow: hidden;
  height: 80px;
}
.tooltipbuttons {
  position: absolute;
  padding-right: 15px;
  top: 0px;
  right: 0px;
}
.tooltiptext {
  /*avoid the button to overlap on some docstring*/
  padding-right: 30px;
}
.ipython_tooltip {
  max-width: 700px;
  /*fade-in animation when inserted*/
  -webkit-animation: fadeOut 400ms;
  -moz-animation: fadeOut 400ms;
  animation: fadeOut 400ms;
  -webkit-animation: fadeIn 400ms;
  -moz-animation: fadeIn 400ms;
  animation: fadeIn 400ms;
  vertical-align: middle;
  background-color: #f7f7f7;
  overflow: visible;
  border: #ababab 1px solid;
  outline: none;
  padding: 3px;
  margin: 0px;
  padding-left: 7px;
  font-family: monospace;
  min-height: 50px;
  -moz-box-shadow: 0px 6px 10px -1px #adadad;
  -webkit-box-shadow: 0px 6px 10px -1px #adadad;
  box-shadow: 0px 6px 10px -1px #adadad;
  border-radius: 2px;
  position: absolute;
  z-index: 1000;
}
.ipython_tooltip a {
  float: right;
}
.ipython_tooltip .tooltiptext pre {
  border: 0;
  border-radius: 0;
  font-size: 100%;
  background-color: #f7f7f7;
}
.pretooltiparrow {
  left: 0px;
  margin: 0px;
  top: -16px;
  width: 40px;
  height: 16px;
  overflow: hidden;
  position: absolute;
}
.pretooltiparrow:before {
  background-color: #f7f7f7;
  border: 1px #ababab solid;
  z-index: 11;
  content: "";
  position: absolute;
  left: 15px;
  top: 10px;
  width: 25px;
  height: 25px;
  -webkit-transform: rotate(45deg);
  -moz-transform: rotate(45deg);
  -ms-transform: rotate(45deg);
  -o-transform: rotate(45deg);
}
ul.typeahead-list i {
  margin-left: -10px;
  width: 18px;
}
[dir="rtl"] ul.typeahead-list i {
  margin-left: 0;
  margin-right: -10px;
}
ul.typeahead-list {
  max-height: 80vh;
  overflow: auto;
}
ul.typeahead-list > li > a {
  /** Firefox bug **/
  /* see https://github.com/jupyter/notebook/issues/559 */
  white-space: normal;
}
ul.typeahead-list  > li > a.pull-right {
  float: left !important;
  float: left;
}
[dir="rtl"] .typeahead-list {
  text-align: right;
}
.cmd-palette .modal-body {
  padding: 7px;
}
.cmd-palette form {
  background: white;
}
.cmd-palette input {
  outline: none;
}
.no-shortcut {
  min-width: 20px;
  color: transparent;
}
[dir="rtl"] .no-shortcut.pull-right {
  float: left !important;
  float: left;
}
[dir="rtl"] .command-shortcut.pull-right {
  float: left !important;
  float: left;
}
.command-shortcut:before {
  content: "(command mode)";
  padding-right: 3px;
  color: #777777;
}
.edit-shortcut:before {
  content: "(edit)";
  padding-right: 3px;
  color: #777777;
}
[dir="rtl"] .edit-shortcut.pull-right {
  float: left !important;
  float: left;
}
#find-and-replace #replace-preview .match,
#find-and-replace #replace-preview .insert {
  background-color: #BBDEFB;
  border-color: #90CAF9;
  border-style: solid;
  border-width: 1px;
  border-radius: 0px;
}
[dir="ltr"] #find-and-replace .input-group-btn + .form-control {
  border-left: none;
}
[dir="rtl"] #find-and-replace .input-group-btn + .form-control {
  border-right: none;
}
#find-and-replace #replace-preview .replace .match {
  background-color: #FFCDD2;
  border-color: #EF9A9A;
  border-radius: 0px;
}
#find-and-replace #replace-preview .replace .insert {
  background-color: #C8E6C9;
  border-color: #A5D6A7;
  border-radius: 0px;
}
#find-and-replace #replace-preview {
  max-height: 60vh;
  overflow: auto;
}
#find-and-replace #replace-preview pre {
  padding: 5px 10px;
}
.terminal-app {
  background: #EEE;
}
.terminal-app #header {
  background: #fff;
  -webkit-box-shadow: 0px 0px 12px 1px rgba(87, 87, 87, 0.2);
  box-shadow: 0px 0px 12px 1px rgba(87, 87, 87, 0.2);
}
.terminal-app .terminal {
  width: 100%;
  float: left;
  font-family: monospace;
  color: white;
  background: black;
  padding: 0.4em;
  border-radius: 2px;
  -webkit-box-shadow: 0px 0px 12px 1px rgba(87, 87, 87, 0.4);
  box-shadow: 0px 0px 12px 1px rgba(87, 87, 87, 0.4);
}
.terminal-app .terminal,
.terminal-app .terminal dummy-screen {
  line-height: 1em;
  font-size: 14px;
}
.terminal-app .terminal .xterm-rows {
  padding: 10px;
}
.terminal-app .terminal-cursor {
  color: black;
  background: white;
}
.terminal-app #terminado-container {
  margin-top: 20px;
}
/*# sourceMappingURL=style.min.css.map */
    </style>
<style type="text/css">
    .highlight .hll { background-color: #ffffcc }
.highlight  { background: #f8f8f8; }
.highlight .c { color: #408080; font-style: italic } /* Comment */
.highlight .err { border: 1px solid #FF0000 } /* Error */
.highlight .k { color: #008000; font-weight: bold } /* Keyword */
.highlight .o { color: #666666 } /* Operator */
.highlight .ch { color: #408080; font-style: italic } /* Comment.Hashbang */
.highlight .cm { color: #408080; font-style: italic } /* Comment.Multiline */
.highlight .cp { color: #BC7A00 } /* Comment.Preproc */
.highlight .cpf { color: #408080; font-style: italic } /* Comment.PreprocFile */
.highlight .c1 { color: #408080; font-style: italic } /* Comment.Single */
.highlight .cs { color: #408080; font-style: italic } /* Comment.Special */
.highlight .gd { color: #A00000 } /* Generic.Deleted */
.highlight .ge { font-style: italic } /* Generic.Emph */
.highlight .gr { color: #FF0000 } /* Generic.Error */
.highlight .gh { color: #000080; font-weight: bold } /* Generic.Heading */
.highlight .gi { color: #00A000 } /* Generic.Inserted */
.highlight .go { color: #888888 } /* Generic.Output */
.highlight .gp { color: #000080; font-weight: bold } /* Generic.Prompt */
.highlight .gs { font-weight: bold } /* Generic.Strong */
.highlight .gu { color: #800080; font-weight: bold } /* Generic.Subheading */
.highlight .gt { color: #0044DD } /* Generic.Traceback */
.highlight .kc { color: #008000; font-weight: bold } /* Keyword.Constant */
.highlight .kd { color: #008000; font-weight: bold } /* Keyword.Declaration */
.highlight .kn { color: #008000; font-weight: bold } /* Keyword.Namespace */
.highlight .kp { color: #008000 } /* Keyword.Pseudo */
.highlight .kr { color: #008000; font-weight: bold } /* Keyword.Reserved */
.highlight .kt { color: #B00040 } /* Keyword.Type */
.highlight .m { color: #666666 } /* Literal.Number */
.highlight .s { color: #BA2121 } /* Literal.String */
.highlight .na { color: #7D9029 } /* Name.Attribute */
.highlight .nb { color: #008000 } /* Name.Builtin */
.highlight .nc { color: #0000FF; font-weight: bold } /* Name.Class */
.highlight .no { color: #880000 } /* Name.Constant */
.highlight .nd { color: #AA22FF } /* Name.Decorator */
.highlight .ni { color: #999999; font-weight: bold } /* Name.Entity */
.highlight .ne { color: #D2413A; font-weight: bold } /* Name.Exception */
.highlight .nf { color: #0000FF } /* Name.Function */
.highlight .nl { color: #A0A000 } /* Name.Label */
.highlight .nn { color: #0000FF; font-weight: bold } /* Name.Namespace */
.highlight .nt { color: #008000; font-weight: bold } /* Name.Tag */
.highlight .nv { color: #19177C } /* Name.Variable */
.highlight .ow { color: #AA22FF; font-weight: bold } /* Operator.Word */
.highlight .w { color: #bbbbbb } /* Text.Whitespace */
.highlight .mb { color: #666666 } /* Literal.Number.Bin */
.highlight .mf { color: #666666 } /* Literal.Number.Float */
.highlight .mh { color: #666666 } /* Literal.Number.Hex */
.highlight .mi { color: #666666 } /* Literal.Number.Integer */
.highlight .mo { color: #666666 } /* Literal.Number.Oct */
.highlight .sa { color: #BA2121 } /* Literal.String.Affix */
.highlight .sb { color: #BA2121 } /* Literal.String.Backtick */
.highlight .sc { color: #BA2121 } /* Literal.String.Char */
.highlight .dl { color: #BA2121 } /* Literal.String.Delimiter */
.highlight .sd { color: #BA2121; font-style: italic } /* Literal.String.Doc */
.highlight .s2 { color: #BA2121 } /* Literal.String.Double */
.highlight .se { color: #BB6622; font-weight: bold } /* Literal.String.Escape */
.highlight .sh { color: #BA2121 } /* Literal.String.Heredoc */
.highlight .si { color: #BB6688; font-weight: bold } /* Literal.String.Interpol */
.highlight .sx { color: #008000 } /* Literal.String.Other */
.highlight .sr { color: #BB6688 } /* Literal.String.Regex */
.highlight .s1 { color: #BA2121 } /* Literal.String.Single */
.highlight .ss { color: #19177C } /* Literal.String.Symbol */
.highlight .bp { color: #008000 } /* Name.Builtin.Pseudo */
.highlight .fm { color: #0000FF } /* Name.Function.Magic */
.highlight .vc { color: #19177C } /* Name.Variable.Class */
.highlight .vg { color: #19177C } /* Name.Variable.Global */
.highlight .vi { color: #19177C } /* Name.Variable.Instance */
.highlight .vm { color: #19177C } /* Name.Variable.Magic */
.highlight .il { color: #666666 } /* Literal.Number.Integer.Long */
    </style>


<style type="text/css">
/* Overrides of notebook CSS for static HTML export */
body {
  overflow: visible;
  padding: 8px;
}

div#notebook {
  overflow: visible;
  border-top: none;
}@media print {
  div.cell {
    display: block;
    page-break-inside: avoid;
  } 
  div.output_wrapper { 
    display: block;
    page-break-inside: avoid; 
  }
  div.output { 
    display: block;
    page-break-inside: avoid; 
  }
}
</style>

<!-- Custom stylesheet, it must be in the same directory as the html file -->
<link rel="stylesheet" href="custom.css">

<!-- Loading mathjax macro -->
<!-- Load mathjax -->
    <script src="https://cdnjs.cloudflare.com/ajax/libs/mathjax/2.7.5/latest.js?config=TeX-AMS_HTML"></script>
    <!-- MathJax configuration -->
    <script type="text/x-mathjax-config">
    MathJax.Hub.Config({
        tex2jax: {
            inlineMath: [ ['$','$'], ["\\(","\\)"] ],
            displayMath: [ ['$$','$$'], ["\\[","\\]"] ],
            processEscapes: true,
            processEnvironments: true
        },
        // Center justify equations in code and markdown cells. Elsewhere
        // we use CSS to left justify single line equations in code cells.
        displayAlign: 'center',
        "HTML-CSS": {
            styles: {'.MathJax_Display': {"margin": 0}},
            linebreaks: { automatic: true }
        }
    });
    </script>
    <!-- End of mathjax configuration --></head>
<body>
  <div tabindex="-1" id="notebook" class="border-box-sizing">
    <div class="container" id="notebook-container">

<div class="cell border-box-sizing text_cell rendered"><div class="prompt input_prompt">
</div><div class="inner_cell">
<div class="text_cell_render border-box-sizing rendered_html">
<h2 id="Bank-Churn-Prediction">Bank Churn Prediction<a class="anchor-link" href="#Bank-Churn-Prediction">&#182;</a></h2><h3 id="Objective:">Objective:<a class="anchor-link" href="#Objective:">&#182;</a></h3><p>Given a Bank customer, build a neural network based classifier that can determine whether they will leave or not in the next 6 months.</p>
<h3 id="Context:">Context:<a class="anchor-link" href="#Context:">&#182;</a></h3><p>Businesses like banks which provide service have to worry about problem of 'Churn' i.e. customers leaving and joining another service provider. It is important to understand which aspects of the service influence a customer's decision in this regard. Management can concentrate efforts on improvement of service, keeping in mind these priorities.</p>
<h3 id="Dataset">Dataset<a class="anchor-link" href="#Dataset">&#182;</a></h3><p>The dataset contains 10,000 sample points with 14 distinct features such as CustomerId, CreditScore, Geography, Gender, Age, Tenure, Balance etc.</p>
<h3 id="Sub-Tasks-of-this-project">Sub-Tasks of this project<a class="anchor-link" href="#Sub-Tasks-of-this-project">&#182;</a></h3><ol>
<li>Read the dataset</li>
<li>Drop the columns which are unique for all users like IDs </li>
<li>Distinguish the features and target variable </li>
<li>Divide the data set into training and test sets </li>
<li>Normalize the train and test data </li>
<li>Initialize &amp; build the model. Identify the points of improvement and implement the same the same.</li>
<li>Predict the results using 0.5 as a threshold </li>
<li>Print the Accuracy score and confusion matrix </li>
</ol>

</div>
</div>
</div>
<div class="cell border-box-sizing code_cell rendered">
<div class="input">
<div class="prompt input_prompt">In&nbsp;[161]:</div>
<div class="inner_cell">
    <div class="input_area">
<div class=" highlight hl-ipython3"><pre><span></span><span class="kn">import</span> <span class="nn">tensorflow</span> <span class="k">as</span> <span class="nn">tf</span>
<span class="nb">print</span><span class="p">(</span><span class="n">tf</span><span class="o">.</span><span class="n">__version__</span><span class="p">)</span>
</pre></div>

    </div>
</div>
</div>

<div class="output_wrapper">
<div class="output">


<div class="output_area">

    <div class="prompt"></div>


<div class="output_subarea output_stream output_stdout output_text">
<pre>2.3.0
</pre>
</div>
</div>

</div>
</div>

</div>
<div class="cell border-box-sizing code_cell rendered">
<div class="input">
<div class="prompt input_prompt">In&nbsp;[162]:</div>
<div class="inner_cell">
    <div class="input_area">
<div class=" highlight hl-ipython3"><pre><span></span><span class="kn">import</span> <span class="nn">pandas</span> <span class="k">as</span> <span class="nn">pd</span>
<span class="kn">import</span> <span class="nn">pandas_profiling</span> <span class="k">as</span> <span class="nn">pf</span>
<span class="kn">import</span> <span class="nn">numpy</span> <span class="k">as</span> <span class="nn">np</span>
<span class="kn">from</span> <span class="nn">sklearn.model_selection</span> <span class="k">import</span> <span class="n">train_test_split</span>
<span class="kn">import</span> <span class="nn">tensorflow</span> <span class="k">as</span> <span class="nn">tf</span>
<span class="kn">from</span> <span class="nn">sklearn</span> <span class="k">import</span> <span class="n">preprocessing</span>
<span class="kn">from</span> <span class="nn">tensorflow.keras.models</span> <span class="k">import</span> <span class="n">Sequential</span>
<span class="kn">from</span> <span class="nn">tensorflow.keras.layers</span> <span class="k">import</span> <span class="n">Dense</span><span class="p">,</span> <span class="n">Dropout</span><span class="p">,</span> <span class="n">BatchNormalization</span>
<span class="kn">from</span> <span class="nn">sklearn.metrics</span> <span class="k">import</span> <span class="n">accuracy_score</span><span class="p">,</span> <span class="n">confusion_matrix</span><span class="p">,</span> <span class="n">precision_score</span><span class="p">,</span> <span class="n">recall_score</span><span class="p">,</span> <span class="n">f1_score</span><span class="p">,</span> <span class="n">precision_recall_curve</span><span class="p">,</span> <span class="n">auc</span>
<span class="kn">import</span> <span class="nn">matplotlib.pyplot</span> <span class="k">as</span> <span class="nn">plt</span>
<span class="kn">from</span> <span class="nn">tensorflow.keras</span> <span class="k">import</span> <span class="n">optimizers</span>

<span class="kn">from</span> <span class="nn">IPython.display</span> <span class="k">import</span> <span class="n">Markdown</span><span class="p">,</span> <span class="n">display</span>
<span class="kn">import</span> <span class="nn">seaborn</span> <span class="k">as</span> <span class="nn">sns</span> <span class="c1"># data visualization lib based upon matplotlib</span>
<span class="kn">import</span> <span class="nn">matplotlib.pyplot</span> <span class="k">as</span> <span class="nn">plt</span> <span class="c1"># is a state-based interface to matplotlib. It provides a MATLAB-like way of plotting</span>
<span class="o">%</span><span class="k">matplotlib</span> inline
</pre></div>

    </div>
</div>
</div>

</div>
<div class="cell border-box-sizing text_cell rendered"><div class="prompt input_prompt">
</div><div class="inner_cell">
<div class="text_cell_render border-box-sizing rendered_html">
<h3 id="1.-Read-the-dataset">1. Read the dataset<a class="anchor-link" href="#1.-Read-the-dataset">&#182;</a></h3>
</div>
</div>
</div>
<div class="cell border-box-sizing code_cell rendered">
<div class="input">
<div class="prompt input_prompt">In&nbsp;[163]:</div>
<div class="inner_cell">
    <div class="input_area">
<div class=" highlight hl-ipython3"><pre><span></span><span class="n">data</span> <span class="o">=</span> <span class="n">pd</span><span class="o">.</span><span class="n">read_csv</span><span class="p">(</span><span class="s1">&#39;bank.csv&#39;</span><span class="p">)</span>
</pre></div>

    </div>
</div>
</div>

</div>
<div class="cell border-box-sizing code_cell rendered">
<div class="input">
<div class="prompt input_prompt">In&nbsp;[164]:</div>
<div class="inner_cell">
    <div class="input_area">
<div class=" highlight hl-ipython3"><pre><span></span><span class="n">data</span><span class="o">.</span><span class="n">shape</span>
</pre></div>

    </div>
</div>
</div>

<div class="output_wrapper">
<div class="output">


<div class="output_area">

    <div class="prompt output_prompt">Out[164]:</div>




<div class="output_text output_subarea output_execute_result">
<pre>(10000, 14)</pre>
</div>

</div>

</div>
</div>

</div>
<div class="cell border-box-sizing text_cell rendered"><div class="prompt input_prompt">
</div><div class="inner_cell">
<div class="text_cell_render border-box-sizing rendered_html">
<h3 id="2.-Drop-the-columns-which-are-unique-for-all-users-like-IDs">2. Drop the columns which are unique for all users like IDs<a class="anchor-link" href="#2.-Drop-the-columns-which-are-unique-for-all-users-like-IDs">&#182;</a></h3>
</div>
</div>
</div>
<div class="cell border-box-sizing code_cell rendered">
<div class="input">
<div class="prompt input_prompt">In&nbsp;[165]:</div>
<div class="inner_cell">
    <div class="input_area">
<div class=" highlight hl-ipython3"><pre><span></span><span class="n">data</span><span class="o">.</span><span class="n">head</span><span class="p">(</span><span class="mi">10</span><span class="p">)</span>
</pre></div>

    </div>
</div>
</div>

<div class="output_wrapper">
<div class="output">


<div class="output_area">

    <div class="prompt output_prompt">Out[165]:</div>



<div class="output_html rendered_html output_subarea output_execute_result">
<div>
<style scoped>
    .dataframe tbody tr th:only-of-type {
        vertical-align: middle;
    }

    .dataframe tbody tr th {
        vertical-align: top;
    }

    .dataframe thead th {
        text-align: right;
    }
</style>
<table border="1" class="dataframe">
  <thead>
    <tr style="text-align: right;">
      <th></th>
      <th>RowNumber</th>
      <th>CustomerId</th>
      <th>Surname</th>
      <th>CreditScore</th>
      <th>Geography</th>
      <th>Gender</th>
      <th>Age</th>
      <th>Tenure</th>
      <th>Balance</th>
      <th>NumOfProducts</th>
      <th>HasCrCard</th>
      <th>IsActiveMember</th>
      <th>EstimatedSalary</th>
      <th>Exited</th>
    </tr>
  </thead>
  <tbody>
    <tr>
      <th>0</th>
      <td>1</td>
      <td>15634602</td>
      <td>Hargrave</td>
      <td>619</td>
      <td>France</td>
      <td>Female</td>
      <td>42</td>
      <td>2</td>
      <td>0.00</td>
      <td>1</td>
      <td>1</td>
      <td>1</td>
      <td>101348.88</td>
      <td>1</td>
    </tr>
    <tr>
      <th>1</th>
      <td>2</td>
      <td>15647311</td>
      <td>Hill</td>
      <td>608</td>
      <td>Spain</td>
      <td>Female</td>
      <td>41</td>
      <td>1</td>
      <td>83807.86</td>
      <td>1</td>
      <td>0</td>
      <td>1</td>
      <td>112542.58</td>
      <td>0</td>
    </tr>
    <tr>
      <th>2</th>
      <td>3</td>
      <td>15619304</td>
      <td>Onio</td>
      <td>502</td>
      <td>France</td>
      <td>Female</td>
      <td>42</td>
      <td>8</td>
      <td>159660.80</td>
      <td>3</td>
      <td>1</td>
      <td>0</td>
      <td>113931.57</td>
      <td>1</td>
    </tr>
    <tr>
      <th>3</th>
      <td>4</td>
      <td>15701354</td>
      <td>Boni</td>
      <td>699</td>
      <td>France</td>
      <td>Female</td>
      <td>39</td>
      <td>1</td>
      <td>0.00</td>
      <td>2</td>
      <td>0</td>
      <td>0</td>
      <td>93826.63</td>
      <td>0</td>
    </tr>
    <tr>
      <th>4</th>
      <td>5</td>
      <td>15737888</td>
      <td>Mitchell</td>
      <td>850</td>
      <td>Spain</td>
      <td>Female</td>
      <td>43</td>
      <td>2</td>
      <td>125510.82</td>
      <td>1</td>
      <td>1</td>
      <td>1</td>
      <td>79084.10</td>
      <td>0</td>
    </tr>
    <tr>
      <th>5</th>
      <td>6</td>
      <td>15574012</td>
      <td>Chu</td>
      <td>645</td>
      <td>Spain</td>
      <td>Male</td>
      <td>44</td>
      <td>8</td>
      <td>113755.78</td>
      <td>2</td>
      <td>1</td>
      <td>0</td>
      <td>149756.71</td>
      <td>1</td>
    </tr>
    <tr>
      <th>6</th>
      <td>7</td>
      <td>15592531</td>
      <td>Bartlett</td>
      <td>822</td>
      <td>France</td>
      <td>Male</td>
      <td>50</td>
      <td>7</td>
      <td>0.00</td>
      <td>2</td>
      <td>1</td>
      <td>1</td>
      <td>10062.80</td>
      <td>0</td>
    </tr>
    <tr>
      <th>7</th>
      <td>8</td>
      <td>15656148</td>
      <td>Obinna</td>
      <td>376</td>
      <td>Germany</td>
      <td>Female</td>
      <td>29</td>
      <td>4</td>
      <td>115046.74</td>
      <td>4</td>
      <td>1</td>
      <td>0</td>
      <td>119346.88</td>
      <td>1</td>
    </tr>
    <tr>
      <th>8</th>
      <td>9</td>
      <td>15792365</td>
      <td>He</td>
      <td>501</td>
      <td>France</td>
      <td>Male</td>
      <td>44</td>
      <td>4</td>
      <td>142051.07</td>
      <td>2</td>
      <td>0</td>
      <td>1</td>
      <td>74940.50</td>
      <td>0</td>
    </tr>
    <tr>
      <th>9</th>
      <td>10</td>
      <td>15592389</td>
      <td>H?</td>
      <td>684</td>
      <td>France</td>
      <td>Male</td>
      <td>27</td>
      <td>2</td>
      <td>134603.88</td>
      <td>1</td>
      <td>1</td>
      <td>1</td>
      <td>71725.73</td>
      <td>0</td>
    </tr>
  </tbody>
</table>
</div>
</div>

</div>

</div>
</div>

</div>
<div class="cell border-box-sizing text_cell rendered"><div class="prompt input_prompt">
</div><div class="inner_cell">
<div class="text_cell_render border-box-sizing rendered_html">
<p>Let's drop RowNumber, CustomerId, Surname they are not useful of predictive analysis</p>

</div>
</div>
</div>
<div class="cell border-box-sizing code_cell rendered">
<div class="input">
<div class="prompt input_prompt">In&nbsp;[166]:</div>
<div class="inner_cell">
    <div class="input_area">
<div class=" highlight hl-ipython3"><pre><span></span><span class="n">data</span><span class="o">.</span><span class="n">drop</span><span class="p">([</span><span class="s1">&#39;RowNumber&#39;</span><span class="p">,</span> <span class="s1">&#39;CustomerId&#39;</span><span class="p">,</span> <span class="s1">&#39;Surname&#39;</span><span class="p">],</span> <span class="n">axis</span><span class="o">=</span><span class="mi">1</span><span class="p">,</span> <span class="n">inplace</span><span class="o">=</span> <span class="kc">True</span><span class="p">)</span>
</pre></div>

    </div>
</div>
</div>

</div>
<div class="cell border-box-sizing text_cell rendered"><div class="prompt input_prompt">
</div><div class="inner_cell">
<div class="text_cell_render border-box-sizing rendered_html">
<h3 id="3.-Distinguish-the-features-and-target-variable">3. Distinguish the features and target variable<a class="anchor-link" href="#3.-Distinguish-the-features-and-target-variable">&#182;</a></h3><p>We'll check data info, null, na values</p>

</div>
</div>
</div>
<div class="cell border-box-sizing code_cell rendered">
<div class="input">
<div class="prompt input_prompt">In&nbsp;[167]:</div>
<div class="inner_cell">
    <div class="input_area">
<div class=" highlight hl-ipython3"><pre><span></span><span class="n">data</span><span class="o">.</span><span class="n">info</span><span class="p">()</span>
</pre></div>

    </div>
</div>
</div>

<div class="output_wrapper">
<div class="output">


<div class="output_area">

    <div class="prompt"></div>


<div class="output_subarea output_stream output_stdout output_text">
<pre>&lt;class &#39;pandas.core.frame.DataFrame&#39;&gt;
RangeIndex: 10000 entries, 0 to 9999
Data columns (total 11 columns):
 #   Column           Non-Null Count  Dtype  
---  ------           --------------  -----  
 0   CreditScore      10000 non-null  int64  
 1   Geography        10000 non-null  object 
 2   Gender           10000 non-null  object 
 3   Age              10000 non-null  int64  
 4   Tenure           10000 non-null  int64  
 5   Balance          10000 non-null  float64
 6   NumOfProducts    10000 non-null  int64  
 7   HasCrCard        10000 non-null  int64  
 8   IsActiveMember   10000 non-null  int64  
 9   EstimatedSalary  10000 non-null  float64
 10  Exited           10000 non-null  int64  
dtypes: float64(2), int64(7), object(2)
memory usage: 859.5+ KB
</pre>
</div>
</div>

</div>
</div>

</div>
<div class="cell border-box-sizing code_cell rendered">
<div class="input">
<div class="prompt input_prompt">In&nbsp;[168]:</div>
<div class="inner_cell">
    <div class="input_area">
<div class=" highlight hl-ipython3"><pre><span></span><span class="c1"># method to check null/na values</span>
<span class="k">def</span> <span class="nf">print_null_na_values</span><span class="p">(</span><span class="n">data</span><span class="p">):</span>
    <span class="nb">print</span><span class="p">(</span><span class="s2">&quot;Are there any null values ? : &quot;</span><span class="p">,</span> <span class="n">data</span><span class="o">.</span><span class="n">isnull</span><span class="p">()</span><span class="o">.</span><span class="n">values</span><span class="o">.</span><span class="n">any</span><span class="p">())</span>
    <span class="nb">print</span><span class="p">(</span><span class="s2">&quot;Are there any na values ?   : &quot;</span><span class="p">,</span> <span class="n">data</span><span class="o">.</span><span class="n">isna</span><span class="p">()</span><span class="o">.</span><span class="n">values</span><span class="o">.</span><span class="n">any</span><span class="p">())</span>

    <span class="nb">print</span><span class="p">(</span><span class="s2">&quot;</span><span class="se">\n</span><span class="s2">&quot;</span><span class="p">)</span>
    <span class="nb">print</span><span class="p">(</span><span class="s2">&quot;------------Checking for null ------------------&quot;</span><span class="p">)</span>
    <span class="nb">print</span><span class="p">(</span><span class="n">data</span><span class="o">.</span><span class="n">isnull</span><span class="p">()</span><span class="o">.</span><span class="n">sum</span><span class="p">())</span>
    <span class="nb">print</span><span class="p">(</span><span class="s2">&quot;------------Cheking for NA ---------------------&quot;</span><span class="p">)</span>
    <span class="nb">print</span><span class="p">(</span><span class="n">data</span><span class="o">.</span><span class="n">isna</span><span class="p">()</span><span class="o">.</span><span class="n">sum</span><span class="p">())</span>
</pre></div>

    </div>
</div>
</div>

</div>
<div class="cell border-box-sizing code_cell rendered">
<div class="input">
<div class="prompt input_prompt">In&nbsp;[169]:</div>
<div class="inner_cell">
    <div class="input_area">
<div class=" highlight hl-ipython3"><pre><span></span><span class="n">print_null_na_values</span><span class="p">(</span><span class="n">data</span><span class="p">)</span>
</pre></div>

    </div>
</div>
</div>

<div class="output_wrapper">
<div class="output">


<div class="output_area">

    <div class="prompt"></div>


<div class="output_subarea output_stream output_stdout output_text">
<pre>Are there any null values ? :  False
Are there any na values ?   :  False


------------Checking for null ------------------
CreditScore        0
Geography          0
Gender             0
Age                0
Tenure             0
Balance            0
NumOfProducts      0
HasCrCard          0
IsActiveMember     0
EstimatedSalary    0
Exited             0
dtype: int64
------------Cheking for NA ---------------------
CreditScore        0
Geography          0
Gender             0
Age                0
Tenure             0
Balance            0
NumOfProducts      0
HasCrCard          0
IsActiveMember     0
EstimatedSalary    0
Exited             0
dtype: int64
</pre>
</div>
</div>

</div>
</div>

</div>
<div class="cell border-box-sizing code_cell rendered">
<div class="input">
<div class="prompt input_prompt">In&nbsp;[170]:</div>
<div class="inner_cell">
    <div class="input_area">
<div class=" highlight hl-ipython3"><pre><span></span><span class="c1"># method to get unique values for all columns</span>
<span class="k">def</span> <span class="nf">uniques_values</span><span class="p">(</span><span class="n">data</span><span class="p">):</span>
    <span class="k">for</span> <span class="n">col</span> <span class="ow">in</span> <span class="n">data</span><span class="o">.</span><span class="n">columns</span><span class="p">:</span>
        <span class="nb">print</span><span class="p">(</span><span class="s1">&#39;Col Name </span><span class="si">{0}</span><span class="s1">: Unique values </span><span class="si">{1}</span><span class="s1">&#39;</span><span class="o">.</span><span class="n">format</span><span class="p">(</span><span class="n">col</span><span class="p">,</span> <span class="n">data</span><span class="p">[</span><span class="n">col</span><span class="p">]</span><span class="o">.</span><span class="n">nunique</span><span class="p">()))</span>
</pre></div>

    </div>
</div>
</div>

</div>
<div class="cell border-box-sizing code_cell rendered">
<div class="input">
<div class="prompt input_prompt">In&nbsp;[171]:</div>
<div class="inner_cell">
    <div class="input_area">
<div class=" highlight hl-ipython3"><pre><span></span><span class="n">uniques_values</span><span class="p">(</span><span class="n">data</span><span class="p">)</span>
</pre></div>

    </div>
</div>
</div>

<div class="output_wrapper">
<div class="output">


<div class="output_area">

    <div class="prompt"></div>


<div class="output_subarea output_stream output_stdout output_text">
<pre>Col Name CreditScore: Unique values 460
Col Name Geography: Unique values 3
Col Name Gender: Unique values 2
Col Name Age: Unique values 70
Col Name Tenure: Unique values 11
Col Name Balance: Unique values 6382
Col Name NumOfProducts: Unique values 4
Col Name HasCrCard: Unique values 2
Col Name IsActiveMember: Unique values 2
Col Name EstimatedSalary: Unique values 9999
Col Name Exited: Unique values 2
</pre>
</div>
</div>

</div>
</div>

</div>
<div class="cell border-box-sizing text_cell rendered"><div class="prompt input_prompt">
</div><div class="inner_cell">
<div class="text_cell_render border-box-sizing rendered_html">
<ul>
<li>There are no null/na values</li>
<li><p>Following features should be converted as category - Geography, Gender</p>
</li>
<li><p>'Existed' seems to be our target vairable</p>
</li>
</ul>

</div>
</div>
</div>
<div class="cell border-box-sizing code_cell rendered">
<div class="input">
<div class="prompt input_prompt">In&nbsp;[172]:</div>
<div class="inner_cell">
    <div class="input_area">
<div class=" highlight hl-ipython3"><pre><span></span><span class="n">cat_features</span> <span class="o">=</span> <span class="p">[</span><span class="s1">&#39;Geography&#39;</span><span class="p">,</span> <span class="s1">&#39;Gender&#39;</span><span class="p">]</span>

<span class="k">for</span> <span class="n">colname</span> <span class="ow">in</span> <span class="n">cat_features</span><span class="p">:</span>
    <span class="n">data</span><span class="p">[</span><span class="n">colname</span><span class="p">]</span> <span class="o">=</span> <span class="n">data</span><span class="p">[</span><span class="n">colname</span><span class="p">]</span><span class="o">.</span><span class="n">astype</span><span class="p">(</span><span class="s1">&#39;category&#39;</span><span class="p">)</span>
</pre></div>

    </div>
</div>
</div>

</div>
<div class="cell border-box-sizing code_cell rendered">
<div class="input">
<div class="prompt input_prompt">In&nbsp;[173]:</div>
<div class="inner_cell">
    <div class="input_area">
<div class=" highlight hl-ipython3"><pre><span></span><span class="n">data</span><span class="p">[</span><span class="n">cat_features</span><span class="p">]</span><span class="o">.</span><span class="n">nunique</span><span class="p">()</span>
</pre></div>

    </div>
</div>
</div>

<div class="output_wrapper">
<div class="output">


<div class="output_area">

    <div class="prompt output_prompt">Out[173]:</div>




<div class="output_text output_subarea output_execute_result">
<pre>Geography    3
Gender       2
dtype: int64</pre>
</div>

</div>

</div>
</div>

</div>
<div class="cell border-box-sizing code_cell rendered">
<div class="input">
<div class="prompt input_prompt">In&nbsp;[174]:</div>
<div class="inner_cell">
    <div class="input_area">
<div class=" highlight hl-ipython3"><pre><span></span><span class="n">dfHEncoded_1</span> <span class="o">=</span> <span class="n">pd</span><span class="o">.</span><span class="n">get_dummies</span><span class="p">(</span><span class="n">data</span><span class="p">)</span>
</pre></div>

    </div>
</div>
</div>

</div>
<div class="cell border-box-sizing code_cell rendered">
<div class="input">
<div class="prompt input_prompt">In&nbsp;[175]:</div>
<div class="inner_cell">
    <div class="input_area">
<div class=" highlight hl-ipython3"><pre><span></span><span class="n">dfHEncoded_1</span><span class="o">.</span><span class="n">info</span><span class="p">()</span>
</pre></div>

    </div>
</div>
</div>

<div class="output_wrapper">
<div class="output">


<div class="output_area">

    <div class="prompt"></div>


<div class="output_subarea output_stream output_stdout output_text">
<pre>&lt;class &#39;pandas.core.frame.DataFrame&#39;&gt;
RangeIndex: 10000 entries, 0 to 9999
Data columns (total 14 columns):
 #   Column             Non-Null Count  Dtype  
---  ------             --------------  -----  
 0   CreditScore        10000 non-null  int64  
 1   Age                10000 non-null  int64  
 2   Tenure             10000 non-null  int64  
 3   Balance            10000 non-null  float64
 4   NumOfProducts      10000 non-null  int64  
 5   HasCrCard          10000 non-null  int64  
 6   IsActiveMember     10000 non-null  int64  
 7   EstimatedSalary    10000 non-null  float64
 8   Exited             10000 non-null  int64  
 9   Geography_France   10000 non-null  uint8  
 10  Geography_Germany  10000 non-null  uint8  
 11  Geography_Spain    10000 non-null  uint8  
 12  Gender_Female      10000 non-null  uint8  
 13  Gender_Male        10000 non-null  uint8  
dtypes: float64(2), int64(7), uint8(5)
memory usage: 752.1 KB
</pre>
</div>
</div>

</div>
</div>

</div>
<div class="cell border-box-sizing code_cell rendered">
<div class="input">
<div class="prompt input_prompt">In&nbsp;[176]:</div>
<div class="inner_cell">
    <div class="input_area">
<div class=" highlight hl-ipython3"><pre><span></span><span class="n">dfHEncoded_1</span><span class="o">.</span><span class="n">head</span><span class="p">(</span><span class="mi">10</span><span class="p">)</span>
</pre></div>

    </div>
</div>
</div>

<div class="output_wrapper">
<div class="output">


<div class="output_area">

    <div class="prompt output_prompt">Out[176]:</div>



<div class="output_html rendered_html output_subarea output_execute_result">
<div>
<style scoped>
    .dataframe tbody tr th:only-of-type {
        vertical-align: middle;
    }

    .dataframe tbody tr th {
        vertical-align: top;
    }

    .dataframe thead th {
        text-align: right;
    }
</style>
<table border="1" class="dataframe">
  <thead>
    <tr style="text-align: right;">
      <th></th>
      <th>CreditScore</th>
      <th>Age</th>
      <th>Tenure</th>
      <th>Balance</th>
      <th>NumOfProducts</th>
      <th>HasCrCard</th>
      <th>IsActiveMember</th>
      <th>EstimatedSalary</th>
      <th>Exited</th>
      <th>Geography_France</th>
      <th>Geography_Germany</th>
      <th>Geography_Spain</th>
      <th>Gender_Female</th>
      <th>Gender_Male</th>
    </tr>
  </thead>
  <tbody>
    <tr>
      <th>0</th>
      <td>619</td>
      <td>42</td>
      <td>2</td>
      <td>0.00</td>
      <td>1</td>
      <td>1</td>
      <td>1</td>
      <td>101348.88</td>
      <td>1</td>
      <td>1</td>
      <td>0</td>
      <td>0</td>
      <td>1</td>
      <td>0</td>
    </tr>
    <tr>
      <th>1</th>
      <td>608</td>
      <td>41</td>
      <td>1</td>
      <td>83807.86</td>
      <td>1</td>
      <td>0</td>
      <td>1</td>
      <td>112542.58</td>
      <td>0</td>
      <td>0</td>
      <td>0</td>
      <td>1</td>
      <td>1</td>
      <td>0</td>
    </tr>
    <tr>
      <th>2</th>
      <td>502</td>
      <td>42</td>
      <td>8</td>
      <td>159660.80</td>
      <td>3</td>
      <td>1</td>
      <td>0</td>
      <td>113931.57</td>
      <td>1</td>
      <td>1</td>
      <td>0</td>
      <td>0</td>
      <td>1</td>
      <td>0</td>
    </tr>
    <tr>
      <th>3</th>
      <td>699</td>
      <td>39</td>
      <td>1</td>
      <td>0.00</td>
      <td>2</td>
      <td>0</td>
      <td>0</td>
      <td>93826.63</td>
      <td>0</td>
      <td>1</td>
      <td>0</td>
      <td>0</td>
      <td>1</td>
      <td>0</td>
    </tr>
    <tr>
      <th>4</th>
      <td>850</td>
      <td>43</td>
      <td>2</td>
      <td>125510.82</td>
      <td>1</td>
      <td>1</td>
      <td>1</td>
      <td>79084.10</td>
      <td>0</td>
      <td>0</td>
      <td>0</td>
      <td>1</td>
      <td>1</td>
      <td>0</td>
    </tr>
    <tr>
      <th>5</th>
      <td>645</td>
      <td>44</td>
      <td>8</td>
      <td>113755.78</td>
      <td>2</td>
      <td>1</td>
      <td>0</td>
      <td>149756.71</td>
      <td>1</td>
      <td>0</td>
      <td>0</td>
      <td>1</td>
      <td>0</td>
      <td>1</td>
    </tr>
    <tr>
      <th>6</th>
      <td>822</td>
      <td>50</td>
      <td>7</td>
      <td>0.00</td>
      <td>2</td>
      <td>1</td>
      <td>1</td>
      <td>10062.80</td>
      <td>0</td>
      <td>1</td>
      <td>0</td>
      <td>0</td>
      <td>0</td>
      <td>1</td>
    </tr>
    <tr>
      <th>7</th>
      <td>376</td>
      <td>29</td>
      <td>4</td>
      <td>115046.74</td>
      <td>4</td>
      <td>1</td>
      <td>0</td>
      <td>119346.88</td>
      <td>1</td>
      <td>0</td>
      <td>1</td>
      <td>0</td>
      <td>1</td>
      <td>0</td>
    </tr>
    <tr>
      <th>8</th>
      <td>501</td>
      <td>44</td>
      <td>4</td>
      <td>142051.07</td>
      <td>2</td>
      <td>0</td>
      <td>1</td>
      <td>74940.50</td>
      <td>0</td>
      <td>1</td>
      <td>0</td>
      <td>0</td>
      <td>0</td>
      <td>1</td>
    </tr>
    <tr>
      <th>9</th>
      <td>684</td>
      <td>27</td>
      <td>2</td>
      <td>134603.88</td>
      <td>1</td>
      <td>1</td>
      <td>1</td>
      <td>71725.73</td>
      <td>0</td>
      <td>1</td>
      <td>0</td>
      <td>0</td>
      <td>0</td>
      <td>1</td>
    </tr>
  </tbody>
</table>
</div>
</div>

</div>

</div>
</div>

</div>
<div class="cell border-box-sizing code_cell rendered">
<div class="input">
<div class="prompt input_prompt">In&nbsp;[177]:</div>
<div class="inner_cell">
    <div class="input_area">
<div class=" highlight hl-ipython3"><pre><span></span><span class="c1"># plot histogram</span>
<span class="k">def</span> <span class="nf">plot_hist</span><span class="p">(</span><span class="n">data</span><span class="p">):</span>
    <span class="n">plt</span><span class="o">.</span><span class="n">figure</span><span class="p">()</span>
    <span class="n">data</span><span class="o">.</span><span class="n">hist</span><span class="p">(</span><span class="n">bins</span><span class="o">=</span><span class="mi">20</span><span class="p">,</span> <span class="n">figsize</span><span class="o">=</span><span class="p">(</span><span class="mi">25</span><span class="p">,</span><span class="mi">15</span><span class="p">),</span> <span class="n">color</span><span class="o">=</span><span class="s1">&#39;g&#39;</span><span class="p">,</span> <span class="p">)</span>
    <span class="n">plt</span><span class="o">.</span><span class="n">show</span><span class="p">()</span>
</pre></div>

    </div>
</div>
</div>

</div>
<div class="cell border-box-sizing code_cell rendered">
<div class="input">
<div class="prompt input_prompt">In&nbsp;[178]:</div>
<div class="inner_cell">
    <div class="input_area">
<div class=" highlight hl-ipython3"><pre><span></span><span class="n">plot_hist</span><span class="p">(</span><span class="n">dfHEncoded_1</span><span class="p">)</span>
</pre></div>

    </div>
</div>
</div>

<div class="output_wrapper">
<div class="output">


<div class="output_area">

    <div class="prompt"></div>




<div class="output_text output_subarea ">
<pre>&lt;Figure size 432x288 with 0 Axes&gt;</pre>
</div>

</div>

<div class="output_area">

    <div class="prompt"></div>




<div class="output_png output_subarea ">
<img src="data:image/png;base64,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
"
>
</div>

</div>

</div>
</div>

</div>
<div class="cell border-box-sizing code_cell rendered">
<div class="input">
<div class="prompt input_prompt">In&nbsp;[179]:</div>
<div class="inner_cell">
    <div class="input_area">
<div class=" highlight hl-ipython3"><pre><span></span><span class="k">def</span> <span class="nf">plot_correlation</span><span class="p">(</span><span class="n">data</span><span class="p">):</span>
    <span class="n">plt</span><span class="o">.</span><span class="n">figure</span><span class="p">(</span><span class="n">figsize</span> <span class="o">=</span> <span class="p">(</span><span class="mi">15</span><span class="p">,</span><span class="mi">15</span><span class="p">))</span>

    <span class="n">corr</span> <span class="o">=</span> <span class="n">data</span><span class="o">.</span><span class="n">corr</span><span class="p">()</span>

    <span class="c1"># Generate a mask for the upper triangle</span>
    <span class="n">mask</span> <span class="o">=</span> <span class="n">np</span><span class="o">.</span><span class="n">triu</span><span class="p">(</span><span class="n">np</span><span class="o">.</span><span class="n">ones_like</span><span class="p">(</span><span class="n">corr</span><span class="p">,</span> <span class="n">dtype</span><span class="o">=</span><span class="n">np</span><span class="o">.</span><span class="n">bool</span><span class="p">))</span>

    <span class="n">sns</span><span class="o">.</span><span class="n">heatmap</span><span class="p">(</span><span class="n">corr</span><span class="p">,</span> <span class="n">mask</span><span class="o">=</span><span class="n">mask</span><span class="p">,</span> <span class="n">vmax</span><span class="o">=.</span><span class="mi">3</span><span class="p">,</span> <span class="n">center</span><span class="o">=</span><span class="mi">0</span><span class="p">,</span> <span class="n">annot</span><span class="o">=</span><span class="kc">True</span><span class="p">,</span>
            <span class="n">square</span><span class="o">=</span><span class="kc">True</span><span class="p">,</span> <span class="n">linewidths</span><span class="o">=.</span><span class="mi">5</span><span class="p">,</span> <span class="n">cbar_kws</span><span class="o">=</span><span class="p">{</span><span class="s2">&quot;shrink&quot;</span><span class="p">:</span> <span class="o">.</span><span class="mi">5</span><span class="p">});</span>
</pre></div>

    </div>
</div>
</div>

</div>
<div class="cell border-box-sizing code_cell rendered">
<div class="input">
<div class="prompt input_prompt">In&nbsp;[180]:</div>
<div class="inner_cell">
    <div class="input_area">
<div class=" highlight hl-ipython3"><pre><span></span><span class="n">sns</span><span class="o">.</span><span class="n">distplot</span><span class="p">(</span><span class="n">dfHEncoded_1</span><span class="p">[</span><span class="s1">&#39;Age&#39;</span><span class="p">][</span><span class="n">dfHEncoded_1</span><span class="p">[</span><span class="s1">&#39;Exited&#39;</span><span class="p">]</span><span class="o">==</span><span class="mi">0</span><span class="p">],</span><span class="n">color</span><span class="o">=</span><span class="s1">&#39;green&#39;</span><span class="p">,</span><span class="n">label</span><span class="o">=</span><span class="s1">&#39;non-exited&#39;</span><span class="p">)</span>
<span class="n">sns</span><span class="o">.</span><span class="n">distplot</span><span class="p">(</span><span class="n">dfHEncoded_1</span><span class="p">[</span><span class="s1">&#39;Age&#39;</span><span class="p">][</span><span class="n">dfHEncoded_1</span><span class="p">[</span><span class="s1">&#39;Exited&#39;</span><span class="p">]</span><span class="o">==</span><span class="mi">1</span><span class="p">],</span><span class="n">color</span><span class="o">=</span><span class="s1">&#39;red&#39;</span><span class="p">,</span><span class="n">label</span><span class="o">=</span><span class="s1">&#39;exited&#39;</span><span class="p">)</span>
<span class="n">plt</span><span class="o">.</span><span class="n">show</span><span class="p">()</span>
</pre></div>

    </div>
</div>
</div>

<div class="output_wrapper">
<div class="output">


<div class="output_area">

    <div class="prompt"></div>




<div class="output_png output_subarea ">
<img src="data:image/png;base64,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
"
>
</div>

</div>

</div>
</div>

</div>
<div class="cell border-box-sizing code_cell rendered">
<div class="input">
<div class="prompt input_prompt">In&nbsp;[181]:</div>
<div class="inner_cell">
    <div class="input_area">
<div class=" highlight hl-ipython3"><pre><span></span><span class="n">sns</span><span class="o">.</span><span class="n">distplot</span><span class="p">(</span><span class="n">dfHEncoded_1</span><span class="p">[</span><span class="s1">&#39;CreditScore&#39;</span><span class="p">][</span><span class="n">dfHEncoded_1</span><span class="p">[</span><span class="s1">&#39;Exited&#39;</span><span class="p">]</span><span class="o">==</span><span class="mi">0</span><span class="p">],</span><span class="n">color</span><span class="o">=</span><span class="s1">&#39;green&#39;</span><span class="p">,</span><span class="n">label</span><span class="o">=</span><span class="s1">&#39;non-exited&#39;</span><span class="p">)</span>
<span class="n">sns</span><span class="o">.</span><span class="n">distplot</span><span class="p">(</span><span class="n">dfHEncoded_1</span><span class="p">[</span><span class="s1">&#39;CreditScore&#39;</span><span class="p">][</span><span class="n">dfHEncoded_1</span><span class="p">[</span><span class="s1">&#39;Exited&#39;</span><span class="p">]</span><span class="o">==</span><span class="mi">1</span><span class="p">],</span><span class="n">color</span><span class="o">=</span><span class="s1">&#39;red&#39;</span><span class="p">,</span><span class="n">label</span><span class="o">=</span><span class="s1">&#39;exited&#39;</span><span class="p">)</span>
<span class="n">plt</span><span class="o">.</span><span class="n">show</span><span class="p">()</span>
</pre></div>

    </div>
</div>
</div>

<div class="output_wrapper">
<div class="output">


<div class="output_area">

    <div class="prompt"></div>




<div class="output_png output_subarea ">
<img src="data:image/png;base64,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
"
>
</div>

</div>

</div>
</div>

</div>
<div class="cell border-box-sizing code_cell rendered">
<div class="input">
<div class="prompt input_prompt">In&nbsp;[182]:</div>
<div class="inner_cell">
    <div class="input_area">
<div class=" highlight hl-ipython3"><pre><span></span><span class="n">sns</span><span class="o">.</span><span class="n">distplot</span><span class="p">(</span><span class="n">dfHEncoded_1</span><span class="p">[</span><span class="s1">&#39;CreditScore&#39;</span><span class="p">][</span><span class="n">dfHEncoded_1</span><span class="p">[</span><span class="s1">&#39;Exited&#39;</span><span class="p">]</span><span class="o">==</span><span class="mi">0</span><span class="p">],</span><span class="n">color</span><span class="o">=</span><span class="s1">&#39;green&#39;</span><span class="p">,</span><span class="n">label</span><span class="o">=</span><span class="s1">&#39;non-exited&#39;</span><span class="p">)</span>
<span class="n">sns</span><span class="o">.</span><span class="n">distplot</span><span class="p">(</span><span class="n">dfHEncoded_1</span><span class="p">[</span><span class="s1">&#39;CreditScore&#39;</span><span class="p">][</span><span class="n">dfHEncoded_1</span><span class="p">[</span><span class="s1">&#39;Exited&#39;</span><span class="p">]</span><span class="o">==</span><span class="mi">1</span><span class="p">],</span><span class="n">color</span><span class="o">=</span><span class="s1">&#39;red&#39;</span><span class="p">,</span><span class="n">label</span><span class="o">=</span><span class="s1">&#39;exited&#39;</span><span class="p">)</span>
<span class="n">plt</span><span class="o">.</span><span class="n">show</span><span class="p">()</span>
</pre></div>

    </div>
</div>
</div>

<div class="output_wrapper">
<div class="output">


<div class="output_area">

    <div class="prompt"></div>




<div class="output_png output_subarea ">
<img src="data:image/png;base64,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
"
>
</div>

</div>

</div>
</div>

</div>
<div class="cell border-box-sizing code_cell rendered">
<div class="input">
<div class="prompt input_prompt">In&nbsp;[183]:</div>
<div class="inner_cell">
    <div class="input_area">
<div class=" highlight hl-ipython3"><pre><span></span><span class="n">sns</span><span class="o">.</span><span class="n">distplot</span><span class="p">(</span><span class="n">dfHEncoded_1</span><span class="p">[</span><span class="s1">&#39;Balance&#39;</span><span class="p">][</span><span class="n">dfHEncoded_1</span><span class="p">[</span><span class="s1">&#39;Exited&#39;</span><span class="p">]</span><span class="o">==</span><span class="mi">0</span><span class="p">],</span><span class="n">color</span><span class="o">=</span><span class="s1">&#39;green&#39;</span><span class="p">,</span><span class="n">label</span><span class="o">=</span><span class="s1">&#39;non-exited&#39;</span><span class="p">)</span>
<span class="n">sns</span><span class="o">.</span><span class="n">distplot</span><span class="p">(</span><span class="n">dfHEncoded_1</span><span class="p">[</span><span class="s1">&#39;Balance&#39;</span><span class="p">][</span><span class="n">dfHEncoded_1</span><span class="p">[</span><span class="s1">&#39;Exited&#39;</span><span class="p">]</span><span class="o">==</span><span class="mi">1</span><span class="p">],</span><span class="n">color</span><span class="o">=</span><span class="s1">&#39;red&#39;</span><span class="p">,</span><span class="n">label</span><span class="o">=</span><span class="s1">&#39;exited&#39;</span><span class="p">)</span>
<span class="n">plt</span><span class="o">.</span><span class="n">show</span><span class="p">()</span>
</pre></div>

    </div>
</div>
</div>

<div class="output_wrapper">
<div class="output">


<div class="output_area">

    <div class="prompt"></div>




<div class="output_png output_subarea ">
<img src="data:image/png;base64,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
"
>
</div>

</div>

</div>
</div>

</div>
<div class="cell border-box-sizing code_cell rendered">
<div class="input">
<div class="prompt input_prompt">In&nbsp;[184]:</div>
<div class="inner_cell">
    <div class="input_area">
<div class=" highlight hl-ipython3"><pre><span></span><span class="n">sns</span><span class="o">.</span><span class="n">distplot</span><span class="p">(</span><span class="n">dfHEncoded_1</span><span class="p">[</span><span class="s1">&#39;HasCrCard&#39;</span><span class="p">][</span><span class="n">dfHEncoded_1</span><span class="p">[</span><span class="s1">&#39;Exited&#39;</span><span class="p">]</span><span class="o">==</span><span class="mi">0</span><span class="p">],</span><span class="n">color</span><span class="o">=</span><span class="s1">&#39;green&#39;</span><span class="p">,</span><span class="n">label</span><span class="o">=</span><span class="s1">&#39;non-exited&#39;</span><span class="p">)</span>
<span class="n">sns</span><span class="o">.</span><span class="n">distplot</span><span class="p">(</span><span class="n">dfHEncoded_1</span><span class="p">[</span><span class="s1">&#39;HasCrCard&#39;</span><span class="p">][</span><span class="n">dfHEncoded_1</span><span class="p">[</span><span class="s1">&#39;Exited&#39;</span><span class="p">]</span><span class="o">==</span><span class="mi">1</span><span class="p">],</span><span class="n">color</span><span class="o">=</span><span class="s1">&#39;red&#39;</span><span class="p">,</span><span class="n">label</span><span class="o">=</span><span class="s1">&#39;exited&#39;</span><span class="p">)</span>
<span class="n">plt</span><span class="o">.</span><span class="n">show</span><span class="p">()</span>
</pre></div>

    </div>
</div>
</div>

<div class="output_wrapper">
<div class="output">


<div class="output_area">

    <div class="prompt"></div>




<div class="output_png output_subarea ">
<img src="data:image/png;base64,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
"
>
</div>

</div>

</div>
</div>

</div>
<div class="cell border-box-sizing code_cell rendered">
<div class="input">
<div class="prompt input_prompt">In&nbsp;[185]:</div>
<div class="inner_cell">
    <div class="input_area">
<div class=" highlight hl-ipython3"><pre><span></span><span class="n">sns</span><span class="o">.</span><span class="n">distplot</span><span class="p">(</span><span class="n">dfHEncoded_1</span><span class="p">[</span><span class="s1">&#39;IsActiveMember&#39;</span><span class="p">][</span><span class="n">dfHEncoded_1</span><span class="p">[</span><span class="s1">&#39;Exited&#39;</span><span class="p">]</span><span class="o">==</span><span class="mi">0</span><span class="p">],</span><span class="n">color</span><span class="o">=</span><span class="s1">&#39;green&#39;</span><span class="p">,</span><span class="n">label</span><span class="o">=</span><span class="s1">&#39;non-exited&#39;</span><span class="p">)</span>
<span class="n">sns</span><span class="o">.</span><span class="n">distplot</span><span class="p">(</span><span class="n">dfHEncoded_1</span><span class="p">[</span><span class="s1">&#39;IsActiveMember&#39;</span><span class="p">][</span><span class="n">dfHEncoded_1</span><span class="p">[</span><span class="s1">&#39;Exited&#39;</span><span class="p">]</span><span class="o">==</span><span class="mi">1</span><span class="p">],</span><span class="n">color</span><span class="o">=</span><span class="s1">&#39;red&#39;</span><span class="p">,</span><span class="n">label</span><span class="o">=</span><span class="s1">&#39;exited&#39;</span><span class="p">)</span>
<span class="n">plt</span><span class="o">.</span><span class="n">show</span><span class="p">()</span>
</pre></div>

    </div>
</div>
</div>

<div class="output_wrapper">
<div class="output">


<div class="output_area">

    <div class="prompt"></div>




<div class="output_png output_subarea ">
<img src="data:image/png;base64,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
"
>
</div>

</div>

</div>
</div>

</div>
<div class="cell border-box-sizing code_cell rendered">
<div class="input">
<div class="prompt input_prompt">In&nbsp;[186]:</div>
<div class="inner_cell">
    <div class="input_area">
<div class=" highlight hl-ipython3"><pre><span></span><span class="n">sns</span><span class="o">.</span><span class="n">distplot</span><span class="p">(</span><span class="n">dfHEncoded_1</span><span class="p">[</span><span class="s1">&#39;Gender_Female&#39;</span><span class="p">][</span><span class="n">dfHEncoded_1</span><span class="p">[</span><span class="s1">&#39;Exited&#39;</span><span class="p">]</span><span class="o">==</span><span class="mi">0</span><span class="p">],</span><span class="n">color</span><span class="o">=</span><span class="s1">&#39;green&#39;</span><span class="p">,</span><span class="n">label</span><span class="o">=</span><span class="s1">&#39;non-exited&#39;</span><span class="p">)</span>
<span class="n">sns</span><span class="o">.</span><span class="n">distplot</span><span class="p">(</span><span class="n">dfHEncoded_1</span><span class="p">[</span><span class="s1">&#39;Gender_Female&#39;</span><span class="p">][</span><span class="n">dfHEncoded_1</span><span class="p">[</span><span class="s1">&#39;Exited&#39;</span><span class="p">]</span><span class="o">==</span><span class="mi">1</span><span class="p">],</span><span class="n">color</span><span class="o">=</span><span class="s1">&#39;red&#39;</span><span class="p">,</span><span class="n">label</span><span class="o">=</span><span class="s1">&#39;exited&#39;</span><span class="p">)</span>
<span class="n">plt</span><span class="o">.</span><span class="n">show</span><span class="p">()</span>
</pre></div>

    </div>
</div>
</div>

<div class="output_wrapper">
<div class="output">


<div class="output_area">

    <div class="prompt"></div>




<div class="output_png output_subarea ">
<img src="data:image/png;base64,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
"
>
</div>

</div>

</div>
</div>

</div>
<div class="cell border-box-sizing code_cell rendered">
<div class="input">
<div class="prompt input_prompt">In&nbsp;[187]:</div>
<div class="inner_cell">
    <div class="input_area">
<div class=" highlight hl-ipython3"><pre><span></span><span class="n">sns</span><span class="o">.</span><span class="n">distplot</span><span class="p">(</span><span class="n">dfHEncoded_1</span><span class="p">[</span><span class="s1">&#39;Gender_Male&#39;</span><span class="p">][</span><span class="n">dfHEncoded_1</span><span class="p">[</span><span class="s1">&#39;Exited&#39;</span><span class="p">]</span><span class="o">==</span><span class="mi">0</span><span class="p">],</span><span class="n">color</span><span class="o">=</span><span class="s1">&#39;green&#39;</span><span class="p">,</span><span class="n">label</span><span class="o">=</span><span class="s1">&#39;non-exited&#39;</span><span class="p">)</span>
<span class="n">sns</span><span class="o">.</span><span class="n">distplot</span><span class="p">(</span><span class="n">dfHEncoded_1</span><span class="p">[</span><span class="s1">&#39;Gender_Male&#39;</span><span class="p">][</span><span class="n">dfHEncoded_1</span><span class="p">[</span><span class="s1">&#39;Exited&#39;</span><span class="p">]</span><span class="o">==</span><span class="mi">1</span><span class="p">],</span><span class="n">color</span><span class="o">=</span><span class="s1">&#39;red&#39;</span><span class="p">,</span><span class="n">label</span><span class="o">=</span><span class="s1">&#39;exited&#39;</span><span class="p">)</span>
<span class="n">plt</span><span class="o">.</span><span class="n">show</span><span class="p">()</span>
</pre></div>

    </div>
</div>
</div>

<div class="output_wrapper">
<div class="output">


<div class="output_area">

    <div class="prompt"></div>




<div class="output_png output_subarea ">
<img src="data:image/png;base64,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
"
>
</div>

</div>

</div>
</div>

</div>
<div class="cell border-box-sizing code_cell rendered">
<div class="input">
<div class="prompt input_prompt">In&nbsp;[188]:</div>
<div class="inner_cell">
    <div class="input_area">
<div class=" highlight hl-ipython3"><pre><span></span><span class="n">sns</span><span class="o">.</span><span class="n">countplot</span><span class="p">(</span><span class="n">x</span><span class="o">=</span><span class="s1">&#39;NumOfProducts&#39;</span><span class="p">,</span> <span class="n">hue</span><span class="o">=</span><span class="s1">&#39;Exited&#39;</span><span class="p">,</span> <span class="n">data</span><span class="o">=</span><span class="n">dfHEncoded_1</span><span class="p">)</span>
</pre></div>

    </div>
</div>
</div>

<div class="output_wrapper">
<div class="output">


<div class="output_area">

    <div class="prompt output_prompt">Out[188]:</div>




<div class="output_text output_subarea output_execute_result">
<pre>&lt;matplotlib.axes._subplots.AxesSubplot at 0x7fdececcd390&gt;</pre>
</div>

</div>

<div class="output_area">

    <div class="prompt"></div>




<div class="output_png output_subarea ">
<img src="data:image/png;base64,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
"
>
</div>

</div>

</div>
</div>

</div>
<div class="cell border-box-sizing code_cell rendered">
<div class="input">
<div class="prompt input_prompt">In&nbsp;[&nbsp;]:</div>
<div class="inner_cell">
    <div class="input_area">
<div class=" highlight hl-ipython3"><pre><span></span> 
</pre></div>

    </div>
</div>
</div>

</div>
<div class="cell border-box-sizing code_cell rendered">
<div class="input">
<div class="prompt input_prompt">In&nbsp;[189]:</div>
<div class="inner_cell">
    <div class="input_area">
<div class=" highlight hl-ipython3"><pre><span></span><span class="n">sns</span><span class="o">.</span><span class="n">countplot</span><span class="p">(</span><span class="n">x</span><span class="o">=</span><span class="s1">&#39;Gender_Male&#39;</span><span class="p">,</span> <span class="n">hue</span><span class="o">=</span><span class="s1">&#39;Exited&#39;</span><span class="p">,</span> <span class="n">data</span><span class="o">=</span><span class="n">dfHEncoded_1</span><span class="p">)</span>
</pre></div>

    </div>
</div>
</div>

<div class="output_wrapper">
<div class="output">


<div class="output_area">

    <div class="prompt output_prompt">Out[189]:</div>




<div class="output_text output_subarea output_execute_result">
<pre>&lt;matplotlib.axes._subplots.AxesSubplot at 0x7fdececd3e50&gt;</pre>
</div>

</div>

<div class="output_area">

    <div class="prompt"></div>




<div class="output_png output_subarea ">
<img src="data:image/png;base64,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
"
>
</div>

</div>

</div>
</div>

</div>
<div class="cell border-box-sizing code_cell rendered">
<div class="input">
<div class="prompt input_prompt">In&nbsp;[190]:</div>
<div class="inner_cell">
    <div class="input_area">
<div class=" highlight hl-ipython3"><pre><span></span><span class="n">sns</span><span class="o">.</span><span class="n">countplot</span><span class="p">(</span><span class="n">x</span><span class="o">=</span><span class="s1">&#39;Gender_Female&#39;</span><span class="p">,</span> <span class="n">hue</span><span class="o">=</span><span class="s1">&#39;Exited&#39;</span><span class="p">,</span> <span class="n">data</span><span class="o">=</span><span class="n">dfHEncoded_1</span><span class="p">)</span>
</pre></div>

    </div>
</div>
</div>

<div class="output_wrapper">
<div class="output">


<div class="output_area">

    <div class="prompt output_prompt">Out[190]:</div>




<div class="output_text output_subarea output_execute_result">
<pre>&lt;matplotlib.axes._subplots.AxesSubplot at 0x7fdf09a8ab10&gt;</pre>
</div>

</div>

<div class="output_area">

    <div class="prompt"></div>




<div class="output_png output_subarea ">
<img src="data:image/png;base64,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
"
>
</div>

</div>

</div>
</div>

</div>
<div class="cell border-box-sizing code_cell rendered">
<div class="input">
<div class="prompt input_prompt">In&nbsp;[191]:</div>
<div class="inner_cell">
    <div class="input_area">
<div class=" highlight hl-ipython3"><pre><span></span><span class="n">plot_correlation</span><span class="p">(</span><span class="n">dfHEncoded_1</span><span class="p">)</span>
</pre></div>

    </div>
</div>
</div>

<div class="output_wrapper">
<div class="output">


<div class="output_area">

    <div class="prompt"></div>




<div class="output_png output_subarea ">
<img src="data:image/png;base64,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
"
>
</div>

</div>

</div>
</div>

</div>
<div class="cell border-box-sizing text_cell rendered"><div class="prompt input_prompt">
</div><div class="inner_cell">
<div class="text_cell_render border-box-sizing rendered_html">
<h3 id="--">--<a class="anchor-link" href="#--">&#182;</a></h3><ul>
<li>Age, balance have some relation with target feature'Exited' </li>
<li>Customers with two product have 'Exited' most</li>
<li>Customers with creditscore higher than 840 have less 'Exited'</li>
</ul>

</div>
</div>
</div>
<div class="cell border-box-sizing text_cell rendered"><div class="prompt input_prompt">
</div><div class="inner_cell">
<div class="text_cell_render border-box-sizing rendered_html">
<h3 id="4.-Divide-the-data-set-into-training-and-test-sets">4. Divide the data set into training and test sets<a class="anchor-link" href="#4.-Divide-the-data-set-into-training-and-test-sets">&#182;</a></h3>
</div>
</div>
</div>
<div class="cell border-box-sizing code_cell rendered">
<div class="input">
<div class="prompt input_prompt">In&nbsp;[192]:</div>
<div class="inner_cell">
    <div class="input_area">
<div class=" highlight hl-ipython3"><pre><span></span><span class="n">X</span> <span class="o">=</span> <span class="n">dfHEncoded_1</span><span class="o">.</span><span class="n">drop</span><span class="p">([</span><span class="s1">&#39;Exited&#39;</span><span class="p">],</span> <span class="n">axis</span> <span class="o">=</span> <span class="mi">1</span><span class="p">)</span>
<span class="n">y</span> <span class="o">=</span> <span class="n">dfHEncoded_1</span><span class="p">[</span><span class="s1">&#39;Exited&#39;</span><span class="p">]</span>
</pre></div>

    </div>
</div>
</div>

</div>
<div class="cell border-box-sizing code_cell rendered">
<div class="input">
<div class="prompt input_prompt">In&nbsp;[193]:</div>
<div class="inner_cell">
    <div class="input_area">
<div class=" highlight hl-ipython3"><pre><span></span><span class="n">X</span><span class="o">.</span><span class="n">info</span><span class="p">()</span>
</pre></div>

    </div>
</div>
</div>

<div class="output_wrapper">
<div class="output">


<div class="output_area">

    <div class="prompt"></div>


<div class="output_subarea output_stream output_stdout output_text">
<pre>&lt;class &#39;pandas.core.frame.DataFrame&#39;&gt;
RangeIndex: 10000 entries, 0 to 9999
Data columns (total 13 columns):
 #   Column             Non-Null Count  Dtype  
---  ------             --------------  -----  
 0   CreditScore        10000 non-null  int64  
 1   Age                10000 non-null  int64  
 2   Tenure             10000 non-null  int64  
 3   Balance            10000 non-null  float64
 4   NumOfProducts      10000 non-null  int64  
 5   HasCrCard          10000 non-null  int64  
 6   IsActiveMember     10000 non-null  int64  
 7   EstimatedSalary    10000 non-null  float64
 8   Geography_France   10000 non-null  uint8  
 9   Geography_Germany  10000 non-null  uint8  
 10  Geography_Spain    10000 non-null  uint8  
 11  Gender_Female      10000 non-null  uint8  
 12  Gender_Male        10000 non-null  uint8  
dtypes: float64(2), int64(6), uint8(5)
memory usage: 674.0 KB
</pre>
</div>
</div>

</div>
</div>

</div>
<div class="cell border-box-sizing code_cell rendered">
<div class="input">
<div class="prompt input_prompt">In&nbsp;[194]:</div>
<div class="inner_cell">
    <div class="input_area">
<div class=" highlight hl-ipython3"><pre><span></span><span class="n">X</span><span class="o">.</span><span class="n">head</span><span class="p">()</span>
</pre></div>

    </div>
</div>
</div>

<div class="output_wrapper">
<div class="output">


<div class="output_area">

    <div class="prompt output_prompt">Out[194]:</div>



<div class="output_html rendered_html output_subarea output_execute_result">
<div>
<style scoped>
    .dataframe tbody tr th:only-of-type {
        vertical-align: middle;
    }

    .dataframe tbody tr th {
        vertical-align: top;
    }

    .dataframe thead th {
        text-align: right;
    }
</style>
<table border="1" class="dataframe">
  <thead>
    <tr style="text-align: right;">
      <th></th>
      <th>CreditScore</th>
      <th>Age</th>
      <th>Tenure</th>
      <th>Balance</th>
      <th>NumOfProducts</th>
      <th>HasCrCard</th>
      <th>IsActiveMember</th>
      <th>EstimatedSalary</th>
      <th>Geography_France</th>
      <th>Geography_Germany</th>
      <th>Geography_Spain</th>
      <th>Gender_Female</th>
      <th>Gender_Male</th>
    </tr>
  </thead>
  <tbody>
    <tr>
      <th>0</th>
      <td>619</td>
      <td>42</td>
      <td>2</td>
      <td>0.00</td>
      <td>1</td>
      <td>1</td>
      <td>1</td>
      <td>101348.88</td>
      <td>1</td>
      <td>0</td>
      <td>0</td>
      <td>1</td>
      <td>0</td>
    </tr>
    <tr>
      <th>1</th>
      <td>608</td>
      <td>41</td>
      <td>1</td>
      <td>83807.86</td>
      <td>1</td>
      <td>0</td>
      <td>1</td>
      <td>112542.58</td>
      <td>0</td>
      <td>0</td>
      <td>1</td>
      <td>1</td>
      <td>0</td>
    </tr>
    <tr>
      <th>2</th>
      <td>502</td>
      <td>42</td>
      <td>8</td>
      <td>159660.80</td>
      <td>3</td>
      <td>1</td>
      <td>0</td>
      <td>113931.57</td>
      <td>1</td>
      <td>0</td>
      <td>0</td>
      <td>1</td>
      <td>0</td>
    </tr>
    <tr>
      <th>3</th>
      <td>699</td>
      <td>39</td>
      <td>1</td>
      <td>0.00</td>
      <td>2</td>
      <td>0</td>
      <td>0</td>
      <td>93826.63</td>
      <td>1</td>
      <td>0</td>
      <td>0</td>
      <td>1</td>
      <td>0</td>
    </tr>
    <tr>
      <th>4</th>
      <td>850</td>
      <td>43</td>
      <td>2</td>
      <td>125510.82</td>
      <td>1</td>
      <td>1</td>
      <td>1</td>
      <td>79084.10</td>
      <td>0</td>
      <td>0</td>
      <td>1</td>
      <td>1</td>
      <td>0</td>
    </tr>
  </tbody>
</table>
</div>
</div>

</div>

</div>
</div>

</div>
<div class="cell border-box-sizing code_cell rendered">
<div class="input">
<div class="prompt input_prompt">In&nbsp;[195]:</div>
<div class="inner_cell">
    <div class="input_area">
<div class=" highlight hl-ipython3"><pre><span></span><span class="c1">#test train split</span>
<span class="n">test_size</span> <span class="o">=</span> <span class="mf">0.30</span> <span class="c1"># taking 70:30 training and test set</span>
<span class="n">seed</span> <span class="o">=</span> <span class="mi">7</span>  <span class="c1"># Random numbmer seeding for reapeatability of the code</span>
<span class="n">X_train</span><span class="p">,</span> <span class="n">X_test</span><span class="p">,</span> <span class="n">y_train</span><span class="p">,</span> <span class="n">y_test</span> <span class="o">=</span> <span class="n">train_test_split</span><span class="p">(</span><span class="n">X</span><span class="p">,</span> <span class="n">y</span><span class="p">,</span> <span class="n">test_size</span><span class="o">=</span><span class="n">test_size</span><span class="p">,</span> <span class="n">random_state</span><span class="o">=</span><span class="n">seed</span><span class="p">)</span>
</pre></div>

    </div>
</div>
</div>

</div>
<div class="cell border-box-sizing code_cell rendered">
<div class="input">
<div class="prompt input_prompt">In&nbsp;[196]:</div>
<div class="inner_cell">
    <div class="input_area">
<div class=" highlight hl-ipython3"><pre><span></span><span class="c1">#hCheck Shape of test/trainset</span>
<span class="n">X_train</span><span class="o">.</span><span class="n">shape</span><span class="p">,</span> <span class="n">X_test</span><span class="o">.</span><span class="n">shape</span><span class="p">,</span> <span class="n">y_train</span><span class="o">.</span><span class="n">shape</span><span class="p">,</span> <span class="n">y_test</span><span class="o">.</span><span class="n">shape</span>
</pre></div>

    </div>
</div>
</div>

<div class="output_wrapper">
<div class="output">


<div class="output_area">

    <div class="prompt output_prompt">Out[196]:</div>




<div class="output_text output_subarea output_execute_result">
<pre>((7000, 13), (3000, 13), (7000,), (3000,))</pre>
</div>

</div>

</div>
</div>

</div>
<div class="cell border-box-sizing text_cell rendered"><div class="prompt input_prompt">
</div><div class="inner_cell">
<div class="text_cell_render border-box-sizing rendered_html">
<h3 id="5.-Normalize-the-train-and-test-data">5. Normalize the train and test data<a class="anchor-link" href="#5.-Normalize-the-train-and-test-data">&#182;</a></h3>
</div>
</div>
</div>
<div class="cell border-box-sizing code_cell rendered">
<div class="input">
<div class="prompt input_prompt">In&nbsp;[197]:</div>
<div class="inner_cell">
    <div class="input_area">
<div class=" highlight hl-ipython3"><pre><span></span><span class="kn">from</span> <span class="nn">sklearn.preprocessing</span> <span class="k">import</span> <span class="n">StandardScaler</span> <span class="c1"># Z-scores</span>

<span class="c1"># Define the scaler </span>
<span class="n">scaler</span> <span class="o">=</span> <span class="n">StandardScaler</span><span class="p">()</span><span class="o">.</span><span class="n">fit</span><span class="p">(</span><span class="n">X_train</span><span class="p">)</span>

<span class="c1"># Scale the train set</span>
<span class="n">X_train</span> <span class="o">=</span> <span class="n">scaler</span><span class="o">.</span><span class="n">transform</span><span class="p">(</span><span class="n">X_train</span><span class="p">)</span>

<span class="c1"># Scale the test set</span>
<span class="n">X_test</span> <span class="o">=</span> <span class="n">scaler</span><span class="o">.</span><span class="n">transform</span><span class="p">(</span><span class="n">X_test</span><span class="p">)</span>
</pre></div>

    </div>
</div>
</div>

</div>
<div class="cell border-box-sizing text_cell rendered"><div class="prompt input_prompt">
</div><div class="inner_cell">
<div class="text_cell_render border-box-sizing rendered_html">
<h3 id="6.Initialize-&amp;-build-the-model.-Identify-the-points-of-improvement-and-implement-the-same-the-same.">6.Initialize &amp; build the model. Identify the points of improvement and implement the same the same.<a class="anchor-link" href="#6.Initialize-&amp;-build-the-model.-Identify-the-points-of-improvement-and-implement-the-same-the-same.">&#182;</a></h3>
</div>
</div>
</div>
<div class="cell border-box-sizing code_cell rendered">
<div class="input">
<div class="prompt input_prompt">In&nbsp;[198]:</div>
<div class="inner_cell">
    <div class="input_area">
<div class=" highlight hl-ipython3"><pre><span></span><span class="c1"># Using Tensorflow Keras instead of the original Keras</span>

<span class="kn">from</span> <span class="nn">tensorflow.keras</span> <span class="k">import</span> <span class="n">Sequential</span>
<span class="kn">from</span> <span class="nn">tensorflow.keras.layers</span> <span class="k">import</span> <span class="n">Dense</span>


<span class="n">ncols</span> <span class="o">=</span> <span class="n">X_train</span><span class="o">.</span><span class="n">shape</span><span class="p">[</span><span class="mi">0</span><span class="p">]</span>

<span class="c1"># Initialize the constructor</span>
<span class="n">model</span> <span class="o">=</span> <span class="n">Sequential</span><span class="p">()</span>

<span class="c1"># Add an first hidden layer </span>
<span class="n">model</span><span class="o">.</span><span class="n">add</span><span class="p">(</span><span class="n">Dense</span><span class="p">(</span><span class="mi">20</span><span class="p">,</span> <span class="n">activation</span><span class="o">=</span><span class="s1">&#39;relu&#39;</span><span class="p">,</span> <span class="n">kernel_initializer</span><span class="o">=</span><span class="s1">&#39;normal&#39;</span><span class="p">))</span>

<span class="c1"># second hidden layer</span>
<span class="n">model</span><span class="o">.</span><span class="n">add</span><span class="p">(</span><span class="n">Dense</span><span class="p">(</span><span class="mi">10</span><span class="p">,</span> <span class="n">activation</span><span class="o">=</span><span class="s1">&#39;relu&#39;</span><span class="p">,</span> <span class="n">kernel_initializer</span><span class="o">=</span><span class="s1">&#39;normal&#39;</span><span class="p">))</span>


<span class="c1"># Add an output layer with one neuron and no activation specified</span>
<span class="n">model</span><span class="o">.</span><span class="n">add</span><span class="p">(</span><span class="n">Dense</span><span class="p">(</span><span class="mi">1</span><span class="p">))</span>
</pre></div>

    </div>
</div>
</div>

</div>
<div class="cell border-box-sizing code_cell rendered">
<div class="input">
<div class="prompt input_prompt">In&nbsp;[199]:</div>
<div class="inner_cell">
    <div class="input_area">
<div class=" highlight hl-ipython3"><pre><span></span><span class="c1">#sgd = optimizers.Adam(lr = 0.001)</span>
<span class="c1">#model.compile(optimizer = sgd, loss = &#39;binary_crossentropy&#39;, metrics=[&#39;accuracy&#39;])</span>
<span class="n">optimizer</span> <span class="o">=</span> <span class="n">tf</span><span class="o">.</span><span class="n">keras</span><span class="o">.</span><span class="n">optimizers</span><span class="o">.</span><span class="n">Adam</span><span class="p">(</span><span class="mf">0.01</span><span class="p">)</span> <span class="c1"># learning rate = 0.01</span>

<span class="n">model</span><span class="o">.</span><span class="n">compile</span><span class="p">(</span><span class="n">loss</span><span class="o">=</span><span class="s1">&#39;binary_crossentropy&#39;</span><span class="p">,</span>
              <span class="n">optimizer</span><span class="o">=</span><span class="n">optimizer</span> <span class="p">,</span> <span class="n">metrics</span> <span class="o">=</span> <span class="p">[</span><span class="s1">&#39;mae&#39;</span> <span class="p">,</span> <span class="s1">&#39;mse&#39;</span><span class="p">])</span>
                   

<span class="c1"># epochs = 500</span>
<span class="n">epochs</span> <span class="o">=</span> <span class="mi">50</span>
</pre></div>

    </div>
</div>
</div>

</div>
<div class="cell border-box-sizing code_cell rendered">
<div class="input">
<div class="prompt input_prompt">In&nbsp;[200]:</div>
<div class="inner_cell">
    <div class="input_area">
<div class=" highlight hl-ipython3"><pre><span></span><span class="n">model</span><span class="o">.</span><span class="n">fit</span><span class="p">(</span><span class="n">X_train</span><span class="p">,</span> <span class="n">y_train</span><span class="p">,</span> <span class="n">epochs</span><span class="o">=</span><span class="n">epochs</span><span class="p">,</span> <span class="n">validation_split</span> <span class="o">=</span> <span class="mf">0.2</span><span class="p">,</span> <span class="n">verbose</span> <span class="o">=</span> <span class="kc">False</span><span class="p">)</span>
</pre></div>

    </div>
</div>
</div>

<div class="output_wrapper">
<div class="output">


<div class="output_area">

    <div class="prompt output_prompt">Out[200]:</div>




<div class="output_text output_subarea output_execute_result">
<pre>&lt;tensorflow.python.keras.callbacks.History at 0x7fdeceda76d0&gt;</pre>
</div>

</div>

</div>
</div>

</div>
<div class="cell border-box-sizing code_cell rendered">
<div class="input">
<div class="prompt input_prompt">In&nbsp;[201]:</div>
<div class="inner_cell">
    <div class="input_area">
<div class=" highlight hl-ipython3"><pre><span></span><span class="n">model</span><span class="o">.</span><span class="n">summary</span><span class="p">()</span>
</pre></div>

    </div>
</div>
</div>

<div class="output_wrapper">
<div class="output">


<div class="output_area">

    <div class="prompt"></div>


<div class="output_subarea output_stream output_stdout output_text">
<pre>Model: &#34;sequential_5&#34;
_________________________________________________________________
Layer (type)                 Output Shape              Param #   
=================================================================
dense_12 (Dense)             (None, 20)                280       
_________________________________________________________________
dense_13 (Dense)             (None, 10)                210       
_________________________________________________________________
dense_14 (Dense)             (None, 1)                 11        
=================================================================
Total params: 501
Trainable params: 501
Non-trainable params: 0
_________________________________________________________________
</pre>
</div>
</div>

</div>
</div>

</div>
<div class="cell border-box-sizing code_cell rendered">
<div class="input">
<div class="prompt input_prompt">In&nbsp;[202]:</div>
<div class="inner_cell">
    <div class="input_area">
<div class=" highlight hl-ipython3"><pre><span></span><span class="c1"># Convert Data into Numpy arrays</span>
<span class="n">X_train_array</span><span class="o">=</span><span class="n">np</span><span class="o">.</span><span class="n">array</span><span class="p">(</span><span class="n">X_train</span><span class="p">)</span>
<span class="n">X_test_array</span><span class="o">=</span><span class="n">np</span><span class="o">.</span><span class="n">array</span><span class="p">(</span><span class="n">X_test</span><span class="p">)</span>
<span class="n">y_train_array</span><span class="o">=</span><span class="n">np</span><span class="o">.</span><span class="n">array</span><span class="p">(</span><span class="n">y_train</span><span class="p">)</span>
<span class="n">y_test_array</span><span class="o">=</span><span class="n">np</span><span class="o">.</span><span class="n">array</span><span class="p">(</span><span class="n">y_test</span><span class="p">)</span>
</pre></div>

    </div>
</div>
</div>

</div>
<div class="cell border-box-sizing code_cell rendered">
<div class="input">
<div class="prompt input_prompt">In&nbsp;[203]:</div>
<div class="inner_cell">
    <div class="input_area">
<div class=" highlight hl-ipython3"><pre><span></span><span class="n">model</span><span class="o">.</span><span class="n">predict</span><span class="p">(</span><span class="n">X_test_array</span><span class="p">)[:</span><span class="mi">5</span><span class="p">]</span> <span class="c1"># Observe first 5 probabilities</span>
</pre></div>

    </div>
</div>
</div>

<div class="output_wrapper">
<div class="output">


<div class="output_area">

    <div class="prompt output_prompt">Out[203]:</div>




<div class="output_text output_subarea output_execute_result">
<pre>array([[0.17883885],
       [0.0459817 ],
       [0.0459817 ],
       [0.67510206],
       [0.0459817 ]], dtype=float32)</pre>
</div>

</div>

</div>
</div>

</div>
<div class="cell border-box-sizing code_cell rendered">
<div class="input">
<div class="prompt input_prompt">In&nbsp;[204]:</div>
<div class="inner_cell">
    <div class="input_area">
<div class=" highlight hl-ipython3"><pre><span></span><span class="n">th</span><span class="o">=</span><span class="mf">0.5</span> <span class="c1"># Threshold</span>
<span class="n">y_test_preds</span> <span class="o">=</span> <span class="n">np</span><span class="o">.</span><span class="n">where</span><span class="p">(</span><span class="n">model</span><span class="o">.</span><span class="n">predict</span><span class="p">(</span><span class="n">X_test_array</span><span class="p">)</span> <span class="o">&gt;</span> <span class="n">th</span><span class="p">,</span> <span class="mi">1</span><span class="p">,</span> <span class="mi">0</span><span class="p">)</span>
</pre></div>

    </div>
</div>
</div>

</div>
<div class="cell border-box-sizing code_cell rendered">
<div class="input">
<div class="prompt input_prompt">In&nbsp;[205]:</div>
<div class="inner_cell">
    <div class="input_area">
<div class=" highlight hl-ipython3"><pre><span></span><span class="n">y_test_preds</span><span class="p">[:</span><span class="mi">5</span><span class="p">]</span> <span class="c1"># Observe First 5 predictions</span>
</pre></div>

    </div>
</div>
</div>

<div class="output_wrapper">
<div class="output">


<div class="output_area">

    <div class="prompt output_prompt">Out[205]:</div>




<div class="output_text output_subarea output_execute_result">
<pre>array([[0],
       [0],
       [0],
       [1],
       [0]])</pre>
</div>

</div>

</div>
</div>

</div>
<div class="cell border-box-sizing code_cell rendered">
<div class="input">
<div class="prompt input_prompt">In&nbsp;[206]:</div>
<div class="inner_cell">
    <div class="input_area">
<div class=" highlight hl-ipython3"><pre><span></span><span class="kn">from</span> <span class="nn">sklearn</span> <span class="k">import</span> <span class="n">metrics</span>
<span class="kn">from</span> <span class="nn">sklearn.metrics</span> <span class="k">import</span> <span class="n">accuracy_score</span><span class="p">,</span> <span class="n">confusion_matrix</span><span class="p">,</span> <span class="n">recall_score</span><span class="p">,</span> <span class="n">precision_score</span><span class="p">,</span> <span class="n">f1_score</span><span class="p">,</span> <span class="n">auc</span>
<span class="c1"># Confusion matrix with optimal Threshold on test set</span>
<span class="n">metrics</span><span class="o">.</span><span class="n">confusion_matrix</span><span class="p">(</span><span class="n">y_test</span><span class="p">,</span> <span class="n">y_test_preds</span><span class="p">)</span>
</pre></div>

    </div>
</div>
</div>

<div class="output_wrapper">
<div class="output">


<div class="output_area">

    <div class="prompt output_prompt">Out[206]:</div>




<div class="output_text output_subarea output_execute_result">
<pre>array([[2274,  121],
       [ 298,  307]])</pre>
</div>

</div>

</div>
</div>

</div>
<div class="cell border-box-sizing code_cell rendered">
<div class="input">
<div class="prompt input_prompt">In&nbsp;[207]:</div>
<div class="inner_cell">
    <div class="input_area">
<div class=" highlight hl-ipython3"><pre><span></span><span class="nb">print</span><span class="p">(</span><span class="s1">&#39;Test Metrics at 0.5 Threshold with 3 Hidden layer DNN model</span><span class="se">\n</span><span class="s1">&#39;</span><span class="p">)</span>
<span class="n">Test_Metrics_3_HiddenLayer_DNN</span><span class="o">=</span><span class="n">pd</span><span class="o">.</span><span class="n">DataFrame</span><span class="p">(</span><span class="n">data</span><span class="o">=</span><span class="p">[</span><span class="n">accuracy_score</span><span class="p">(</span><span class="n">y_test</span><span class="p">,</span> <span class="n">y_test_preds</span><span class="p">),</span> 
                   <span class="n">recall_score</span><span class="p">(</span><span class="n">y_test_array</span><span class="p">,</span> <span class="n">y_test_preds</span><span class="p">),</span> 
                   <span class="n">precision_score</span><span class="p">(</span><span class="n">y_test_array</span><span class="p">,</span> <span class="n">y_test_preds</span><span class="p">),</span>
                   <span class="n">f1_score</span><span class="p">(</span><span class="n">y_test_array</span><span class="p">,</span> <span class="n">y_test_preds</span><span class="p">)],</span> <span class="n">columns</span><span class="o">=</span><span class="p">[</span><span class="s1">&#39;3 Hidden Layer DNN&#39;</span><span class="p">],</span>
             <span class="n">index</span><span class="o">=</span><span class="p">[</span><span class="s2">&quot;accuracy&quot;</span><span class="p">,</span> <span class="s2">&quot;recall&quot;</span><span class="p">,</span> <span class="s2">&quot;precision&quot;</span><span class="p">,</span> <span class="s2">&quot;f1_score&quot;</span><span class="p">])</span>
<span class="nb">print</span><span class="p">(</span><span class="n">Test_Metrics_3_HiddenLayer_DNN</span><span class="p">)</span>
</pre></div>

    </div>
</div>
</div>

<div class="output_wrapper">
<div class="output">


<div class="output_area">

    <div class="prompt"></div>


<div class="output_subarea output_stream output_stdout output_text">
<pre>Test Metrics at 0.5 Threshold with 3 Hidden layer DNN model

           3 Hidden Layer DNN
accuracy             0.860333
recall               0.507438
precision            0.717290
f1_score             0.594385
</pre>
</div>
</div>

</div>
</div>

</div>
<div class="cell border-box-sizing code_cell rendered">
<div class="input">
<div class="prompt input_prompt">In&nbsp;[208]:</div>
<div class="inner_cell">
    <div class="input_area">
<div class=" highlight hl-ipython3"><pre><span></span><span class="c1"># Confusion matrix with optimal Threshold on test set</span>
<span class="n">metrics</span><span class="o">.</span><span class="n">confusion_matrix</span><span class="p">(</span><span class="n">y_test_array</span><span class="p">,</span> <span class="n">y_test_preds</span><span class="p">)</span>
</pre></div>

    </div>
</div>
</div>

<div class="output_wrapper">
<div class="output">


<div class="output_area">

    <div class="prompt output_prompt">Out[208]:</div>




<div class="output_text output_subarea output_execute_result">
<pre>array([[2274,  121],
       [ 298,  307]])</pre>
</div>

</div>

</div>
</div>

</div>
<div class="cell border-box-sizing code_cell rendered">
<div class="input">
<div class="prompt input_prompt">In&nbsp;[&nbsp;]:</div>
<div class="inner_cell">
    <div class="input_area">
<div class=" highlight hl-ipython3"><pre><span></span> 
</pre></div>

    </div>
</div>
</div>

</div>
    </div>
  </div>
</body>

 


</html>
